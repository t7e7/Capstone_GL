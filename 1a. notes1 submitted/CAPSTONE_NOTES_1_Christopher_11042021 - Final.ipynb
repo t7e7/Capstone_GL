{
 "cells": [
  {
   "cell_type": "code",
   "execution_count": 1,
   "metadata": {},
   "outputs": [
    {
     "name": "stdout",
     "output_type": "stream",
     "text": [
      "numpy version\t: 1.18.5\n",
      "pandas version\t: 1.0.5\n",
      "seaborn version\t: 0.10.1\n"
     ]
    }
   ],
   "source": [
    "# Import libraries\n",
    "import numpy as np\n",
    "print('numpy version\\t:', np.__version__)\n",
    "import pandas as pd\n",
    "print('pandas version\\t:', pd.__version__)\n",
    "import matplotlib.pyplot as plt\n",
    "import seaborn as sns\n",
    "print('seaborn version\\t:', sns.__version__)\n",
    "\n",
    "pd.set_option('display.max_columns', 60)\n",
    "pd.options.display.float_format = '{:.4f}'.format\n",
    "\n",
    "import warnings\n",
    "warnings.filterwarnings(\"ignore\")"
   ]
  },
  {
   "cell_type": "code",
   "execution_count": 2,
   "metadata": {},
   "outputs": [
    {
     "data": {
      "text/html": [
       "<div>\n",
       "<style scoped>\n",
       "    .dataframe tbody tr th:only-of-type {\n",
       "        vertical-align: middle;\n",
       "    }\n",
       "\n",
       "    .dataframe tbody tr th {\n",
       "        vertical-align: top;\n",
       "    }\n",
       "\n",
       "    .dataframe thead th {\n",
       "        text-align: right;\n",
       "    }\n",
       "</style>\n",
       "<table border=\"1\" class=\"dataframe\">\n",
       "  <thead>\n",
       "    <tr style=\"text-align: right;\">\n",
       "      <th></th>\n",
       "      <th>AGREEMENTID</th>\n",
       "      <th>AUTHORIZATIONDATE</th>\n",
       "      <th>BALANCE_EXCESS</th>\n",
       "      <th>BALANCE_TENURE</th>\n",
       "      <th>CITY</th>\n",
       "      <th>COMPLETED_TENURE</th>\n",
       "      <th>CURRENT_INTEREST_RATE</th>\n",
       "      <th>CURRENT_INTEREST_RATE_MAX</th>\n",
       "      <th>CURRENT_INTEREST_RATE_MIN</th>\n",
       "      <th>CURRENT_INTEREST_RATE_CHANGES</th>\n",
       "      <th>CURRENT_TENOR</th>\n",
       "      <th>CUSTOMERID</th>\n",
       "      <th>DIFF_AUTH_INT_DATE</th>\n",
       "      <th>DIFF_CURRENT_INTEREST_RATE_MAX_MIN</th>\n",
       "      <th>DIFF_EMI_AMOUNT_MAX_MIN</th>\n",
       "      <th>DIFF_ORIGINAL_CURRENT_INTEREST_RATE</th>\n",
       "      <th>DIFF_ORIGINAL_CURRENT_TENOR</th>\n",
       "      <th>DPD</th>\n",
       "      <th>DUEDAY</th>\n",
       "      <th>EMI_AMOUNT</th>\n",
       "      <th>EMI_DUEAMT</th>\n",
       "      <th>EMI_OS_AMOUNT</th>\n",
       "      <th>EMI_RECEIVED_AMT</th>\n",
       "      <th>EXCESS_ADJUSTED_AMT</th>\n",
       "      <th>EXCESS_AVAILABLE</th>\n",
       "      <th>FOIR</th>\n",
       "      <th>INTEREST_START_DATE</th>\n",
       "      <th>LAST_RECEIPT_AMOUNT</th>\n",
       "      <th>LAST_RECEIPT_DATE</th>\n",
       "      <th>LATEST_TRANSACTION_MONTH</th>\n",
       "      <th>LOAN_AMT</th>\n",
       "      <th>MAX_EMI_AMOUNT</th>\n",
       "      <th>MIN_EMI_AMOUNT</th>\n",
       "      <th>MONTHOPENING</th>\n",
       "      <th>NET_DISBURSED_AMT</th>\n",
       "      <th>NET_LTV</th>\n",
       "      <th>NET_RECEIVABLE</th>\n",
       "      <th>NUM_EMI_CHANGES</th>\n",
       "      <th>NUM_LOW_FREQ_TRANSACTIONS</th>\n",
       "      <th>ORIGNAL_INTEREST_RATE</th>\n",
       "      <th>ORIGNAL_TENOR</th>\n",
       "      <th>OUTSTANDING_PRINCIPAL</th>\n",
       "      <th>PAID_INTEREST</th>\n",
       "      <th>PAID_PRINCIPAL</th>\n",
       "      <th>PRE_EMI_DUEAMT</th>\n",
       "      <th>PRE_EMI_OS_AMOUNT</th>\n",
       "      <th>PRE_EMI_RECEIVED_AMT</th>\n",
       "      <th>PRODUCT</th>\n",
       "      <th>SCHEMEID</th>\n",
       "      <th>NPA_IN_LAST_MONTH</th>\n",
       "      <th>NPA_IN_CURRENT_MONTH</th>\n",
       "      <th>MOB</th>\n",
       "      <th>FORECLOSURE</th>\n",
       "    </tr>\n",
       "  </thead>\n",
       "  <tbody>\n",
       "    <tr>\n",
       "      <th>0</th>\n",
       "      <td>11220001</td>\n",
       "      <td>2010-08-29</td>\n",
       "      <td>0.0000</td>\n",
       "      <td>0</td>\n",
       "      <td>MUMBAI</td>\n",
       "      <td>45</td>\n",
       "      <td>13.4219</td>\n",
       "      <td>13.7341</td>\n",
       "      <td>13.4219</td>\n",
       "      <td>1</td>\n",
       "      <td>45</td>\n",
       "      <td>12001000.0000</td>\n",
       "      <td>1</td>\n",
       "      <td>0.3121</td>\n",
       "      <td>916441.0000</td>\n",
       "      <td>-2.8092</td>\n",
       "      <td>75</td>\n",
       "      <td>0</td>\n",
       "      <td>1</td>\n",
       "      <td>83559.0000</td>\n",
       "      <td>8614898.2784</td>\n",
       "      <td>175477.7826</td>\n",
       "      <td>8439420.4958</td>\n",
       "      <td>213586.8554</td>\n",
       "      <td>213586.8554</td>\n",
       "      <td>0.6000</td>\n",
       "      <td>2010-08-30</td>\n",
       "      <td>1000000.0000</td>\n",
       "      <td>2014-05-05</td>\n",
       "      <td>5.0000</td>\n",
       "      <td>11710107.2400</td>\n",
       "      <td>1000000.0000</td>\n",
       "      <td>83559.0000</td>\n",
       "      <td>8693575.3278</td>\n",
       "      <td>11710107.2400</td>\n",
       "      <td>40.0600</td>\n",
       "      <td>175477.7826</td>\n",
       "      <td>1</td>\n",
       "      <td>1</td>\n",
       "      <td>10.6127</td>\n",
       "      <td>120</td>\n",
       "      <td>116447.2281</td>\n",
       "      <td>2725722.8838</td>\n",
       "      <td>11593660.0119</td>\n",
       "      <td>7994.2736</td>\n",
       "      <td>0.0000</td>\n",
       "      <td>7994.2736</td>\n",
       "      <td>HL</td>\n",
       "      <td>10901100.0000</td>\n",
       "      <td>NaN</td>\n",
       "      <td>NaN</td>\n",
       "      <td>45</td>\n",
       "      <td>1</td>\n",
       "    </tr>\n",
       "    <tr>\n",
       "      <th>1</th>\n",
       "      <td>11220002</td>\n",
       "      <td>2010-09-15</td>\n",
       "      <td>0.0000</td>\n",
       "      <td>99</td>\n",
       "      <td>MUMBAI</td>\n",
       "      <td>38</td>\n",
       "      <td>13.7341</td>\n",
       "      <td>13.7341</td>\n",
       "      <td>13.7341</td>\n",
       "      <td>0</td>\n",
       "      <td>137</td>\n",
       "      <td>12001001.0000</td>\n",
       "      <td>0</td>\n",
       "      <td>0.0000</td>\n",
       "      <td>0.0000</td>\n",
       "      <td>-3.1214</td>\n",
       "      <td>43</td>\n",
       "      <td>0</td>\n",
       "      <td>1</td>\n",
       "      <td>126530.0000</td>\n",
       "      <td>10619027.2133</td>\n",
       "      <td>279448.0846</td>\n",
       "      <td>10339579.1287</td>\n",
       "      <td>0.0000</td>\n",
       "      <td>0.0000</td>\n",
       "      <td>0.6000</td>\n",
       "      <td>2010-09-15</td>\n",
       "      <td>126530.0000</td>\n",
       "      <td>2013-11-01</td>\n",
       "      <td>11.0000</td>\n",
       "      <td>19290253.3236</td>\n",
       "      <td>126530.0000</td>\n",
       "      <td>126530.0000</td>\n",
       "      <td>17138606.0165</td>\n",
       "      <td>19290253.3236</td>\n",
       "      <td>84.3100</td>\n",
       "      <td>279448.0846</td>\n",
       "      <td>0</td>\n",
       "      <td>0</td>\n",
       "      <td>10.6127</td>\n",
       "      <td>180</td>\n",
       "      <td>12347597.2961</td>\n",
       "      <td>4945153.5911</td>\n",
       "      <td>6942656.0275</td>\n",
       "      <td>100504.5759</td>\n",
       "      <td>0.0000</td>\n",
       "      <td>100504.5759</td>\n",
       "      <td>HL</td>\n",
       "      <td>10901100.0000</td>\n",
       "      <td>NaN</td>\n",
       "      <td>NaN</td>\n",
       "      <td>38</td>\n",
       "      <td>1</td>\n",
       "    </tr>\n",
       "    <tr>\n",
       "      <th>2</th>\n",
       "      <td>11220006</td>\n",
       "      <td>2010-11-02</td>\n",
       "      <td>0.0000</td>\n",
       "      <td>231</td>\n",
       "      <td>MUMBAI</td>\n",
       "      <td>81</td>\n",
       "      <td>15.6069</td>\n",
       "      <td>16.2312</td>\n",
       "      <td>15.6069</td>\n",
       "      <td>2</td>\n",
       "      <td>312</td>\n",
       "      <td>12001005.0000</td>\n",
       "      <td>-1</td>\n",
       "      <td>0.6243</td>\n",
       "      <td>477122.0000</td>\n",
       "      <td>-4.0578</td>\n",
       "      <td>-132</td>\n",
       "      <td>0</td>\n",
       "      <td>5</td>\n",
       "      <td>22878.0000</td>\n",
       "      <td>4670210.6849</td>\n",
       "      <td>0.0000</td>\n",
       "      <td>4670210.6849</td>\n",
       "      <td>1179715.7192</td>\n",
       "      <td>1179715.7192</td>\n",
       "      <td>0.7200</td>\n",
       "      <td>2010-11-01</td>\n",
       "      <td>22878.0000</td>\n",
       "      <td>2017-08-05</td>\n",
       "      <td>8.0000</td>\n",
       "      <td>3933394.9960</td>\n",
       "      <td>500000.0000</td>\n",
       "      <td>22878.0000</td>\n",
       "      <td>3744831.4178</td>\n",
       "      <td>3933394.9960</td>\n",
       "      <td>50.8900</td>\n",
       "      <td>0.0000</td>\n",
       "      <td>2</td>\n",
       "      <td>3</td>\n",
       "      <td>11.5491</td>\n",
       "      <td>180</td>\n",
       "      <td>2994183.5178</td>\n",
       "      <td>2990124.0140</td>\n",
       "      <td>939211.4782</td>\n",
       "      <td>5947.6305</td>\n",
       "      <td>0.0000</td>\n",
       "      <td>5947.6305</td>\n",
       "      <td>HL</td>\n",
       "      <td>10901101.0000</td>\n",
       "      <td>NaN</td>\n",
       "      <td>NaN</td>\n",
       "      <td>81</td>\n",
       "      <td>1</td>\n",
       "    </tr>\n",
       "    <tr>\n",
       "      <th>3</th>\n",
       "      <td>11220008</td>\n",
       "      <td>2010-10-06</td>\n",
       "      <td>0.0000</td>\n",
       "      <td>0</td>\n",
       "      <td>THANE</td>\n",
       "      <td>91</td>\n",
       "      <td>11.2370</td>\n",
       "      <td>13.7341</td>\n",
       "      <td>11.2370</td>\n",
       "      <td>4</td>\n",
       "      <td>91</td>\n",
       "      <td>12001007.0000</td>\n",
       "      <td>0</td>\n",
       "      <td>2.4971</td>\n",
       "      <td>1434259.0000</td>\n",
       "      <td>-0.6243</td>\n",
       "      <td>89</td>\n",
       "      <td>0</td>\n",
       "      <td>1</td>\n",
       "      <td>65741.0000</td>\n",
       "      <td>13130976.8136</td>\n",
       "      <td>63659.2808</td>\n",
       "      <td>13067317.5329</td>\n",
       "      <td>6770848.4170</td>\n",
       "      <td>6770848.4170</td>\n",
       "      <td>0.6000</td>\n",
       "      <td>2010-10-06</td>\n",
       "      <td>65741.0000</td>\n",
       "      <td>2018-05-02</td>\n",
       "      <td>5.0000</td>\n",
       "      <td>10022587.7064</td>\n",
       "      <td>1500000.0000</td>\n",
       "      <td>65741.0000</td>\n",
       "      <td>5747875.2421</td>\n",
       "      <td>10022587.7064</td>\n",
       "      <td>84.6300</td>\n",
       "      <td>63659.2808</td>\n",
       "      <td>3</td>\n",
       "      <td>8</td>\n",
       "      <td>10.6127</td>\n",
       "      <td>180</td>\n",
       "      <td>42951.2021</td>\n",
       "      <td>4648994.2748</td>\n",
       "      <td>9979636.5043</td>\n",
       "      <td>60322.1808</td>\n",
       "      <td>0.0000</td>\n",
       "      <td>60322.1808</td>\n",
       "      <td>HL</td>\n",
       "      <td>10901100.0000</td>\n",
       "      <td>NaN</td>\n",
       "      <td>NaN</td>\n",
       "      <td>91</td>\n",
       "      <td>1</td>\n",
       "    </tr>\n",
       "    <tr>\n",
       "      <th>4</th>\n",
       "      <td>11220010</td>\n",
       "      <td>2010-10-26</td>\n",
       "      <td>0.0000</td>\n",
       "      <td>215</td>\n",
       "      <td>MUMBAI</td>\n",
       "      <td>89</td>\n",
       "      <td>14.9826</td>\n",
       "      <td>15.6069</td>\n",
       "      <td>14.9826</td>\n",
       "      <td>2</td>\n",
       "      <td>304</td>\n",
       "      <td>12001009.0000</td>\n",
       "      <td>0</td>\n",
       "      <td>0.6243</td>\n",
       "      <td>0.0000</td>\n",
       "      <td>-4.0578</td>\n",
       "      <td>-124</td>\n",
       "      <td>0</td>\n",
       "      <td>5</td>\n",
       "      <td>54433.0000</td>\n",
       "      <td>10489232.8208</td>\n",
       "      <td>0.0000</td>\n",
       "      <td>10489232.8208</td>\n",
       "      <td>120218.1110</td>\n",
       "      <td>120218.1110</td>\n",
       "      <td>0.8300</td>\n",
       "      <td>2010-10-26</td>\n",
       "      <td>54433.0000</td>\n",
       "      <td>2018-04-05</td>\n",
       "      <td>4.0000</td>\n",
       "      <td>7755937.3127</td>\n",
       "      <td>54433.0000</td>\n",
       "      <td>54433.0000</td>\n",
       "      <td>7200652.6148</td>\n",
       "      <td>7755937.3127</td>\n",
       "      <td>30.9400</td>\n",
       "      <td>0.0000</td>\n",
       "      <td>0</td>\n",
       "      <td>3</td>\n",
       "      <td>10.9248</td>\n",
       "      <td>180</td>\n",
       "      <td>7200652.6148</td>\n",
       "      <td>6593777.8084</td>\n",
       "      <td>555284.6979</td>\n",
       "      <td>27732.7875</td>\n",
       "      <td>0.0000</td>\n",
       "      <td>27732.7875</td>\n",
       "      <td>HL</td>\n",
       "      <td>10901101.0000</td>\n",
       "      <td>NaN</td>\n",
       "      <td>NaN</td>\n",
       "      <td>90</td>\n",
       "      <td>1</td>\n",
       "    </tr>\n",
       "  </tbody>\n",
       "</table>\n",
       "</div>"
      ],
      "text/plain": [
       "   AGREEMENTID AUTHORIZATIONDATE  BALANCE_EXCESS  BALANCE_TENURE    CITY  \\\n",
       "0     11220001        2010-08-29          0.0000               0  MUMBAI   \n",
       "1     11220002        2010-09-15          0.0000              99  MUMBAI   \n",
       "2     11220006        2010-11-02          0.0000             231  MUMBAI   \n",
       "3     11220008        2010-10-06          0.0000               0   THANE   \n",
       "4     11220010        2010-10-26          0.0000             215  MUMBAI   \n",
       "\n",
       "   COMPLETED_TENURE  CURRENT_INTEREST_RATE  CURRENT_INTEREST_RATE_MAX  \\\n",
       "0                45                13.4219                    13.7341   \n",
       "1                38                13.7341                    13.7341   \n",
       "2                81                15.6069                    16.2312   \n",
       "3                91                11.2370                    13.7341   \n",
       "4                89                14.9826                    15.6069   \n",
       "\n",
       "   CURRENT_INTEREST_RATE_MIN  CURRENT_INTEREST_RATE_CHANGES  CURRENT_TENOR  \\\n",
       "0                    13.4219                              1             45   \n",
       "1                    13.7341                              0            137   \n",
       "2                    15.6069                              2            312   \n",
       "3                    11.2370                              4             91   \n",
       "4                    14.9826                              2            304   \n",
       "\n",
       "     CUSTOMERID  DIFF_AUTH_INT_DATE  DIFF_CURRENT_INTEREST_RATE_MAX_MIN  \\\n",
       "0 12001000.0000                   1                              0.3121   \n",
       "1 12001001.0000                   0                              0.0000   \n",
       "2 12001005.0000                  -1                              0.6243   \n",
       "3 12001007.0000                   0                              2.4971   \n",
       "4 12001009.0000                   0                              0.6243   \n",
       "\n",
       "   DIFF_EMI_AMOUNT_MAX_MIN  DIFF_ORIGINAL_CURRENT_INTEREST_RATE  \\\n",
       "0              916441.0000                              -2.8092   \n",
       "1                   0.0000                              -3.1214   \n",
       "2              477122.0000                              -4.0578   \n",
       "3             1434259.0000                              -0.6243   \n",
       "4                   0.0000                              -4.0578   \n",
       "\n",
       "   DIFF_ORIGINAL_CURRENT_TENOR  DPD  DUEDAY  EMI_AMOUNT    EMI_DUEAMT  \\\n",
       "0                           75    0       1  83559.0000  8614898.2784   \n",
       "1                           43    0       1 126530.0000 10619027.2133   \n",
       "2                         -132    0       5  22878.0000  4670210.6849   \n",
       "3                           89    0       1  65741.0000 13130976.8136   \n",
       "4                         -124    0       5  54433.0000 10489232.8208   \n",
       "\n",
       "   EMI_OS_AMOUNT  EMI_RECEIVED_AMT  EXCESS_ADJUSTED_AMT  EXCESS_AVAILABLE  \\\n",
       "0    175477.7826      8439420.4958          213586.8554       213586.8554   \n",
       "1    279448.0846     10339579.1287               0.0000            0.0000   \n",
       "2         0.0000      4670210.6849         1179715.7192      1179715.7192   \n",
       "3     63659.2808     13067317.5329         6770848.4170      6770848.4170   \n",
       "4         0.0000     10489232.8208          120218.1110       120218.1110   \n",
       "\n",
       "    FOIR INTEREST_START_DATE  LAST_RECEIPT_AMOUNT LAST_RECEIPT_DATE  \\\n",
       "0 0.6000          2010-08-30         1000000.0000        2014-05-05   \n",
       "1 0.6000          2010-09-15          126530.0000        2013-11-01   \n",
       "2 0.7200          2010-11-01           22878.0000        2017-08-05   \n",
       "3 0.6000          2010-10-06           65741.0000        2018-05-02   \n",
       "4 0.8300          2010-10-26           54433.0000        2018-04-05   \n",
       "\n",
       "   LATEST_TRANSACTION_MONTH      LOAN_AMT  MAX_EMI_AMOUNT  MIN_EMI_AMOUNT  \\\n",
       "0                    5.0000 11710107.2400    1000000.0000      83559.0000   \n",
       "1                   11.0000 19290253.3236     126530.0000     126530.0000   \n",
       "2                    8.0000  3933394.9960     500000.0000      22878.0000   \n",
       "3                    5.0000 10022587.7064    1500000.0000      65741.0000   \n",
       "4                    4.0000  7755937.3127      54433.0000      54433.0000   \n",
       "\n",
       "   MONTHOPENING  NET_DISBURSED_AMT  NET_LTV  NET_RECEIVABLE  NUM_EMI_CHANGES  \\\n",
       "0  8693575.3278      11710107.2400  40.0600     175477.7826                1   \n",
       "1 17138606.0165      19290253.3236  84.3100     279448.0846                0   \n",
       "2  3744831.4178       3933394.9960  50.8900          0.0000                2   \n",
       "3  5747875.2421      10022587.7064  84.6300      63659.2808                3   \n",
       "4  7200652.6148       7755937.3127  30.9400          0.0000                0   \n",
       "\n",
       "   NUM_LOW_FREQ_TRANSACTIONS  ORIGNAL_INTEREST_RATE  ORIGNAL_TENOR  \\\n",
       "0                          1                10.6127            120   \n",
       "1                          0                10.6127            180   \n",
       "2                          3                11.5491            180   \n",
       "3                          8                10.6127            180   \n",
       "4                          3                10.9248            180   \n",
       "\n",
       "   OUTSTANDING_PRINCIPAL  PAID_INTEREST  PAID_PRINCIPAL  PRE_EMI_DUEAMT  \\\n",
       "0            116447.2281   2725722.8838   11593660.0119       7994.2736   \n",
       "1          12347597.2961   4945153.5911    6942656.0275     100504.5759   \n",
       "2           2994183.5178   2990124.0140     939211.4782       5947.6305   \n",
       "3             42951.2021   4648994.2748    9979636.5043      60322.1808   \n",
       "4           7200652.6148   6593777.8084     555284.6979      27732.7875   \n",
       "\n",
       "   PRE_EMI_OS_AMOUNT  PRE_EMI_RECEIVED_AMT PRODUCT      SCHEMEID  \\\n",
       "0             0.0000             7994.2736      HL 10901100.0000   \n",
       "1             0.0000           100504.5759      HL 10901100.0000   \n",
       "2             0.0000             5947.6305      HL 10901101.0000   \n",
       "3             0.0000            60322.1808      HL 10901100.0000   \n",
       "4             0.0000            27732.7875      HL 10901101.0000   \n",
       "\n",
       "  NPA_IN_LAST_MONTH NPA_IN_CURRENT_MONTH  MOB  FORECLOSURE  \n",
       "0               NaN                  NaN   45            1  \n",
       "1               NaN                  NaN   38            1  \n",
       "2               NaN                  NaN   81            1  \n",
       "3               NaN                  NaN   91            1  \n",
       "4               NaN                  NaN   90            1  "
      ]
     },
     "execution_count": 2,
     "metadata": {},
     "output_type": "execute_result"
    }
   ],
   "source": [
    "df = pd.read_excel('NBFC Loan Transaction Data.xlsx')\n",
    "df.head()"
   ]
  },
  {
   "cell_type": "code",
   "execution_count": 3,
   "metadata": {},
   "outputs": [
    {
     "name": "stdout",
     "output_type": "stream",
     "text": [
      "The number of rows (observations) is 20012 \n",
      "The number of columns (variables) is 53\n"
     ]
    }
   ],
   "source": [
    "print('The number of rows (observations) is',df.shape[0],'\\n''The number of columns (variables) is',df.shape[1])"
   ]
  },
  {
   "cell_type": "code",
   "execution_count": 4,
   "metadata": {},
   "outputs": [
    {
     "name": "stdout",
     "output_type": "stream",
     "text": [
      "<class 'pandas.core.frame.DataFrame'>\n",
      "RangeIndex: 20012 entries, 0 to 20011\n",
      "Data columns (total 53 columns):\n",
      " #   Column                               Non-Null Count  Dtype         \n",
      "---  ------                               --------------  -----         \n",
      " 0   AGREEMENTID                          20012 non-null  int64         \n",
      " 1   AUTHORIZATIONDATE                    20012 non-null  datetime64[ns]\n",
      " 2   BALANCE_EXCESS                       20012 non-null  float64       \n",
      " 3   BALANCE_TENURE                       20012 non-null  int64         \n",
      " 4   CITY                                 20012 non-null  object        \n",
      " 5   COMPLETED_TENURE                     20012 non-null  int64         \n",
      " 6   CURRENT_INTEREST_RATE                20012 non-null  float64       \n",
      " 7   CURRENT_INTEREST_RATE_MAX            20012 non-null  float64       \n",
      " 8   CURRENT_INTEREST_RATE_MIN            20012 non-null  float64       \n",
      " 9   CURRENT_INTEREST_RATE_CHANGES        20012 non-null  int64         \n",
      " 10  CURRENT_TENOR                        20012 non-null  int64         \n",
      " 11  CUSTOMERID                           19731 non-null  float64       \n",
      " 12  DIFF_AUTH_INT_DATE                   20012 non-null  int64         \n",
      " 13  DIFF_CURRENT_INTEREST_RATE_MAX_MIN   20012 non-null  float64       \n",
      " 14  DIFF_EMI_AMOUNT_MAX_MIN              19923 non-null  float64       \n",
      " 15  DIFF_ORIGINAL_CURRENT_INTEREST_RATE  20012 non-null  float64       \n",
      " 16  DIFF_ORIGINAL_CURRENT_TENOR          20012 non-null  int64         \n",
      " 17  DPD                                  20012 non-null  int64         \n",
      " 18  DUEDAY                               20012 non-null  int64         \n",
      " 19  EMI_AMOUNT                           20012 non-null  float64       \n",
      " 20  EMI_DUEAMT                           20012 non-null  float64       \n",
      " 21  EMI_OS_AMOUNT                        20012 non-null  float64       \n",
      " 22  EMI_RECEIVED_AMT                     20012 non-null  float64       \n",
      " 23  EXCESS_ADJUSTED_AMT                  20012 non-null  float64       \n",
      " 24  EXCESS_AVAILABLE                     20012 non-null  float64       \n",
      " 25  FOIR                                 20012 non-null  float64       \n",
      " 26  INTEREST_START_DATE                  20012 non-null  datetime64[ns]\n",
      " 27  LAST_RECEIPT_AMOUNT                  19765 non-null  float64       \n",
      " 28  LAST_RECEIPT_DATE                    19937 non-null  datetime64[ns]\n",
      " 29  LATEST_TRANSACTION_MONTH             19937 non-null  float64       \n",
      " 30  LOAN_AMT                             20012 non-null  float64       \n",
      " 31  MAX_EMI_AMOUNT                       19923 non-null  float64       \n",
      " 32  MIN_EMI_AMOUNT                       19923 non-null  float64       \n",
      " 33  MONTHOPENING                         20012 non-null  float64       \n",
      " 34  NET_DISBURSED_AMT                    20012 non-null  float64       \n",
      " 35  NET_LTV                              20012 non-null  float64       \n",
      " 36  NET_RECEIVABLE                       20012 non-null  float64       \n",
      " 37  NUM_EMI_CHANGES                      20012 non-null  int64         \n",
      " 38  NUM_LOW_FREQ_TRANSACTIONS            20012 non-null  int64         \n",
      " 39  ORIGNAL_INTEREST_RATE                20012 non-null  float64       \n",
      " 40  ORIGNAL_TENOR                        20012 non-null  int64         \n",
      " 41  OUTSTANDING_PRINCIPAL                20012 non-null  float64       \n",
      " 42  PAID_INTEREST                        20012 non-null  float64       \n",
      " 43  PAID_PRINCIPAL                       20012 non-null  float64       \n",
      " 44  PRE_EMI_DUEAMT                       20012 non-null  float64       \n",
      " 45  PRE_EMI_OS_AMOUNT                    20012 non-null  float64       \n",
      " 46  PRE_EMI_RECEIVED_AMT                 20012 non-null  float64       \n",
      " 47  PRODUCT                              20012 non-null  object        \n",
      " 48  SCHEMEID                             19731 non-null  float64       \n",
      " 49  NPA_IN_LAST_MONTH                    119 non-null    object        \n",
      " 50  NPA_IN_CURRENT_MONTH                 119 non-null    object        \n",
      " 51  MOB                                  20012 non-null  int64         \n",
      " 52  FORECLOSURE                          20012 non-null  int64         \n",
      "dtypes: datetime64[ns](3), float64(32), int64(14), object(4)\n",
      "memory usage: 8.1+ MB\n"
     ]
    }
   ],
   "source": [
    "df.info()"
   ]
  },
  {
   "cell_type": "code",
   "execution_count": 5,
   "metadata": {},
   "outputs": [
    {
     "data": {
      "text/plain": [
       "float64           32\n",
       "int64             14\n",
       "object             4\n",
       "datetime64[ns]     3\n",
       "dtype: int64"
      ]
     },
     "execution_count": 5,
     "metadata": {},
     "output_type": "execute_result"
    }
   ],
   "source": [
    "df.dtypes.value_counts()\n"
   ]
  },
  {
   "cell_type": "code",
   "execution_count": 6,
   "metadata": {},
   "outputs": [],
   "source": [
    "dup_rows = df.duplicated()"
   ]
  },
  {
   "cell_type": "code",
   "execution_count": 7,
   "metadata": {},
   "outputs": [
    {
     "name": "stdout",
     "output_type": "stream",
     "text": [
      "Number of duplicate rows = 0\n",
      "(20012, 53)\n"
     ]
    }
   ],
   "source": [
    "df.drop_duplicates(inplace=True)\n",
    "df.shape\n",
    "print('Number of duplicate rows = %d' % (dup_rows.sum()))\n",
    "print(df.shape)"
   ]
  },
  {
   "cell_type": "code",
   "execution_count": 8,
   "metadata": {},
   "outputs": [
    {
     "data": {
      "text/plain": [
       "CUSTOMERID                    281\n",
       "DIFF_EMI_AMOUNT_MAX_MIN        89\n",
       "LAST_RECEIPT_AMOUNT           247\n",
       "LAST_RECEIPT_DATE              75\n",
       "LATEST_TRANSACTION_MONTH       75\n",
       "MAX_EMI_AMOUNT                 89\n",
       "MIN_EMI_AMOUNT                 89\n",
       "SCHEMEID                      281\n",
       "NPA_IN_LAST_MONTH           19893\n",
       "NPA_IN_CURRENT_MONTH        19893\n",
       "dtype: int64"
      ]
     },
     "execution_count": 8,
     "metadata": {},
     "output_type": "execute_result"
    }
   ],
   "source": [
    "null = df.columns[df.isnull().any()]\n",
    "df[null].isnull().sum()"
   ]
  },
  {
   "cell_type": "code",
   "execution_count": 9,
   "metadata": {},
   "outputs": [
    {
     "data": {
      "text/plain": [
       "41012"
      ]
     },
     "execution_count": 9,
     "metadata": {},
     "output_type": "execute_result"
    }
   ],
   "source": [
    "df[null].isnull().sum().sum()"
   ]
  },
  {
   "cell_type": "code",
   "execution_count": 10,
   "metadata": {},
   "outputs": [
    {
     "data": {
      "text/plain": [
       "41012"
      ]
     },
     "execution_count": 10,
     "metadata": {},
     "output_type": "execute_result"
    }
   ],
   "source": [
    "df[null].isnull().sum().sum()"
   ]
  },
  {
   "cell_type": "code",
   "execution_count": 11,
   "metadata": {},
   "outputs": [
    {
     "data": {
      "text/plain": [
       "CUSTOMERID                  1.4000\n",
       "DIFF_EMI_AMOUNT_MAX_MIN     0.4400\n",
       "LAST_RECEIPT_AMOUNT         1.2300\n",
       "LAST_RECEIPT_DATE           0.3700\n",
       "LATEST_TRANSACTION_MONTH    0.3700\n",
       "MAX_EMI_AMOUNT              0.4400\n",
       "MIN_EMI_AMOUNT              0.4400\n",
       "SCHEMEID                    1.4000\n",
       "NPA_IN_LAST_MONTH          99.4100\n",
       "NPA_IN_CURRENT_MONTH       99.4100\n",
       "dtype: float64"
      ]
     },
     "execution_count": 11,
     "metadata": {},
     "output_type": "execute_result"
    }
   ],
   "source": [
    "Null_Perc = round(df[null].isnull().sum()/len(df)*100,2)\n",
    "Null_Perc"
   ]
  },
  {
   "cell_type": "code",
   "execution_count": 12,
   "metadata": {},
   "outputs": [
    {
     "data": {
      "image/png": "[encoded data removed]",
      "text/plain": [
       "<Figure size 864x576 with 1 Axes>"
      ]
     },
     "metadata": {
      "needs_background": "light"
     },
     "output_type": "display_data"
    }
   ],
   "source": [
    "plt.figure(figsize = (12,8))\n",
    "sns.heatmap(df.isnull(), cbar = False, cmap = 'coolwarm', yticklabels = False)\n",
    "plt.show()"
   ]
  },
  {
   "cell_type": "code",
   "execution_count": 13,
   "metadata": {},
   "outputs": [],
   "source": [
    "df1 = df.drop('CUSTOMERID', axis = 1) \n",
    "# Customer Id has few missing values and the data is unique at a agremment id level,\n",
    "# which will not help in foreclosure prediction, which can be dropped."
   ]
  },
  {
   "cell_type": "code",
   "execution_count": 14,
   "metadata": {},
   "outputs": [],
   "source": [
    "df1 = df1.drop('SCHEMEID', axis = 1) \n",
    "# Scheme Id has few missing values and the data has no extra information, \n",
    "# which will not help in foreclosure prediction, which can be dropped."
   ]
  },
  {
   "cell_type": "code",
   "execution_count": 15,
   "metadata": {},
   "outputs": [],
   "source": [
    "df1 = df1.drop('MOB', axis = 1) \n",
    "# MOB is an internal code and the data has no extra information, \n",
    "# which will not help in foreclosure prediction, which can be dropped."
   ]
  },
  {
   "cell_type": "code",
   "execution_count": 16,
   "metadata": {},
   "outputs": [
    {
     "data": {
      "text/html": [
       "<div>\n",
       "<style scoped>\n",
       "    .dataframe tbody tr th:only-of-type {\n",
       "        vertical-align: middle;\n",
       "    }\n",
       "\n",
       "    .dataframe tbody tr th {\n",
       "        vertical-align: top;\n",
       "    }\n",
       "\n",
       "    .dataframe thead th {\n",
       "        text-align: right;\n",
       "    }\n",
       "</style>\n",
       "<table border=\"1\" class=\"dataframe\">\n",
       "  <thead>\n",
       "    <tr style=\"text-align: right;\">\n",
       "      <th>FORECLOSURE</th>\n",
       "      <th>0</th>\n",
       "      <th>1</th>\n",
       "      <th>All</th>\n",
       "    </tr>\n",
       "    <tr>\n",
       "      <th>NPA_IN_LAST_MONTH</th>\n",
       "      <th></th>\n",
       "      <th></th>\n",
       "      <th></th>\n",
       "    </tr>\n",
       "  </thead>\n",
       "  <tbody>\n",
       "    <tr>\n",
       "      <th>0</th>\n",
       "      <td>69</td>\n",
       "      <td>33</td>\n",
       "      <td>102</td>\n",
       "    </tr>\n",
       "    <tr>\n",
       "      <th>#N/</th>\n",
       "      <td>2</td>\n",
       "      <td>0</td>\n",
       "      <td>2</td>\n",
       "    </tr>\n",
       "    <tr>\n",
       "      <th>Yes</th>\n",
       "      <td>13</td>\n",
       "      <td>2</td>\n",
       "      <td>15</td>\n",
       "    </tr>\n",
       "    <tr>\n",
       "      <th>All</th>\n",
       "      <td>84</td>\n",
       "      <td>35</td>\n",
       "      <td>119</td>\n",
       "    </tr>\n",
       "  </tbody>\n",
       "</table>\n",
       "</div>"
      ],
      "text/plain": [
       "FORECLOSURE         0   1  All\n",
       "NPA_IN_LAST_MONTH             \n",
       "0                  69  33  102\n",
       "#N/                 2   0    2\n",
       "Yes                13   2   15\n",
       "All                84  35  119"
      ]
     },
     "execution_count": 16,
     "metadata": {},
     "output_type": "execute_result"
    }
   ],
   "source": [
    "pd.crosstab(df.NPA_IN_LAST_MONTH, df.FORECLOSURE,  margins=True)\n",
    "# NPA_IN_LAST_MONTH variable has 99.41 misssing values and only 2 Foreclosure's of 15 NPA's, which is not a good predictor.\n",
    "# So will drop this variable."
   ]
  },
  {
   "cell_type": "code",
   "execution_count": 17,
   "metadata": {},
   "outputs": [],
   "source": [
    "df1 = df1.drop('NPA_IN_LAST_MONTH', axis = 1) "
   ]
  },
  {
   "cell_type": "code",
   "execution_count": 18,
   "metadata": {},
   "outputs": [
    {
     "data": {
      "text/html": [
       "<div>\n",
       "<style scoped>\n",
       "    .dataframe tbody tr th:only-of-type {\n",
       "        vertical-align: middle;\n",
       "    }\n",
       "\n",
       "    .dataframe tbody tr th {\n",
       "        vertical-align: top;\n",
       "    }\n",
       "\n",
       "    .dataframe thead th {\n",
       "        text-align: right;\n",
       "    }\n",
       "</style>\n",
       "<table border=\"1\" class=\"dataframe\">\n",
       "  <thead>\n",
       "    <tr style=\"text-align: right;\">\n",
       "      <th>FORECLOSURE</th>\n",
       "      <th>0</th>\n",
       "      <th>1</th>\n",
       "      <th>All</th>\n",
       "    </tr>\n",
       "    <tr>\n",
       "      <th>NPA_IN_CURRENT_MONTH</th>\n",
       "      <th></th>\n",
       "      <th></th>\n",
       "      <th></th>\n",
       "    </tr>\n",
       "  </thead>\n",
       "  <tbody>\n",
       "    <tr>\n",
       "      <th>0</th>\n",
       "      <td>70</td>\n",
       "      <td>33</td>\n",
       "      <td>103</td>\n",
       "    </tr>\n",
       "    <tr>\n",
       "      <th>Yes</th>\n",
       "      <td>14</td>\n",
       "      <td>2</td>\n",
       "      <td>16</td>\n",
       "    </tr>\n",
       "    <tr>\n",
       "      <th>All</th>\n",
       "      <td>84</td>\n",
       "      <td>35</td>\n",
       "      <td>119</td>\n",
       "    </tr>\n",
       "  </tbody>\n",
       "</table>\n",
       "</div>"
      ],
      "text/plain": [
       "FORECLOSURE            0   1  All\n",
       "NPA_IN_CURRENT_MONTH             \n",
       "0                     70  33  103\n",
       "Yes                   14   2   16\n",
       "All                   84  35  119"
      ]
     },
     "execution_count": 18,
     "metadata": {},
     "output_type": "execute_result"
    }
   ],
   "source": [
    "pd.crosstab(df.NPA_IN_CURRENT_MONTH, df.FORECLOSURE,  margins=True)\n",
    "# NPA_IN_CURRENT_MONTH variable has 99.41 misssing values and only 2 Foreclosure's of 16 NPA's, which is not a good predictor.\n",
    "# So will drop this variable."
   ]
  },
  {
   "cell_type": "code",
   "execution_count": 19,
   "metadata": {},
   "outputs": [],
   "source": [
    "df1 = df1.drop('NPA_IN_CURRENT_MONTH', axis = 1) "
   ]
  },
  {
   "cell_type": "code",
   "execution_count": 20,
   "metadata": {},
   "outputs": [
    {
     "data": {
      "text/plain": [
       "count     19923.0000\n",
       "mean       7045.0255\n",
       "std       43425.4883\n",
       "min           0.0100\n",
       "25%         118.0000\n",
       "50%         133.1800\n",
       "75%        3334.0000\n",
       "max     3156965.0000\n",
       "Name: MIN_EMI_AMOUNT, dtype: float64"
      ]
     },
     "execution_count": 20,
     "metadata": {},
     "output_type": "execute_result"
    }
   ],
   "source": [
    "df1['MIN_EMI_AMOUNT'].describe()"
   ]
  },
  {
   "cell_type": "code",
   "execution_count": 21,
   "metadata": {},
   "outputs": [],
   "source": [
    "median = df1['MIN_EMI_AMOUNT'].median()\n",
    "df1['MIN_EMI_AMOUNT'].fillna(value=median,inplace=True)"
   ]
  },
  {
   "cell_type": "code",
   "execution_count": 22,
   "metadata": {},
   "outputs": [
    {
     "data": {
      "text/plain": [
       "count     20012.0000\n",
       "mean       7014.2862\n",
       "std       43331.2530\n",
       "min           0.0100\n",
       "25%         118.0000\n",
       "50%         133.1800\n",
       "75%        3299.2500\n",
       "max     3156965.0000\n",
       "Name: MIN_EMI_AMOUNT, dtype: float64"
      ]
     },
     "execution_count": 22,
     "metadata": {},
     "output_type": "execute_result"
    }
   ],
   "source": [
    "df1['MIN_EMI_AMOUNT'].describe()"
   ]
  },
  {
   "cell_type": "code",
   "execution_count": 23,
   "metadata": {},
   "outputs": [
    {
     "data": {
      "text/plain": [
       "count      19923.0000\n",
       "mean      122254.4415\n",
       "std       970451.5905\n",
       "min           13.3400\n",
       "25%        13318.0000\n",
       "50%        23600.0000\n",
       "75%        49360.5000\n",
       "max     84968811.9000\n",
       "Name: MAX_EMI_AMOUNT, dtype: float64"
      ]
     },
     "execution_count": 23,
     "metadata": {},
     "output_type": "execute_result"
    }
   ],
   "source": [
    "df1['MAX_EMI_AMOUNT'].describe()"
   ]
  },
  {
   "cell_type": "code",
   "execution_count": 24,
   "metadata": {},
   "outputs": [],
   "source": [
    "median = df1['MAX_EMI_AMOUNT'].median()\n",
    "df1['MAX_EMI_AMOUNT'].fillna(value=median,inplace=True)"
   ]
  },
  {
   "cell_type": "code",
   "execution_count": 25,
   "metadata": {},
   "outputs": [
    {
     "data": {
      "text/plain": [
       "count      20012.0000\n",
       "mean      121815.6924\n",
       "std       968313.3702\n",
       "min           13.3400\n",
       "25%        13352.0000\n",
       "50%        23600.0000\n",
       "75%        49220.5000\n",
       "max     84968811.9000\n",
       "Name: MAX_EMI_AMOUNT, dtype: float64"
      ]
     },
     "execution_count": 25,
     "metadata": {},
     "output_type": "execute_result"
    }
   ],
   "source": [
    "df1['MAX_EMI_AMOUNT'].describe()"
   ]
  },
  {
   "cell_type": "code",
   "execution_count": 26,
   "metadata": {},
   "outputs": [
    {
     "data": {
      "text/plain": [
       "count      19923.0000\n",
       "mean      115209.4159\n",
       "std       967082.4406\n",
       "min            0.0000\n",
       "25%        10207.0000\n",
       "50%        19885.0000\n",
       "75%        42466.4850\n",
       "max     84968249.9000\n",
       "Name: DIFF_EMI_AMOUNT_MAX_MIN, dtype: float64"
      ]
     },
     "execution_count": 26,
     "metadata": {},
     "output_type": "execute_result"
    }
   ],
   "source": [
    "df1['DIFF_EMI_AMOUNT_MAX_MIN'].describe()"
   ]
  },
  {
   "cell_type": "code",
   "execution_count": 27,
   "metadata": {},
   "outputs": [],
   "source": [
    "median = df1['DIFF_EMI_AMOUNT_MAX_MIN'].median()\n",
    "df1['DIFF_EMI_AMOUNT_MAX_MIN'].fillna(value=median,inplace=True)"
   ]
  },
  {
   "cell_type": "code",
   "execution_count": 28,
   "metadata": {},
   "outputs": [
    {
     "data": {
      "text/plain": [
       "count      20012.0000\n",
       "mean      114785.4766\n",
       "std       964950.3164\n",
       "min            0.0000\n",
       "25%        10253.0000\n",
       "50%        19885.0000\n",
       "75%        42242.5000\n",
       "max     84968249.9000\n",
       "Name: DIFF_EMI_AMOUNT_MAX_MIN, dtype: float64"
      ]
     },
     "execution_count": 28,
     "metadata": {},
     "output_type": "execute_result"
    }
   ],
   "source": [
    "df1['DIFF_EMI_AMOUNT_MAX_MIN'].describe()"
   ]
  },
  {
   "cell_type": "code",
   "execution_count": 29,
   "metadata": {},
   "outputs": [
    {
     "data": {
      "text/plain": [
       "count   19937.0000\n",
       "mean       10.6922\n",
       "std         2.8214\n",
       "min         1.0000\n",
       "25%        12.0000\n",
       "50%        12.0000\n",
       "75%        12.0000\n",
       "max        12.0000\n",
       "Name: LATEST_TRANSACTION_MONTH, dtype: float64"
      ]
     },
     "execution_count": 29,
     "metadata": {},
     "output_type": "execute_result"
    }
   ],
   "source": [
    "df1['LATEST_TRANSACTION_MONTH'].describe()"
   ]
  },
  {
   "cell_type": "code",
   "execution_count": 30,
   "metadata": {},
   "outputs": [],
   "source": [
    "median = df1['LATEST_TRANSACTION_MONTH'].median()\n",
    "df1['LATEST_TRANSACTION_MONTH'].fillna(value=median,inplace=True)"
   ]
  },
  {
   "cell_type": "code",
   "execution_count": 31,
   "metadata": {},
   "outputs": [
    {
     "data": {
      "text/plain": [
       "count   20012.0000\n",
       "mean       10.6971\n",
       "std         2.8173\n",
       "min         1.0000\n",
       "25%        12.0000\n",
       "50%        12.0000\n",
       "75%        12.0000\n",
       "max        12.0000\n",
       "Name: LATEST_TRANSACTION_MONTH, dtype: float64"
      ]
     },
     "execution_count": 31,
     "metadata": {},
     "output_type": "execute_result"
    }
   ],
   "source": [
    "df1['LATEST_TRANSACTION_MONTH'].describe()"
   ]
  },
  {
   "cell_type": "code",
   "execution_count": 32,
   "metadata": {},
   "outputs": [
    {
     "data": {
      "text/plain": [
       "count      19765.0000\n",
       "mean       80674.4580\n",
       "std       808402.6951\n",
       "min            1.0000\n",
       "25%        11061.0000\n",
       "50%        19642.0000\n",
       "75%        38219.0000\n",
       "max     84968811.9000\n",
       "Name: LAST_RECEIPT_AMOUNT, dtype: float64"
      ]
     },
     "execution_count": 32,
     "metadata": {},
     "output_type": "execute_result"
    }
   ],
   "source": [
    "df1['LAST_RECEIPT_AMOUNT'].describe()"
   ]
  },
  {
   "cell_type": "code",
   "execution_count": 33,
   "metadata": {},
   "outputs": [],
   "source": [
    "median = df1['LAST_RECEIPT_AMOUNT'].median()\n",
    "df1['LAST_RECEIPT_AMOUNT'].fillna(value=median,inplace=True)"
   ]
  },
  {
   "cell_type": "code",
   "execution_count": 34,
   "metadata": {},
   "outputs": [
    {
     "data": {
      "text/plain": [
       "count      20012.0000\n",
       "mean       79921.1591\n",
       "std       803426.3223\n",
       "min            1.0000\n",
       "25%        11167.0000\n",
       "50%        19642.0000\n",
       "75%        37848.2500\n",
       "max     84968811.9000\n",
       "Name: LAST_RECEIPT_AMOUNT, dtype: float64"
      ]
     },
     "execution_count": 34,
     "metadata": {},
     "output_type": "execute_result"
    }
   ],
   "source": [
    "df1['LAST_RECEIPT_AMOUNT'].describe()"
   ]
  },
  {
   "cell_type": "code",
   "execution_count": 35,
   "metadata": {},
   "outputs": [
    {
     "data": {
      "text/plain": [
       "count                   19937\n",
       "unique                    721\n",
       "top       2018-12-05 00:00:00\n",
       "freq                    11512\n",
       "first     2013-10-10 00:00:00\n",
       "last      2019-01-01 00:00:00\n",
       "Name: LAST_RECEIPT_DATE, dtype: object"
      ]
     },
     "execution_count": 35,
     "metadata": {},
     "output_type": "execute_result"
    }
   ],
   "source": [
    "df1['LAST_RECEIPT_DATE'].describe()"
   ]
  },
  {
   "cell_type": "code",
   "execution_count": 36,
   "metadata": {},
   "outputs": [],
   "source": [
    "mode = df1['LAST_RECEIPT_DATE'].mode()\n",
    "df1['LAST_RECEIPT_DATE'].fillna(value='mode',inplace=True)"
   ]
  },
  {
   "cell_type": "code",
   "execution_count": 37,
   "metadata": {},
   "outputs": [
    {
     "data": {
      "text/plain": [
       "count                   20012\n",
       "unique                    722\n",
       "top       2018-12-05 00:00:00\n",
       "freq                    11512\n",
       "Name: LAST_RECEIPT_DATE, dtype: object"
      ]
     },
     "execution_count": 37,
     "metadata": {},
     "output_type": "execute_result"
    }
   ],
   "source": [
    "df1['LAST_RECEIPT_DATE'].describe()"
   ]
  },
  {
   "cell_type": "code",
   "execution_count": 38,
   "metadata": {},
   "outputs": [
    {
     "data": {
      "text/plain": [
       "0"
      ]
     },
     "execution_count": 38,
     "metadata": {},
     "output_type": "execute_result"
    }
   ],
   "source": [
    "df1.isnull().sum().sum()"
   ]
  },
  {
   "cell_type": "code",
   "execution_count": 39,
   "metadata": {},
   "outputs": [
    {
     "data": {
      "text/plain": [
       "AGREEMENTID                           0.0000\n",
       "AUTHORIZATIONDATE                     0.0000\n",
       "BALANCE_EXCESS                        0.0000\n",
       "BALANCE_TENURE                        0.0000\n",
       "CITY                                  0.0000\n",
       "COMPLETED_TENURE                      0.0000\n",
       "CURRENT_INTEREST_RATE                 0.0000\n",
       "CURRENT_INTEREST_RATE_MAX             0.0000\n",
       "CURRENT_INTEREST_RATE_MIN             0.0000\n",
       "CURRENT_INTEREST_RATE_CHANGES         0.0000\n",
       "CURRENT_TENOR                         0.0000\n",
       "DIFF_AUTH_INT_DATE                    0.0000\n",
       "DIFF_CURRENT_INTEREST_RATE_MAX_MIN    0.0000\n",
       "DIFF_EMI_AMOUNT_MAX_MIN               0.0000\n",
       "DIFF_ORIGINAL_CURRENT_INTEREST_RATE   0.0000\n",
       "DIFF_ORIGINAL_CURRENT_TENOR           0.0000\n",
       "DPD                                   0.0000\n",
       "DUEDAY                                0.0000\n",
       "EMI_AMOUNT                            0.0000\n",
       "EMI_DUEAMT                            0.0000\n",
       "EMI_OS_AMOUNT                         0.0000\n",
       "EMI_RECEIVED_AMT                      0.0000\n",
       "EXCESS_ADJUSTED_AMT                   0.0000\n",
       "EXCESS_AVAILABLE                      0.0000\n",
       "FOIR                                  0.0000\n",
       "INTEREST_START_DATE                   0.0000\n",
       "LAST_RECEIPT_AMOUNT                   0.0000\n",
       "LAST_RECEIPT_DATE                     0.0000\n",
       "LATEST_TRANSACTION_MONTH              0.0000\n",
       "LOAN_AMT                              0.0000\n",
       "MAX_EMI_AMOUNT                        0.0000\n",
       "MIN_EMI_AMOUNT                        0.0000\n",
       "MONTHOPENING                          0.0000\n",
       "NET_DISBURSED_AMT                     0.0000\n",
       "NET_LTV                               0.0000\n",
       "NET_RECEIVABLE                        0.0000\n",
       "NUM_EMI_CHANGES                       0.0000\n",
       "NUM_LOW_FREQ_TRANSACTIONS             0.0000\n",
       "ORIGNAL_INTEREST_RATE                 0.0000\n",
       "ORIGNAL_TENOR                         0.0000\n",
       "OUTSTANDING_PRINCIPAL                 0.0000\n",
       "PAID_INTEREST                         0.0000\n",
       "PAID_PRINCIPAL                        0.0000\n",
       "PRE_EMI_DUEAMT                        0.0000\n",
       "PRE_EMI_OS_AMOUNT                     0.0000\n",
       "PRE_EMI_RECEIVED_AMT                  0.0000\n",
       "PRODUCT                               0.0000\n",
       "FORECLOSURE                           0.0000\n",
       "dtype: float64"
      ]
     },
     "execution_count": 39,
     "metadata": {},
     "output_type": "execute_result"
    }
   ],
   "source": [
    "Null_Perc_final = round(df1.isnull().sum()/len(df1)*100,2)\n",
    "Null_Perc_final"
   ]
  },
  {
   "cell_type": "code",
   "execution_count": 40,
   "metadata": {},
   "outputs": [
    {
     "data": {
      "text/plain": [
       "Index(['AGREEMENTID', 'AUTHORIZATIONDATE', 'BALANCE_EXCESS', 'BALANCE_TENURE',\n",
       "       'CITY', 'COMPLETED_TENURE', 'CURRENT_INTEREST_RATE',\n",
       "       'CURRENT_INTEREST_RATE_MAX', 'CURRENT_INTEREST_RATE_MIN',\n",
       "       'CURRENT_INTEREST_RATE_CHANGES', 'CURRENT_TENOR', 'DIFF_AUTH_INT_DATE',\n",
       "       'DIFF_CURRENT_INTEREST_RATE_MAX_MIN', 'DIFF_EMI_AMOUNT_MAX_MIN',\n",
       "       'DIFF_ORIGINAL_CURRENT_INTEREST_RATE', 'DIFF_ORIGINAL_CURRENT_TENOR',\n",
       "       'DPD', 'DUEDAY', 'EMI_AMOUNT', 'EMI_DUEAMT', 'EMI_OS_AMOUNT',\n",
       "       'EMI_RECEIVED_AMT', 'EXCESS_ADJUSTED_AMT', 'EXCESS_AVAILABLE', 'FOIR',\n",
       "       'INTEREST_START_DATE', 'LAST_RECEIPT_AMOUNT', 'LAST_RECEIPT_DATE',\n",
       "       'LATEST_TRANSACTION_MONTH', 'LOAN_AMT', 'MAX_EMI_AMOUNT',\n",
       "       'MIN_EMI_AMOUNT', 'MONTHOPENING', 'NET_DISBURSED_AMT', 'NET_LTV',\n",
       "       'NET_RECEIVABLE', 'NUM_EMI_CHANGES', 'NUM_LOW_FREQ_TRANSACTIONS',\n",
       "       'ORIGNAL_INTEREST_RATE', 'ORIGNAL_TENOR', 'OUTSTANDING_PRINCIPAL',\n",
       "       'PAID_INTEREST', 'PAID_PRINCIPAL', 'PRE_EMI_DUEAMT',\n",
       "       'PRE_EMI_OS_AMOUNT', 'PRE_EMI_RECEIVED_AMT', 'PRODUCT', 'FORECLOSURE'],\n",
       "      dtype='object')"
      ]
     },
     "execution_count": 40,
     "metadata": {},
     "output_type": "execute_result"
    }
   ],
   "source": [
    "df1.columns"
   ]
  },
  {
   "cell_type": "code",
   "execution_count": 41,
   "metadata": {},
   "outputs": [],
   "source": [
    "test_vars_all = ['AGREEMENTID', 'AUTHORIZATIONDATE', 'BALANCE_EXCESS', 'BALANCE_TENURE',\n",
    "       'CITY', 'COMPLETED_TENURE', 'CURRENT_INTEREST_RATE',\n",
    "       'CURRENT_INTEREST_RATE_MAX', 'CURRENT_INTEREST_RATE_MIN',\n",
    "       'CURRENT_INTEREST_RATE_CHANGES', 'CURRENT_TENOR', 'DIFF_AUTH_INT_DATE',\n",
    "       'DIFF_CURRENT_INTEREST_RATE_MAX_MIN', 'DIFF_EMI_AMOUNT_MAX_MIN',\n",
    "       'DIFF_ORIGINAL_CURRENT_INTEREST_RATE', 'DIFF_ORIGINAL_CURRENT_TENOR',\n",
    "       'DPD', 'DUEDAY', 'EMI_AMOUNT', 'EMI_DUEAMT', 'EMI_OS_AMOUNT',\n",
    "       'EMI_RECEIVED_AMT', 'EXCESS_ADJUSTED_AMT', 'EXCESS_AVAILABLE', 'FOIR',\n",
    "       'INTEREST_START_DATE', 'LAST_RECEIPT_AMOUNT', 'LAST_RECEIPT_DATE',\n",
    "       'LATEST_TRANSACTION_MONTH', 'LOAN_AMT', 'MAX_EMI_AMOUNT',\n",
    "       'MIN_EMI_AMOUNT', 'MONTHOPENING', 'NET_DISBURSED_AMT', 'NET_LTV',\n",
    "       'NET_RECEIVABLE', 'NUM_EMI_CHANGES', 'NUM_LOW_FREQ_TRANSACTIONS',\n",
    "       'ORIGNAL_INTEREST_RATE', 'ORIGNAL_TENOR', 'OUTSTANDING_PRINCIPAL',\n",
    "       'PAID_INTEREST', 'PAID_PRINCIPAL', 'PRE_EMI_DUEAMT',\n",
    "       'PRE_EMI_OS_AMOUNT', 'PRE_EMI_RECEIVED_AMT', 'PRODUCT', 'FORECLOSURE']\n"
   ]
  },
  {
   "cell_type": "code",
   "execution_count": 42,
   "metadata": {},
   "outputs": [
    {
     "data": {
      "text/plain": [
       "<matplotlib.axes._subplots.AxesSubplot at 0x17f9509f160>"
      ]
     },
     "execution_count": 42,
     "metadata": {},
     "output_type": "execute_result"
    },
    {
     "data": {
      "image/png": "[encoded data removed]",
      "text/plain": [
       "<Figure size 432x288 with 2 Axes>"
      ]
     },
     "metadata": {
      "needs_background": "light"
     },
     "output_type": "display_data"
    }
   ],
   "source": [
    "df2=df1.copy()\n",
    "test_tenor = ['ORIGNAL_TENOR', 'BALANCE_TENURE','COMPLETED_TENURE','CURRENT_TENOR', 'DIFF_ORIGINAL_CURRENT_TENOR']\n",
    "df2=df2[test_tenor]\n",
    "sns.heatmap(df2.corr(), annot=True,cmap='coolwarm',square=True)\n",
    "\n",
    "# Insights: From the below correlation graph, Original Tenor, Balance Tenor and Current Tenor are highly correlated, \n",
    "# Balance Tenor will be retained along with Completed Tenor , with domain understanding  \n",
    "# dropping Original Tenor, Current Tenor & difference betwn original and current tenor"
   ]
  },
  {
   "cell_type": "code",
   "execution_count": 43,
   "metadata": {},
   "outputs": [
    {
     "data": {
      "text/plain": [
       "<matplotlib.axes._subplots.AxesSubplot at 0x17f9311b3d0>"
      ]
     },
     "execution_count": 43,
     "metadata": {},
     "output_type": "execute_result"
    },
    {
     "data": {
      "image/png": "[encoded data removed]",
      "text/plain": [
       "<Figure size 432x288 with 2 Axes>"
      ]
     },
     "metadata": {
      "needs_background": "light"
     },
     "output_type": "display_data"
    }
   ],
   "source": [
    "df2=df1.copy()\n",
    "test_IntRate =['CURRENT_INTEREST_RATE','CURRENT_INTEREST_RATE_MAX','CURRENT_INTEREST_RATE_MIN','ORIGNAL_INTEREST_RATE','DIFF_CURRENT_INTEREST_RATE_MAX_MIN','DIFF_ORIGINAL_CURRENT_INTEREST_RATE','CURRENT_INTEREST_RATE_CHANGES']\n",
    "df2=df2[test_IntRate]\n",
    "sns.heatmap(df2.corr(), annot=True,cmap='coolwarm',square=True)\n",
    "\n",
    "#Insights1: Current Interest rate is highly correlated with other version of available interest rates(Max, Min & Original), Current Interest rate will be retained, others dropped.\n",
    "#Insights2: Difference between Current max and Current min & Difference between Origianl and Current Interest Rate & Current interst rate changes dropped as no insights derived from it. \n"
   ]
  },
  {
   "cell_type": "code",
   "execution_count": 44,
   "metadata": {},
   "outputs": [
    {
     "data": {
      "text/plain": [
       "<matplotlib.axes._subplots.AxesSubplot at 0x17f954b68b0>"
      ]
     },
     "execution_count": 44,
     "metadata": {},
     "output_type": "execute_result"
    },
    {
     "data": {
      "image/png": "[encoded data removed]",
      "text/plain": [
       "<Figure size 432x288 with 2 Axes>"
      ]
     },
     "metadata": {
      "needs_background": "light"
     },
     "output_type": "display_data"
    }
   ],
   "source": [
    "df2=df1.copy()\n",
    "test_emiamt =['EMI_AMOUNT','MAX_EMI_AMOUNT','MIN_EMI_AMOUNT','DIFF_EMI_AMOUNT_MAX_MIN','EMI_DUEAMT','EMI_OS_AMOUNT','EMI_RECEIVED_AMT']\n",
    "df2=df2[test_emiamt]\n",
    "sns.heatmap(df2.corr(), annot=True,cmap='coolwarm',square=True)\n",
    "\n",
    "#Insights1: EMI Amount and Outstanding EMI amount and Received amount are more intuitive to use when compared to other variation of EMI variables\n",
    "# rest other variables dropped."
   ]
  },
  {
   "cell_type": "code",
   "execution_count": 45,
   "metadata": {},
   "outputs": [
    {
     "data": {
      "text/plain": [
       "<matplotlib.axes._subplots.AxesSubplot at 0x17f952f5700>"
      ]
     },
     "execution_count": 45,
     "metadata": {},
     "output_type": "execute_result"
    },
    {
     "data": {
      "image/png": "[encoded data removed]",
      "text/plain": [
       "<Figure size 432x288 with 2 Axes>"
      ]
     },
     "metadata": {
      "needs_background": "light"
     },
     "output_type": "display_data"
    }
   ],
   "source": [
    "df2=df1.copy()\n",
    "test_pre_emiamt =['PRE_EMI_DUEAMT','PRE_EMI_RECEIVED_AMT','PRE_EMI_OS_AMOUNT']\n",
    "df2=df2[test_pre_emiamt]\n",
    "sns.heatmap(df2.corr(), annot=True,cmap='coolwarm',square=True)\n",
    "\n",
    "#Insights: Pre-EMI Due amount & Pre EMI Received Amount are perfectly highly correlated, in the context of foreclosure the 'pre emi due amount' will be retained along with 'Pre Emi OS amount'"
   ]
  },
  {
   "cell_type": "code",
   "execution_count": 46,
   "metadata": {},
   "outputs": [
    {
     "data": {
      "text/plain": [
       "<matplotlib.axes._subplots.AxesSubplot at 0x17f952febe0>"
      ]
     },
     "execution_count": 46,
     "metadata": {},
     "output_type": "execute_result"
    },
    {
     "data": {
      "image/png": "[encoded data removed]",
      "text/plain": [
       "<Figure size 432x288 with 2 Axes>"
      ]
     },
     "metadata": {
      "needs_background": "light"
     },
     "output_type": "display_data"
    }
   ],
   "source": [
    "df2=df1.copy()\n",
    "test_excess_amt =['EXCESS_AVAILABLE','BALANCE_EXCESS','EXCESS_ADJUSTED_AMT']\n",
    "df2=df2[test_excess_amt]\n",
    "sns.heatmap(df2.corr(), annot=True,cmap='coolwarm',square=True)\n",
    "\n",
    "#Insight: Excess Available and Excess Adjusted Amount are highly correlated, 'Excess Available' will be retained along with 'Balance Excess'"
   ]
  },
  {
   "cell_type": "code",
   "execution_count": 47,
   "metadata": {},
   "outputs": [
    {
     "name": "stdout",
     "output_type": "stream",
     "text": [
      "After Correlation checks 48 variables are reduced to 26 variables\n"
     ]
    }
   ],
   "source": [
    "#Dropping un-necessary columns after correlation heat map charts & Columns which dont provide much information on Target variable.\n",
    "\n",
    "Drop_variables = ['AUTHORIZATIONDATE','DIFF_AUTH_INT_DATE','DUEDAY','ORIGNAL_TENOR','CURRENT_TENOR','DIFF_ORIGINAL_CURRENT_TENOR','ORIGNAL_INTEREST_RATE','DIFF_ORIGINAL_CURRENT_INTEREST_RATE','CURRENT_INTEREST_RATE_MAX','CURRENT_INTEREST_RATE_MIN','DIFF_CURRENT_INTEREST_RATE_MAX_MIN','CURRENT_INTEREST_RATE_CHANGES','MAX_EMI_AMOUNT','MIN_EMI_AMOUNT','DIFF_EMI_AMOUNT_MAX_MIN','EMI_DUEAMT','PRE_EMI_RECEIVED_AMT','EXCESS_ADJUSTED_AMT','LATEST_TRANSACTION_MONTH','LAST_RECEIPT_DATE','LAST_RECEIPT_AMOUNT','MONTHOPENING']\n",
    "df3 = df1.copy()\n",
    "df3.drop(columns=Drop_variables,inplace=True)\n",
    "print('After Correlation checks',df1.shape[1], 'variables are reduced to', df3.shape[1],'variables')\n"
   ]
  },
  {
   "cell_type": "code",
   "execution_count": 48,
   "metadata": {},
   "outputs": [
    {
     "data": {
      "text/plain": [
       "Index(['AGREEMENTID', 'BALANCE_EXCESS', 'BALANCE_TENURE', 'CITY',\n",
       "       'COMPLETED_TENURE', 'CURRENT_INTEREST_RATE', 'DPD', 'EMI_AMOUNT',\n",
       "       'EMI_OS_AMOUNT', 'EMI_RECEIVED_AMT', 'EXCESS_AVAILABLE', 'FOIR',\n",
       "       'INTEREST_START_DATE', 'LOAN_AMT', 'NET_DISBURSED_AMT', 'NET_LTV',\n",
       "       'NET_RECEIVABLE', 'NUM_EMI_CHANGES', 'NUM_LOW_FREQ_TRANSACTIONS',\n",
       "       'OUTSTANDING_PRINCIPAL', 'PAID_INTEREST', 'PAID_PRINCIPAL',\n",
       "       'PRE_EMI_DUEAMT', 'PRE_EMI_OS_AMOUNT', 'PRODUCT', 'FORECLOSURE'],\n",
       "      dtype='object')"
      ]
     },
     "execution_count": 48,
     "metadata": {},
     "output_type": "execute_result"
    }
   ],
   "source": [
    "df3.columns"
   ]
  },
  {
   "cell_type": "code",
   "execution_count": 49,
   "metadata": {},
   "outputs": [
    {
     "name": "stdout",
     "output_type": "stream",
     "text": [
      "<class 'pandas.core.frame.DataFrame'>\n",
      "Int64Index: 20012 entries, 0 to 20011\n",
      "Data columns (total 26 columns):\n",
      " #   Column                     Non-Null Count  Dtype         \n",
      "---  ------                     --------------  -----         \n",
      " 0   AGREEMENTID                20012 non-null  int64         \n",
      " 1   BALANCE_EXCESS             20012 non-null  float64       \n",
      " 2   BALANCE_TENURE             20012 non-null  int64         \n",
      " 3   CITY                       20012 non-null  object        \n",
      " 4   COMPLETED_TENURE           20012 non-null  int64         \n",
      " 5   CURRENT_INTEREST_RATE      20012 non-null  float64       \n",
      " 6   DPD                        20012 non-null  int64         \n",
      " 7   EMI_AMOUNT                 20012 non-null  float64       \n",
      " 8   EMI_OS_AMOUNT              20012 non-null  float64       \n",
      " 9   EMI_RECEIVED_AMT           20012 non-null  float64       \n",
      " 10  EXCESS_AVAILABLE           20012 non-null  float64       \n",
      " 11  FOIR                       20012 non-null  float64       \n",
      " 12  INTEREST_START_DATE        20012 non-null  datetime64[ns]\n",
      " 13  LOAN_AMT                   20012 non-null  float64       \n",
      " 14  NET_DISBURSED_AMT          20012 non-null  float64       \n",
      " 15  NET_LTV                    20012 non-null  float64       \n",
      " 16  NET_RECEIVABLE             20012 non-null  float64       \n",
      " 17  NUM_EMI_CHANGES            20012 non-null  int64         \n",
      " 18  NUM_LOW_FREQ_TRANSACTIONS  20012 non-null  int64         \n",
      " 19  OUTSTANDING_PRINCIPAL      20012 non-null  float64       \n",
      " 20  PAID_INTEREST              20012 non-null  float64       \n",
      " 21  PAID_PRINCIPAL             20012 non-null  float64       \n",
      " 22  PRE_EMI_DUEAMT             20012 non-null  float64       \n",
      " 23  PRE_EMI_OS_AMOUNT          20012 non-null  float64       \n",
      " 24  PRODUCT                    20012 non-null  object        \n",
      " 25  FORECLOSURE                20012 non-null  int64         \n",
      "dtypes: datetime64[ns](1), float64(16), int64(7), object(2)\n",
      "memory usage: 4.1+ MB\n"
     ]
    }
   ],
   "source": [
    "df3.info()"
   ]
  },
  {
   "cell_type": "code",
   "execution_count": 50,
   "metadata": {},
   "outputs": [],
   "source": [
    "cat_var = ['CITY','INTEREST_START_DATE','PRODUCT']\n",
    "df4 = df3.copy()\n",
    "df4.drop(columns=cat_var,inplace=True)"
   ]
  },
  {
   "cell_type": "code",
   "execution_count": 51,
   "metadata": {},
   "outputs": [
    {
     "name": "stdout",
     "output_type": "stream",
     "text": [
      "<class 'pandas.core.frame.DataFrame'>\n",
      "Int64Index: 20012 entries, 0 to 20011\n",
      "Data columns (total 23 columns):\n",
      " #   Column                     Non-Null Count  Dtype  \n",
      "---  ------                     --------------  -----  \n",
      " 0   AGREEMENTID                20012 non-null  int64  \n",
      " 1   BALANCE_EXCESS             20012 non-null  float64\n",
      " 2   BALANCE_TENURE             20012 non-null  int64  \n",
      " 3   COMPLETED_TENURE           20012 non-null  int64  \n",
      " 4   CURRENT_INTEREST_RATE      20012 non-null  float64\n",
      " 5   DPD                        20012 non-null  int64  \n",
      " 6   EMI_AMOUNT                 20012 non-null  float64\n",
      " 7   EMI_OS_AMOUNT              20012 non-null  float64\n",
      " 8   EMI_RECEIVED_AMT           20012 non-null  float64\n",
      " 9   EXCESS_AVAILABLE           20012 non-null  float64\n",
      " 10  FOIR                       20012 non-null  float64\n",
      " 11  LOAN_AMT                   20012 non-null  float64\n",
      " 12  NET_DISBURSED_AMT          20012 non-null  float64\n",
      " 13  NET_LTV                    20012 non-null  float64\n",
      " 14  NET_RECEIVABLE             20012 non-null  float64\n",
      " 15  NUM_EMI_CHANGES            20012 non-null  int64  \n",
      " 16  NUM_LOW_FREQ_TRANSACTIONS  20012 non-null  int64  \n",
      " 17  OUTSTANDING_PRINCIPAL      20012 non-null  float64\n",
      " 18  PAID_INTEREST              20012 non-null  float64\n",
      " 19  PAID_PRINCIPAL             20012 non-null  float64\n",
      " 20  PRE_EMI_DUEAMT             20012 non-null  float64\n",
      " 21  PRE_EMI_OS_AMOUNT          20012 non-null  float64\n",
      " 22  FORECLOSURE                20012 non-null  int64  \n",
      "dtypes: float64(16), int64(7)\n",
      "memory usage: 3.7 MB\n"
     ]
    }
   ],
   "source": [
    "df4.info()"
   ]
  },
  {
   "cell_type": "code",
   "execution_count": 52,
   "metadata": {},
   "outputs": [],
   "source": [
    "from statsmodels.stats.outliers_influence import variance_inflation_factor\n",
    "\n",
    "def calc_vif(X):\n",
    "\n",
    "    # Calculating VIF\n",
    "    vif = pd.DataFrame()\n",
    "    vif[\"variables\"] = X.columns\n",
    "    vif[\"VIF\"] = [variance_inflation_factor(X.values, i) for i in range(X.shape[1])]\n",
    "\n",
    "    return(vif)"
   ]
  },
  {
   "cell_type": "code",
   "execution_count": 53,
   "metadata": {},
   "outputs": [
    {
     "data": {
      "text/html": [
       "<div>\n",
       "<style scoped>\n",
       "    .dataframe tbody tr th:only-of-type {\n",
       "        vertical-align: middle;\n",
       "    }\n",
       "\n",
       "    .dataframe tbody tr th {\n",
       "        vertical-align: top;\n",
       "    }\n",
       "\n",
       "    .dataframe thead th {\n",
       "        text-align: right;\n",
       "    }\n",
       "</style>\n",
       "<table border=\"1\" class=\"dataframe\">\n",
       "  <thead>\n",
       "    <tr style=\"text-align: right;\">\n",
       "      <th></th>\n",
       "      <th>variables</th>\n",
       "      <th>VIF</th>\n",
       "    </tr>\n",
       "  </thead>\n",
       "  <tbody>\n",
       "    <tr>\n",
       "      <th>1</th>\n",
       "      <td>BALANCE_EXCESS</td>\n",
       "      <td>15714.5709</td>\n",
       "    </tr>\n",
       "    <tr>\n",
       "      <th>14</th>\n",
       "      <td>NET_RECEIVABLE</td>\n",
       "      <td>15657.2811</td>\n",
       "    </tr>\n",
       "    <tr>\n",
       "      <th>7</th>\n",
       "      <td>EMI_OS_AMOUNT</td>\n",
       "      <td>3704.7931</td>\n",
       "    </tr>\n",
       "    <tr>\n",
       "      <th>12</th>\n",
       "      <td>NET_DISBURSED_AMT</td>\n",
       "      <td>1357.5171</td>\n",
       "    </tr>\n",
       "    <tr>\n",
       "      <th>17</th>\n",
       "      <td>OUTSTANDING_PRINCIPAL</td>\n",
       "      <td>867.4918</td>\n",
       "    </tr>\n",
       "    <tr>\n",
       "      <th>11</th>\n",
       "      <td>LOAN_AMT</td>\n",
       "      <td>323.8924</td>\n",
       "    </tr>\n",
       "    <tr>\n",
       "      <th>8</th>\n",
       "      <td>EMI_RECEIVED_AMT</td>\n",
       "      <td>164.5269</td>\n",
       "    </tr>\n",
       "    <tr>\n",
       "      <th>0</th>\n",
       "      <td>AGREEMENTID</td>\n",
       "      <td>88.3374</td>\n",
       "    </tr>\n",
       "    <tr>\n",
       "      <th>18</th>\n",
       "      <td>PAID_INTEREST</td>\n",
       "      <td>87.6198</td>\n",
       "    </tr>\n",
       "    <tr>\n",
       "      <th>4</th>\n",
       "      <td>CURRENT_INTEREST_RATE</td>\n",
       "      <td>47.7414</td>\n",
       "    </tr>\n",
       "    <tr>\n",
       "      <th>9</th>\n",
       "      <td>EXCESS_AVAILABLE</td>\n",
       "      <td>44.2598</td>\n",
       "    </tr>\n",
       "    <tr>\n",
       "      <th>2</th>\n",
       "      <td>BALANCE_TENURE</td>\n",
       "      <td>12.7671</td>\n",
       "    </tr>\n",
       "    <tr>\n",
       "      <th>6</th>\n",
       "      <td>EMI_AMOUNT</td>\n",
       "      <td>11.8010</td>\n",
       "    </tr>\n",
       "    <tr>\n",
       "      <th>13</th>\n",
       "      <td>NET_LTV</td>\n",
       "      <td>8.0329</td>\n",
       "    </tr>\n",
       "    <tr>\n",
       "      <th>16</th>\n",
       "      <td>NUM_LOW_FREQ_TRANSACTIONS</td>\n",
       "      <td>6.1066</td>\n",
       "    </tr>\n",
       "    <tr>\n",
       "      <th>15</th>\n",
       "      <td>NUM_EMI_CHANGES</td>\n",
       "      <td>4.8798</td>\n",
       "    </tr>\n",
       "    <tr>\n",
       "      <th>3</th>\n",
       "      <td>COMPLETED_TENURE</td>\n",
       "      <td>4.2071</td>\n",
       "    </tr>\n",
       "    <tr>\n",
       "      <th>19</th>\n",
       "      <td>PAID_PRINCIPAL</td>\n",
       "      <td>2.8578</td>\n",
       "    </tr>\n",
       "    <tr>\n",
       "      <th>20</th>\n",
       "      <td>PRE_EMI_DUEAMT</td>\n",
       "      <td>2.7586</td>\n",
       "    </tr>\n",
       "    <tr>\n",
       "      <th>5</th>\n",
       "      <td>DPD</td>\n",
       "      <td>1.6932</td>\n",
       "    </tr>\n",
       "    <tr>\n",
       "      <th>21</th>\n",
       "      <td>FORECLOSURE</td>\n",
       "      <td>1.1378</td>\n",
       "    </tr>\n",
       "    <tr>\n",
       "      <th>10</th>\n",
       "      <td>FOIR</td>\n",
       "      <td>1.0032</td>\n",
       "    </tr>\n",
       "  </tbody>\n",
       "</table>\n",
       "</div>"
      ],
      "text/plain": [
       "                    variables        VIF\n",
       "1              BALANCE_EXCESS 15714.5709\n",
       "14             NET_RECEIVABLE 15657.2811\n",
       "7               EMI_OS_AMOUNT  3704.7931\n",
       "12          NET_DISBURSED_AMT  1357.5171\n",
       "17      OUTSTANDING_PRINCIPAL   867.4918\n",
       "11                   LOAN_AMT   323.8924\n",
       "8            EMI_RECEIVED_AMT   164.5269\n",
       "0                 AGREEMENTID    88.3374\n",
       "18              PAID_INTEREST    87.6198\n",
       "4       CURRENT_INTEREST_RATE    47.7414\n",
       "9            EXCESS_AVAILABLE    44.2598\n",
       "2              BALANCE_TENURE    12.7671\n",
       "6                  EMI_AMOUNT    11.8010\n",
       "13                    NET_LTV     8.0329\n",
       "16  NUM_LOW_FREQ_TRANSACTIONS     6.1066\n",
       "15            NUM_EMI_CHANGES     4.8798\n",
       "3            COMPLETED_TENURE     4.2071\n",
       "19             PAID_PRINCIPAL     2.8578\n",
       "20             PRE_EMI_DUEAMT     2.7586\n",
       "5                         DPD     1.6932\n",
       "21                FORECLOSURE     1.1378\n",
       "10                       FOIR     1.0032"
      ]
     },
     "execution_count": 53,
     "metadata": {},
     "output_type": "execute_result"
    }
   ],
   "source": [
    "df4 = df4.drop('PRE_EMI_OS_AMOUNT', axis = 1)\n",
    "calc_vif(df4).sort_values(by = 'VIF', ascending = False)"
   ]
  },
  {
   "cell_type": "code",
   "execution_count": 54,
   "metadata": {},
   "outputs": [
    {
     "data": {
      "text/html": [
       "<div>\n",
       "<style scoped>\n",
       "    .dataframe tbody tr th:only-of-type {\n",
       "        vertical-align: middle;\n",
       "    }\n",
       "\n",
       "    .dataframe tbody tr th {\n",
       "        vertical-align: top;\n",
       "    }\n",
       "\n",
       "    .dataframe thead th {\n",
       "        text-align: right;\n",
       "    }\n",
       "</style>\n",
       "<table border=\"1\" class=\"dataframe\">\n",
       "  <thead>\n",
       "    <tr style=\"text-align: right;\">\n",
       "      <th></th>\n",
       "      <th>variables</th>\n",
       "      <th>VIF</th>\n",
       "    </tr>\n",
       "  </thead>\n",
       "  <tbody>\n",
       "    <tr>\n",
       "      <th>11</th>\n",
       "      <td>NET_DISBURSED_AMT</td>\n",
       "      <td>1356.5062</td>\n",
       "    </tr>\n",
       "    <tr>\n",
       "      <th>16</th>\n",
       "      <td>OUTSTANDING_PRINCIPAL</td>\n",
       "      <td>865.4589</td>\n",
       "    </tr>\n",
       "    <tr>\n",
       "      <th>10</th>\n",
       "      <td>LOAN_AMT</td>\n",
       "      <td>323.7861</td>\n",
       "    </tr>\n",
       "    <tr>\n",
       "      <th>7</th>\n",
       "      <td>EMI_RECEIVED_AMT</td>\n",
       "      <td>163.8979</td>\n",
       "    </tr>\n",
       "    <tr>\n",
       "      <th>0</th>\n",
       "      <td>AGREEMENTID</td>\n",
       "      <td>88.3353</td>\n",
       "    </tr>\n",
       "    <tr>\n",
       "      <th>17</th>\n",
       "      <td>PAID_INTEREST</td>\n",
       "      <td>87.2480</td>\n",
       "    </tr>\n",
       "    <tr>\n",
       "      <th>3</th>\n",
       "      <td>CURRENT_INTEREST_RATE</td>\n",
       "      <td>47.7370</td>\n",
       "    </tr>\n",
       "    <tr>\n",
       "      <th>8</th>\n",
       "      <td>EXCESS_AVAILABLE</td>\n",
       "      <td>44.1745</td>\n",
       "    </tr>\n",
       "    <tr>\n",
       "      <th>1</th>\n",
       "      <td>BALANCE_TENURE</td>\n",
       "      <td>12.7670</td>\n",
       "    </tr>\n",
       "    <tr>\n",
       "      <th>5</th>\n",
       "      <td>EMI_AMOUNT</td>\n",
       "      <td>11.7088</td>\n",
       "    </tr>\n",
       "    <tr>\n",
       "      <th>12</th>\n",
       "      <td>NET_LTV</td>\n",
       "      <td>8.0328</td>\n",
       "    </tr>\n",
       "    <tr>\n",
       "      <th>15</th>\n",
       "      <td>NUM_LOW_FREQ_TRANSACTIONS</td>\n",
       "      <td>6.1017</td>\n",
       "    </tr>\n",
       "    <tr>\n",
       "      <th>13</th>\n",
       "      <td>NET_RECEIVABLE</td>\n",
       "      <td>5.0953</td>\n",
       "    </tr>\n",
       "    <tr>\n",
       "      <th>14</th>\n",
       "      <td>NUM_EMI_CHANGES</td>\n",
       "      <td>4.8765</td>\n",
       "    </tr>\n",
       "    <tr>\n",
       "      <th>2</th>\n",
       "      <td>COMPLETED_TENURE</td>\n",
       "      <td>4.2049</td>\n",
       "    </tr>\n",
       "    <tr>\n",
       "      <th>18</th>\n",
       "      <td>PAID_PRINCIPAL</td>\n",
       "      <td>2.8550</td>\n",
       "    </tr>\n",
       "    <tr>\n",
       "      <th>19</th>\n",
       "      <td>PRE_EMI_DUEAMT</td>\n",
       "      <td>2.7197</td>\n",
       "    </tr>\n",
       "    <tr>\n",
       "      <th>6</th>\n",
       "      <td>EMI_OS_AMOUNT</td>\n",
       "      <td>2.4241</td>\n",
       "    </tr>\n",
       "    <tr>\n",
       "      <th>4</th>\n",
       "      <td>DPD</td>\n",
       "      <td>1.6748</td>\n",
       "    </tr>\n",
       "    <tr>\n",
       "      <th>20</th>\n",
       "      <td>FORECLOSURE</td>\n",
       "      <td>1.1378</td>\n",
       "    </tr>\n",
       "    <tr>\n",
       "      <th>9</th>\n",
       "      <td>FOIR</td>\n",
       "      <td>1.0032</td>\n",
       "    </tr>\n",
       "  </tbody>\n",
       "</table>\n",
       "</div>"
      ],
      "text/plain": [
       "                    variables       VIF\n",
       "11          NET_DISBURSED_AMT 1356.5062\n",
       "16      OUTSTANDING_PRINCIPAL  865.4589\n",
       "10                   LOAN_AMT  323.7861\n",
       "7            EMI_RECEIVED_AMT  163.8979\n",
       "0                 AGREEMENTID   88.3353\n",
       "17              PAID_INTEREST   87.2480\n",
       "3       CURRENT_INTEREST_RATE   47.7370\n",
       "8            EXCESS_AVAILABLE   44.1745\n",
       "1              BALANCE_TENURE   12.7670\n",
       "5                  EMI_AMOUNT   11.7088\n",
       "12                    NET_LTV    8.0328\n",
       "15  NUM_LOW_FREQ_TRANSACTIONS    6.1017\n",
       "13             NET_RECEIVABLE    5.0953\n",
       "14            NUM_EMI_CHANGES    4.8765\n",
       "2            COMPLETED_TENURE    4.2049\n",
       "18             PAID_PRINCIPAL    2.8550\n",
       "19             PRE_EMI_DUEAMT    2.7197\n",
       "6               EMI_OS_AMOUNT    2.4241\n",
       "4                         DPD    1.6748\n",
       "20                FORECLOSURE    1.1378\n",
       "9                        FOIR    1.0032"
      ]
     },
     "execution_count": 54,
     "metadata": {},
     "output_type": "execute_result"
    }
   ],
   "source": [
    "df4 = df4.drop('BALANCE_EXCESS', axis = 1)\n",
    "calc_vif(df4).sort_values(by = 'VIF', ascending = False)"
   ]
  },
  {
   "cell_type": "code",
   "execution_count": 55,
   "metadata": {},
   "outputs": [
    {
     "data": {
      "text/html": [
       "<div>\n",
       "<style scoped>\n",
       "    .dataframe tbody tr th:only-of-type {\n",
       "        vertical-align: middle;\n",
       "    }\n",
       "\n",
       "    .dataframe tbody tr th {\n",
       "        vertical-align: top;\n",
       "    }\n",
       "\n",
       "    .dataframe thead th {\n",
       "        text-align: right;\n",
       "    }\n",
       "</style>\n",
       "<table border=\"1\" class=\"dataframe\">\n",
       "  <thead>\n",
       "    <tr style=\"text-align: right;\">\n",
       "      <th></th>\n",
       "      <th>variables</th>\n",
       "      <th>VIF</th>\n",
       "    </tr>\n",
       "  </thead>\n",
       "  <tbody>\n",
       "    <tr>\n",
       "      <th>10</th>\n",
       "      <td>LOAN_AMT</td>\n",
       "      <td>252.6829</td>\n",
       "    </tr>\n",
       "    <tr>\n",
       "      <th>15</th>\n",
       "      <td>OUTSTANDING_PRINCIPAL</td>\n",
       "      <td>223.0673</td>\n",
       "    </tr>\n",
       "    <tr>\n",
       "      <th>0</th>\n",
       "      <td>AGREEMENTID</td>\n",
       "      <td>88.3317</td>\n",
       "    </tr>\n",
       "    <tr>\n",
       "      <th>7</th>\n",
       "      <td>EMI_RECEIVED_AMT</td>\n",
       "      <td>62.5771</td>\n",
       "    </tr>\n",
       "    <tr>\n",
       "      <th>3</th>\n",
       "      <td>CURRENT_INTEREST_RATE</td>\n",
       "      <td>47.7359</td>\n",
       "    </tr>\n",
       "    <tr>\n",
       "      <th>16</th>\n",
       "      <td>PAID_INTEREST</td>\n",
       "      <td>41.4990</td>\n",
       "    </tr>\n",
       "    <tr>\n",
       "      <th>1</th>\n",
       "      <td>BALANCE_TENURE</td>\n",
       "      <td>12.7670</td>\n",
       "    </tr>\n",
       "    <tr>\n",
       "      <th>8</th>\n",
       "      <td>EXCESS_AVAILABLE</td>\n",
       "      <td>12.5170</td>\n",
       "    </tr>\n",
       "    <tr>\n",
       "      <th>5</th>\n",
       "      <td>EMI_AMOUNT</td>\n",
       "      <td>11.6896</td>\n",
       "    </tr>\n",
       "    <tr>\n",
       "      <th>11</th>\n",
       "      <td>NET_LTV</td>\n",
       "      <td>8.0324</td>\n",
       "    </tr>\n",
       "    <tr>\n",
       "      <th>14</th>\n",
       "      <td>NUM_LOW_FREQ_TRANSACTIONS</td>\n",
       "      <td>6.0942</td>\n",
       "    </tr>\n",
       "    <tr>\n",
       "      <th>13</th>\n",
       "      <td>NUM_EMI_CHANGES</td>\n",
       "      <td>4.8761</td>\n",
       "    </tr>\n",
       "    <tr>\n",
       "      <th>2</th>\n",
       "      <td>COMPLETED_TENURE</td>\n",
       "      <td>4.1945</td>\n",
       "    </tr>\n",
       "    <tr>\n",
       "      <th>18</th>\n",
       "      <td>PRE_EMI_DUEAMT</td>\n",
       "      <td>2.4594</td>\n",
       "    </tr>\n",
       "    <tr>\n",
       "      <th>12</th>\n",
       "      <td>NET_RECEIVABLE</td>\n",
       "      <td>2.2469</td>\n",
       "    </tr>\n",
       "    <tr>\n",
       "      <th>17</th>\n",
       "      <td>PAID_PRINCIPAL</td>\n",
       "      <td>2.1953</td>\n",
       "    </tr>\n",
       "    <tr>\n",
       "      <th>6</th>\n",
       "      <td>EMI_OS_AMOUNT</td>\n",
       "      <td>1.8419</td>\n",
       "    </tr>\n",
       "    <tr>\n",
       "      <th>4</th>\n",
       "      <td>DPD</td>\n",
       "      <td>1.6746</td>\n",
       "    </tr>\n",
       "    <tr>\n",
       "      <th>19</th>\n",
       "      <td>FORECLOSURE</td>\n",
       "      <td>1.1375</td>\n",
       "    </tr>\n",
       "    <tr>\n",
       "      <th>9</th>\n",
       "      <td>FOIR</td>\n",
       "      <td>1.0032</td>\n",
       "    </tr>\n",
       "  </tbody>\n",
       "</table>\n",
       "</div>"
      ],
      "text/plain": [
       "                    variables      VIF\n",
       "10                   LOAN_AMT 252.6829\n",
       "15      OUTSTANDING_PRINCIPAL 223.0673\n",
       "0                 AGREEMENTID  88.3317\n",
       "7            EMI_RECEIVED_AMT  62.5771\n",
       "3       CURRENT_INTEREST_RATE  47.7359\n",
       "16              PAID_INTEREST  41.4990\n",
       "1              BALANCE_TENURE  12.7670\n",
       "8            EXCESS_AVAILABLE  12.5170\n",
       "5                  EMI_AMOUNT  11.6896\n",
       "11                    NET_LTV   8.0324\n",
       "14  NUM_LOW_FREQ_TRANSACTIONS   6.0942\n",
       "13            NUM_EMI_CHANGES   4.8761\n",
       "2            COMPLETED_TENURE   4.1945\n",
       "18             PRE_EMI_DUEAMT   2.4594\n",
       "12             NET_RECEIVABLE   2.2469\n",
       "17             PAID_PRINCIPAL   2.1953\n",
       "6               EMI_OS_AMOUNT   1.8419\n",
       "4                         DPD   1.6746\n",
       "19                FORECLOSURE   1.1375\n",
       "9                        FOIR   1.0032"
      ]
     },
     "execution_count": 55,
     "metadata": {},
     "output_type": "execute_result"
    }
   ],
   "source": [
    "df4 = df4.drop('NET_DISBURSED_AMT', axis = 1)\n",
    "calc_vif(df4).sort_values(by = 'VIF', ascending = False)"
   ]
  },
  {
   "cell_type": "code",
   "execution_count": 56,
   "metadata": {},
   "outputs": [
    {
     "data": {
      "text/html": [
       "<div>\n",
       "<style scoped>\n",
       "    .dataframe tbody tr th:only-of-type {\n",
       "        vertical-align: middle;\n",
       "    }\n",
       "\n",
       "    .dataframe tbody tr th {\n",
       "        vertical-align: top;\n",
       "    }\n",
       "\n",
       "    .dataframe thead th {\n",
       "        text-align: right;\n",
       "    }\n",
       "</style>\n",
       "<table border=\"1\" class=\"dataframe\">\n",
       "  <thead>\n",
       "    <tr style=\"text-align: right;\">\n",
       "      <th></th>\n",
       "      <th>variables</th>\n",
       "      <th>VIF</th>\n",
       "    </tr>\n",
       "  </thead>\n",
       "  <tbody>\n",
       "    <tr>\n",
       "      <th>0</th>\n",
       "      <td>AGREEMENTID</td>\n",
       "      <td>88.2845</td>\n",
       "    </tr>\n",
       "    <tr>\n",
       "      <th>3</th>\n",
       "      <td>CURRENT_INTEREST_RATE</td>\n",
       "      <td>47.7347</td>\n",
       "    </tr>\n",
       "    <tr>\n",
       "      <th>7</th>\n",
       "      <td>EMI_RECEIVED_AMT</td>\n",
       "      <td>24.4935</td>\n",
       "    </tr>\n",
       "    <tr>\n",
       "      <th>15</th>\n",
       "      <td>PAID_INTEREST</td>\n",
       "      <td>23.2567</td>\n",
       "    </tr>\n",
       "    <tr>\n",
       "      <th>1</th>\n",
       "      <td>BALANCE_TENURE</td>\n",
       "      <td>12.7423</td>\n",
       "    </tr>\n",
       "    <tr>\n",
       "      <th>5</th>\n",
       "      <td>EMI_AMOUNT</td>\n",
       "      <td>11.1783</td>\n",
       "    </tr>\n",
       "    <tr>\n",
       "      <th>14</th>\n",
       "      <td>OUTSTANDING_PRINCIPAL</td>\n",
       "      <td>8.4852</td>\n",
       "    </tr>\n",
       "    <tr>\n",
       "      <th>10</th>\n",
       "      <td>NET_LTV</td>\n",
       "      <td>8.0297</td>\n",
       "    </tr>\n",
       "    <tr>\n",
       "      <th>13</th>\n",
       "      <td>NUM_LOW_FREQ_TRANSACTIONS</td>\n",
       "      <td>6.0930</td>\n",
       "    </tr>\n",
       "    <tr>\n",
       "      <th>12</th>\n",
       "      <td>NUM_EMI_CHANGES</td>\n",
       "      <td>4.8761</td>\n",
       "    </tr>\n",
       "    <tr>\n",
       "      <th>2</th>\n",
       "      <td>COMPLETED_TENURE</td>\n",
       "      <td>4.1939</td>\n",
       "    </tr>\n",
       "    <tr>\n",
       "      <th>17</th>\n",
       "      <td>PRE_EMI_DUEAMT</td>\n",
       "      <td>2.2488</td>\n",
       "    </tr>\n",
       "    <tr>\n",
       "      <th>8</th>\n",
       "      <td>EXCESS_AVAILABLE</td>\n",
       "      <td>2.1580</td>\n",
       "    </tr>\n",
       "    <tr>\n",
       "      <th>16</th>\n",
       "      <td>PAID_PRINCIPAL</td>\n",
       "      <td>2.0699</td>\n",
       "    </tr>\n",
       "    <tr>\n",
       "      <th>4</th>\n",
       "      <td>DPD</td>\n",
       "      <td>1.6746</td>\n",
       "    </tr>\n",
       "    <tr>\n",
       "      <th>6</th>\n",
       "      <td>EMI_OS_AMOUNT</td>\n",
       "      <td>1.6411</td>\n",
       "    </tr>\n",
       "    <tr>\n",
       "      <th>11</th>\n",
       "      <td>NET_RECEIVABLE</td>\n",
       "      <td>1.3061</td>\n",
       "    </tr>\n",
       "    <tr>\n",
       "      <th>18</th>\n",
       "      <td>FORECLOSURE</td>\n",
       "      <td>1.1372</td>\n",
       "    </tr>\n",
       "    <tr>\n",
       "      <th>9</th>\n",
       "      <td>FOIR</td>\n",
       "      <td>1.0031</td>\n",
       "    </tr>\n",
       "  </tbody>\n",
       "</table>\n",
       "</div>"
      ],
      "text/plain": [
       "                    variables     VIF\n",
       "0                 AGREEMENTID 88.2845\n",
       "3       CURRENT_INTEREST_RATE 47.7347\n",
       "7            EMI_RECEIVED_AMT 24.4935\n",
       "15              PAID_INTEREST 23.2567\n",
       "1              BALANCE_TENURE 12.7423\n",
       "5                  EMI_AMOUNT 11.1783\n",
       "14      OUTSTANDING_PRINCIPAL  8.4852\n",
       "10                    NET_LTV  8.0297\n",
       "13  NUM_LOW_FREQ_TRANSACTIONS  6.0930\n",
       "12            NUM_EMI_CHANGES  4.8761\n",
       "2            COMPLETED_TENURE  4.1939\n",
       "17             PRE_EMI_DUEAMT  2.2488\n",
       "8            EXCESS_AVAILABLE  2.1580\n",
       "16             PAID_PRINCIPAL  2.0699\n",
       "4                         DPD  1.6746\n",
       "6               EMI_OS_AMOUNT  1.6411\n",
       "11             NET_RECEIVABLE  1.3061\n",
       "18                FORECLOSURE  1.1372\n",
       "9                        FOIR  1.0031"
      ]
     },
     "execution_count": 56,
     "metadata": {},
     "output_type": "execute_result"
    }
   ],
   "source": [
    "df4 = df4.drop('LOAN_AMT', axis = 1)\n",
    "calc_vif(df4).sort_values(by = 'VIF', ascending = False)"
   ]
  },
  {
   "cell_type": "code",
   "execution_count": 57,
   "metadata": {},
   "outputs": [
    {
     "data": {
      "text/html": [
       "<div>\n",
       "<style scoped>\n",
       "    .dataframe tbody tr th:only-of-type {\n",
       "        vertical-align: middle;\n",
       "    }\n",
       "\n",
       "    .dataframe tbody tr th {\n",
       "        vertical-align: top;\n",
       "    }\n",
       "\n",
       "    .dataframe thead th {\n",
       "        text-align: right;\n",
       "    }\n",
       "</style>\n",
       "<table border=\"1\" class=\"dataframe\">\n",
       "  <thead>\n",
       "    <tr style=\"text-align: right;\">\n",
       "      <th></th>\n",
       "      <th>variables</th>\n",
       "      <th>VIF</th>\n",
       "    </tr>\n",
       "  </thead>\n",
       "  <tbody>\n",
       "    <tr>\n",
       "      <th>6</th>\n",
       "      <td>EMI_RECEIVED_AMT</td>\n",
       "      <td>23.9519</td>\n",
       "    </tr>\n",
       "    <tr>\n",
       "      <th>14</th>\n",
       "      <td>PAID_INTEREST</td>\n",
       "      <td>22.4846</td>\n",
       "    </tr>\n",
       "    <tr>\n",
       "      <th>4</th>\n",
       "      <td>EMI_AMOUNT</td>\n",
       "      <td>11.1371</td>\n",
       "    </tr>\n",
       "    <tr>\n",
       "      <th>2</th>\n",
       "      <td>CURRENT_INTEREST_RATE</td>\n",
       "      <td>11.0045</td>\n",
       "    </tr>\n",
       "    <tr>\n",
       "      <th>0</th>\n",
       "      <td>BALANCE_TENURE</td>\n",
       "      <td>8.7083</td>\n",
       "    </tr>\n",
       "    <tr>\n",
       "      <th>13</th>\n",
       "      <td>OUTSTANDING_PRINCIPAL</td>\n",
       "      <td>8.3245</td>\n",
       "    </tr>\n",
       "    <tr>\n",
       "      <th>9</th>\n",
       "      <td>NET_LTV</td>\n",
       "      <td>6.7664</td>\n",
       "    </tr>\n",
       "    <tr>\n",
       "      <th>12</th>\n",
       "      <td>NUM_LOW_FREQ_TRANSACTIONS</td>\n",
       "      <td>6.0929</td>\n",
       "    </tr>\n",
       "    <tr>\n",
       "      <th>11</th>\n",
       "      <td>NUM_EMI_CHANGES</td>\n",
       "      <td>4.8752</td>\n",
       "    </tr>\n",
       "    <tr>\n",
       "      <th>1</th>\n",
       "      <td>COMPLETED_TENURE</td>\n",
       "      <td>4.0027</td>\n",
       "    </tr>\n",
       "    <tr>\n",
       "      <th>16</th>\n",
       "      <td>PRE_EMI_DUEAMT</td>\n",
       "      <td>2.2463</td>\n",
       "    </tr>\n",
       "    <tr>\n",
       "      <th>7</th>\n",
       "      <td>EXCESS_AVAILABLE</td>\n",
       "      <td>2.1279</td>\n",
       "    </tr>\n",
       "    <tr>\n",
       "      <th>15</th>\n",
       "      <td>PAID_PRINCIPAL</td>\n",
       "      <td>2.0677</td>\n",
       "    </tr>\n",
       "    <tr>\n",
       "      <th>3</th>\n",
       "      <td>DPD</td>\n",
       "      <td>1.6647</td>\n",
       "    </tr>\n",
       "    <tr>\n",
       "      <th>5</th>\n",
       "      <td>EMI_OS_AMOUNT</td>\n",
       "      <td>1.6409</td>\n",
       "    </tr>\n",
       "    <tr>\n",
       "      <th>10</th>\n",
       "      <td>NET_RECEIVABLE</td>\n",
       "      <td>1.3042</td>\n",
       "    </tr>\n",
       "    <tr>\n",
       "      <th>17</th>\n",
       "      <td>FORECLOSURE</td>\n",
       "      <td>1.1363</td>\n",
       "    </tr>\n",
       "    <tr>\n",
       "      <th>8</th>\n",
       "      <td>FOIR</td>\n",
       "      <td>1.0030</td>\n",
       "    </tr>\n",
       "  </tbody>\n",
       "</table>\n",
       "</div>"
      ],
      "text/plain": [
       "                    variables     VIF\n",
       "6            EMI_RECEIVED_AMT 23.9519\n",
       "14              PAID_INTEREST 22.4846\n",
       "4                  EMI_AMOUNT 11.1371\n",
       "2       CURRENT_INTEREST_RATE 11.0045\n",
       "0              BALANCE_TENURE  8.7083\n",
       "13      OUTSTANDING_PRINCIPAL  8.3245\n",
       "9                     NET_LTV  6.7664\n",
       "12  NUM_LOW_FREQ_TRANSACTIONS  6.0929\n",
       "11            NUM_EMI_CHANGES  4.8752\n",
       "1            COMPLETED_TENURE  4.0027\n",
       "16             PRE_EMI_DUEAMT  2.2463\n",
       "7            EXCESS_AVAILABLE  2.1279\n",
       "15             PAID_PRINCIPAL  2.0677\n",
       "3                         DPD  1.6647\n",
       "5               EMI_OS_AMOUNT  1.6409\n",
       "10             NET_RECEIVABLE  1.3042\n",
       "17                FORECLOSURE  1.1363\n",
       "8                        FOIR  1.0030"
      ]
     },
     "execution_count": 57,
     "metadata": {},
     "output_type": "execute_result"
    }
   ],
   "source": [
    "df4 = df4.drop('AGREEMENTID', axis = 1)\n",
    "calc_vif(df4).sort_values(by = 'VIF', ascending = False)"
   ]
  },
  {
   "cell_type": "code",
   "execution_count": 58,
   "metadata": {},
   "outputs": [
    {
     "data": {
      "text/html": [
       "<div>\n",
       "<style scoped>\n",
       "    .dataframe tbody tr th:only-of-type {\n",
       "        vertical-align: middle;\n",
       "    }\n",
       "\n",
       "    .dataframe tbody tr th {\n",
       "        vertical-align: top;\n",
       "    }\n",
       "\n",
       "    .dataframe thead th {\n",
       "        text-align: right;\n",
       "    }\n",
       "</style>\n",
       "<table border=\"1\" class=\"dataframe\">\n",
       "  <thead>\n",
       "    <tr style=\"text-align: right;\">\n",
       "      <th></th>\n",
       "      <th>variables</th>\n",
       "      <th>VIF</th>\n",
       "    </tr>\n",
       "  </thead>\n",
       "  <tbody>\n",
       "    <tr>\n",
       "      <th>2</th>\n",
       "      <td>CURRENT_INTEREST_RATE</td>\n",
       "      <td>10.9674</td>\n",
       "    </tr>\n",
       "    <tr>\n",
       "      <th>0</th>\n",
       "      <td>BALANCE_TENURE</td>\n",
       "      <td>8.6576</td>\n",
       "    </tr>\n",
       "    <tr>\n",
       "      <th>4</th>\n",
       "      <td>EMI_AMOUNT</td>\n",
       "      <td>7.1200</td>\n",
       "    </tr>\n",
       "    <tr>\n",
       "      <th>8</th>\n",
       "      <td>NET_LTV</td>\n",
       "      <td>6.7404</td>\n",
       "    </tr>\n",
       "    <tr>\n",
       "      <th>11</th>\n",
       "      <td>NUM_LOW_FREQ_TRANSACTIONS</td>\n",
       "      <td>6.0921</td>\n",
       "    </tr>\n",
       "    <tr>\n",
       "      <th>12</th>\n",
       "      <td>OUTSTANDING_PRINCIPAL</td>\n",
       "      <td>5.8386</td>\n",
       "    </tr>\n",
       "    <tr>\n",
       "      <th>10</th>\n",
       "      <td>NUM_EMI_CHANGES</td>\n",
       "      <td>4.8733</td>\n",
       "    </tr>\n",
       "    <tr>\n",
       "      <th>1</th>\n",
       "      <td>COMPLETED_TENURE</td>\n",
       "      <td>3.9872</td>\n",
       "    </tr>\n",
       "    <tr>\n",
       "      <th>13</th>\n",
       "      <td>PAID_INTEREST</td>\n",
       "      <td>2.8400</td>\n",
       "    </tr>\n",
       "    <tr>\n",
       "      <th>15</th>\n",
       "      <td>PRE_EMI_DUEAMT</td>\n",
       "      <td>2.1021</td>\n",
       "    </tr>\n",
       "    <tr>\n",
       "      <th>6</th>\n",
       "      <td>EXCESS_AVAILABLE</td>\n",
       "      <td>2.0675</td>\n",
       "    </tr>\n",
       "    <tr>\n",
       "      <th>14</th>\n",
       "      <td>PAID_PRINCIPAL</td>\n",
       "      <td>2.0612</td>\n",
       "    </tr>\n",
       "    <tr>\n",
       "      <th>3</th>\n",
       "      <td>DPD</td>\n",
       "      <td>1.6647</td>\n",
       "    </tr>\n",
       "    <tr>\n",
       "      <th>5</th>\n",
       "      <td>EMI_OS_AMOUNT</td>\n",
       "      <td>1.6409</td>\n",
       "    </tr>\n",
       "    <tr>\n",
       "      <th>9</th>\n",
       "      <td>NET_RECEIVABLE</td>\n",
       "      <td>1.3004</td>\n",
       "    </tr>\n",
       "    <tr>\n",
       "      <th>16</th>\n",
       "      <td>FORECLOSURE</td>\n",
       "      <td>1.1353</td>\n",
       "    </tr>\n",
       "    <tr>\n",
       "      <th>7</th>\n",
       "      <td>FOIR</td>\n",
       "      <td>1.0027</td>\n",
       "    </tr>\n",
       "  </tbody>\n",
       "</table>\n",
       "</div>"
      ],
      "text/plain": [
       "                    variables     VIF\n",
       "2       CURRENT_INTEREST_RATE 10.9674\n",
       "0              BALANCE_TENURE  8.6576\n",
       "4                  EMI_AMOUNT  7.1200\n",
       "8                     NET_LTV  6.7404\n",
       "11  NUM_LOW_FREQ_TRANSACTIONS  6.0921\n",
       "12      OUTSTANDING_PRINCIPAL  5.8386\n",
       "10            NUM_EMI_CHANGES  4.8733\n",
       "1            COMPLETED_TENURE  3.9872\n",
       "13              PAID_INTEREST  2.8400\n",
       "15             PRE_EMI_DUEAMT  2.1021\n",
       "6            EXCESS_AVAILABLE  2.0675\n",
       "14             PAID_PRINCIPAL  2.0612\n",
       "3                         DPD  1.6647\n",
       "5               EMI_OS_AMOUNT  1.6409\n",
       "9              NET_RECEIVABLE  1.3004\n",
       "16                FORECLOSURE  1.1353\n",
       "7                        FOIR  1.0027"
      ]
     },
     "execution_count": 58,
     "metadata": {},
     "output_type": "execute_result"
    }
   ],
   "source": [
    "df4 = df4.drop('EMI_RECEIVED_AMT', axis = 1)\n",
    "calc_vif(df4).sort_values(by = 'VIF', ascending = False)"
   ]
  },
  {
   "cell_type": "code",
   "execution_count": 59,
   "metadata": {},
   "outputs": [
    {
     "data": {
      "text/html": [
       "<div>\n",
       "<style scoped>\n",
       "    .dataframe tbody tr th:only-of-type {\n",
       "        vertical-align: middle;\n",
       "    }\n",
       "\n",
       "    .dataframe tbody tr th {\n",
       "        vertical-align: top;\n",
       "    }\n",
       "\n",
       "    .dataframe thead th {\n",
       "        text-align: right;\n",
       "    }\n",
       "</style>\n",
       "<table border=\"1\" class=\"dataframe\">\n",
       "  <thead>\n",
       "    <tr style=\"text-align: right;\">\n",
       "      <th></th>\n",
       "      <th>variables</th>\n",
       "      <th>VIF</th>\n",
       "    </tr>\n",
       "  </thead>\n",
       "  <tbody>\n",
       "    <tr>\n",
       "      <th>3</th>\n",
       "      <td>EMI_AMOUNT</td>\n",
       "      <td>6.9679</td>\n",
       "    </tr>\n",
       "    <tr>\n",
       "      <th>7</th>\n",
       "      <td>NET_LTV</td>\n",
       "      <td>6.3742</td>\n",
       "    </tr>\n",
       "    <tr>\n",
       "      <th>10</th>\n",
       "      <td>NUM_LOW_FREQ_TRANSACTIONS</td>\n",
       "      <td>6.0913</td>\n",
       "    </tr>\n",
       "    <tr>\n",
       "      <th>0</th>\n",
       "      <td>BALANCE_TENURE</td>\n",
       "      <td>5.8443</td>\n",
       "    </tr>\n",
       "    <tr>\n",
       "      <th>11</th>\n",
       "      <td>OUTSTANDING_PRINCIPAL</td>\n",
       "      <td>5.8186</td>\n",
       "    </tr>\n",
       "    <tr>\n",
       "      <th>9</th>\n",
       "      <td>NUM_EMI_CHANGES</td>\n",
       "      <td>4.7140</td>\n",
       "    </tr>\n",
       "    <tr>\n",
       "      <th>1</th>\n",
       "      <td>COMPLETED_TENURE</td>\n",
       "      <td>3.2839</td>\n",
       "    </tr>\n",
       "    <tr>\n",
       "      <th>12</th>\n",
       "      <td>PAID_INTEREST</td>\n",
       "      <td>2.7939</td>\n",
       "    </tr>\n",
       "    <tr>\n",
       "      <th>14</th>\n",
       "      <td>PRE_EMI_DUEAMT</td>\n",
       "      <td>2.1021</td>\n",
       "    </tr>\n",
       "    <tr>\n",
       "      <th>5</th>\n",
       "      <td>EXCESS_AVAILABLE</td>\n",
       "      <td>2.0673</td>\n",
       "    </tr>\n",
       "    <tr>\n",
       "      <th>13</th>\n",
       "      <td>PAID_PRINCIPAL</td>\n",
       "      <td>2.0612</td>\n",
       "    </tr>\n",
       "    <tr>\n",
       "      <th>2</th>\n",
       "      <td>DPD</td>\n",
       "      <td>1.6643</td>\n",
       "    </tr>\n",
       "    <tr>\n",
       "      <th>4</th>\n",
       "      <td>EMI_OS_AMOUNT</td>\n",
       "      <td>1.6403</td>\n",
       "    </tr>\n",
       "    <tr>\n",
       "      <th>8</th>\n",
       "      <td>NET_RECEIVABLE</td>\n",
       "      <td>1.3002</td>\n",
       "    </tr>\n",
       "    <tr>\n",
       "      <th>15</th>\n",
       "      <td>FORECLOSURE</td>\n",
       "      <td>1.1353</td>\n",
       "    </tr>\n",
       "    <tr>\n",
       "      <th>6</th>\n",
       "      <td>FOIR</td>\n",
       "      <td>1.0027</td>\n",
       "    </tr>\n",
       "  </tbody>\n",
       "</table>\n",
       "</div>"
      ],
      "text/plain": [
       "                    variables    VIF\n",
       "3                  EMI_AMOUNT 6.9679\n",
       "7                     NET_LTV 6.3742\n",
       "10  NUM_LOW_FREQ_TRANSACTIONS 6.0913\n",
       "0              BALANCE_TENURE 5.8443\n",
       "11      OUTSTANDING_PRINCIPAL 5.8186\n",
       "9             NUM_EMI_CHANGES 4.7140\n",
       "1            COMPLETED_TENURE 3.2839\n",
       "12              PAID_INTEREST 2.7939\n",
       "14             PRE_EMI_DUEAMT 2.1021\n",
       "5            EXCESS_AVAILABLE 2.0673\n",
       "13             PAID_PRINCIPAL 2.0612\n",
       "2                         DPD 1.6643\n",
       "4               EMI_OS_AMOUNT 1.6403\n",
       "8              NET_RECEIVABLE 1.3002\n",
       "15                FORECLOSURE 1.1353\n",
       "6                        FOIR 1.0027"
      ]
     },
     "execution_count": 59,
     "metadata": {},
     "output_type": "execute_result"
    }
   ],
   "source": [
    "df4 = df4.drop('CURRENT_INTEREST_RATE', axis = 1)\n",
    "calc_vif(df4).sort_values(by = 'VIF', ascending = False)"
   ]
  },
  {
   "cell_type": "code",
   "execution_count": 60,
   "metadata": {},
   "outputs": [
    {
     "data": {
      "text/html": [
       "<div>\n",
       "<style scoped>\n",
       "    .dataframe tbody tr th:only-of-type {\n",
       "        vertical-align: middle;\n",
       "    }\n",
       "\n",
       "    .dataframe tbody tr th {\n",
       "        vertical-align: top;\n",
       "    }\n",
       "\n",
       "    .dataframe thead th {\n",
       "        text-align: right;\n",
       "    }\n",
       "</style>\n",
       "<table border=\"1\" class=\"dataframe\">\n",
       "  <thead>\n",
       "    <tr style=\"text-align: right;\">\n",
       "      <th></th>\n",
       "      <th>variables</th>\n",
       "      <th>VIF</th>\n",
       "    </tr>\n",
       "  </thead>\n",
       "  <tbody>\n",
       "    <tr>\n",
       "      <th>6</th>\n",
       "      <td>NET_LTV</td>\n",
       "      <td>6.3567</td>\n",
       "    </tr>\n",
       "    <tr>\n",
       "      <th>9</th>\n",
       "      <td>NUM_LOW_FREQ_TRANSACTIONS</td>\n",
       "      <td>6.0907</td>\n",
       "    </tr>\n",
       "    <tr>\n",
       "      <th>0</th>\n",
       "      <td>BALANCE_TENURE</td>\n",
       "      <td>5.7708</td>\n",
       "    </tr>\n",
       "    <tr>\n",
       "      <th>8</th>\n",
       "      <td>NUM_EMI_CHANGES</td>\n",
       "      <td>4.7048</td>\n",
       "    </tr>\n",
       "    <tr>\n",
       "      <th>1</th>\n",
       "      <td>COMPLETED_TENURE</td>\n",
       "      <td>3.2807</td>\n",
       "    </tr>\n",
       "    <tr>\n",
       "      <th>11</th>\n",
       "      <td>PAID_INTEREST</td>\n",
       "      <td>2.2765</td>\n",
       "    </tr>\n",
       "    <tr>\n",
       "      <th>13</th>\n",
       "      <td>PRE_EMI_DUEAMT</td>\n",
       "      <td>2.0941</td>\n",
       "    </tr>\n",
       "    <tr>\n",
       "      <th>10</th>\n",
       "      <td>OUTSTANDING_PRINCIPAL</td>\n",
       "      <td>2.0876</td>\n",
       "    </tr>\n",
       "    <tr>\n",
       "      <th>12</th>\n",
       "      <td>PAID_PRINCIPAL</td>\n",
       "      <td>2.0579</td>\n",
       "    </tr>\n",
       "    <tr>\n",
       "      <th>4</th>\n",
       "      <td>EXCESS_AVAILABLE</td>\n",
       "      <td>1.8934</td>\n",
       "    </tr>\n",
       "    <tr>\n",
       "      <th>2</th>\n",
       "      <td>DPD</td>\n",
       "      <td>1.6642</td>\n",
       "    </tr>\n",
       "    <tr>\n",
       "      <th>3</th>\n",
       "      <td>EMI_OS_AMOUNT</td>\n",
       "      <td>1.6312</td>\n",
       "    </tr>\n",
       "    <tr>\n",
       "      <th>7</th>\n",
       "      <td>NET_RECEIVABLE</td>\n",
       "      <td>1.2866</td>\n",
       "    </tr>\n",
       "    <tr>\n",
       "      <th>14</th>\n",
       "      <td>FORECLOSURE</td>\n",
       "      <td>1.1350</td>\n",
       "    </tr>\n",
       "    <tr>\n",
       "      <th>5</th>\n",
       "      <td>FOIR</td>\n",
       "      <td>1.0008</td>\n",
       "    </tr>\n",
       "  </tbody>\n",
       "</table>\n",
       "</div>"
      ],
      "text/plain": [
       "                    variables    VIF\n",
       "6                     NET_LTV 6.3567\n",
       "9   NUM_LOW_FREQ_TRANSACTIONS 6.0907\n",
       "0              BALANCE_TENURE 5.7708\n",
       "8             NUM_EMI_CHANGES 4.7048\n",
       "1            COMPLETED_TENURE 3.2807\n",
       "11              PAID_INTEREST 2.2765\n",
       "13             PRE_EMI_DUEAMT 2.0941\n",
       "10      OUTSTANDING_PRINCIPAL 2.0876\n",
       "12             PAID_PRINCIPAL 2.0579\n",
       "4            EXCESS_AVAILABLE 1.8934\n",
       "2                         DPD 1.6642\n",
       "3               EMI_OS_AMOUNT 1.6312\n",
       "7              NET_RECEIVABLE 1.2866\n",
       "14                FORECLOSURE 1.1350\n",
       "5                        FOIR 1.0008"
      ]
     },
     "execution_count": 60,
     "metadata": {},
     "output_type": "execute_result"
    }
   ],
   "source": [
    "df4 = df4.drop('EMI_AMOUNT', axis = 1)\n",
    "calc_vif(df4).sort_values(by = 'VIF', ascending = False)"
   ]
  },
  {
   "cell_type": "code",
   "execution_count": 61,
   "metadata": {},
   "outputs": [
    {
     "data": {
      "text/html": [
       "<div>\n",
       "<style scoped>\n",
       "    .dataframe tbody tr th:only-of-type {\n",
       "        vertical-align: middle;\n",
       "    }\n",
       "\n",
       "    .dataframe tbody tr th {\n",
       "        vertical-align: top;\n",
       "    }\n",
       "\n",
       "    .dataframe thead th {\n",
       "        text-align: right;\n",
       "    }\n",
       "</style>\n",
       "<table border=\"1\" class=\"dataframe\">\n",
       "  <thead>\n",
       "    <tr style=\"text-align: right;\">\n",
       "      <th></th>\n",
       "      <th>variables</th>\n",
       "      <th>VIF</th>\n",
       "    </tr>\n",
       "  </thead>\n",
       "  <tbody>\n",
       "    <tr>\n",
       "      <th>8</th>\n",
       "      <td>NUM_LOW_FREQ_TRANSACTIONS</td>\n",
       "      <td>6.0888</td>\n",
       "    </tr>\n",
       "    <tr>\n",
       "      <th>7</th>\n",
       "      <td>NUM_EMI_CHANGES</td>\n",
       "      <td>4.6680</td>\n",
       "    </tr>\n",
       "    <tr>\n",
       "      <th>1</th>\n",
       "      <td>COMPLETED_TENURE</td>\n",
       "      <td>3.2012</td>\n",
       "    </tr>\n",
       "    <tr>\n",
       "      <th>10</th>\n",
       "      <td>PAID_INTEREST</td>\n",
       "      <td>2.2765</td>\n",
       "    </tr>\n",
       "    <tr>\n",
       "      <th>0</th>\n",
       "      <td>BALANCE_TENURE</td>\n",
       "      <td>2.1130</td>\n",
       "    </tr>\n",
       "    <tr>\n",
       "      <th>12</th>\n",
       "      <td>PRE_EMI_DUEAMT</td>\n",
       "      <td>2.0929</td>\n",
       "    </tr>\n",
       "    <tr>\n",
       "      <th>9</th>\n",
       "      <td>OUTSTANDING_PRINCIPAL</td>\n",
       "      <td>2.0744</td>\n",
       "    </tr>\n",
       "    <tr>\n",
       "      <th>11</th>\n",
       "      <td>PAID_PRINCIPAL</td>\n",
       "      <td>2.0576</td>\n",
       "    </tr>\n",
       "    <tr>\n",
       "      <th>4</th>\n",
       "      <td>EXCESS_AVAILABLE</td>\n",
       "      <td>1.8820</td>\n",
       "    </tr>\n",
       "    <tr>\n",
       "      <th>2</th>\n",
       "      <td>DPD</td>\n",
       "      <td>1.6638</td>\n",
       "    </tr>\n",
       "    <tr>\n",
       "      <th>3</th>\n",
       "      <td>EMI_OS_AMOUNT</td>\n",
       "      <td>1.6304</td>\n",
       "    </tr>\n",
       "    <tr>\n",
       "      <th>6</th>\n",
       "      <td>NET_RECEIVABLE</td>\n",
       "      <td>1.2851</td>\n",
       "    </tr>\n",
       "    <tr>\n",
       "      <th>13</th>\n",
       "      <td>FORECLOSURE</td>\n",
       "      <td>1.1342</td>\n",
       "    </tr>\n",
       "    <tr>\n",
       "      <th>5</th>\n",
       "      <td>FOIR</td>\n",
       "      <td>1.0008</td>\n",
       "    </tr>\n",
       "  </tbody>\n",
       "</table>\n",
       "</div>"
      ],
      "text/plain": [
       "                    variables    VIF\n",
       "8   NUM_LOW_FREQ_TRANSACTIONS 6.0888\n",
       "7             NUM_EMI_CHANGES 4.6680\n",
       "1            COMPLETED_TENURE 3.2012\n",
       "10              PAID_INTEREST 2.2765\n",
       "0              BALANCE_TENURE 2.1130\n",
       "12             PRE_EMI_DUEAMT 2.0929\n",
       "9       OUTSTANDING_PRINCIPAL 2.0744\n",
       "11             PAID_PRINCIPAL 2.0576\n",
       "4            EXCESS_AVAILABLE 1.8820\n",
       "2                         DPD 1.6638\n",
       "3               EMI_OS_AMOUNT 1.6304\n",
       "6              NET_RECEIVABLE 1.2851\n",
       "13                FORECLOSURE 1.1342\n",
       "5                        FOIR 1.0008"
      ]
     },
     "execution_count": 61,
     "metadata": {},
     "output_type": "execute_result"
    }
   ],
   "source": [
    "df4 = df4.drop('NET_LTV', axis = 1)\n",
    "calc_vif(df4).sort_values(by = 'VIF', ascending = False)"
   ]
  },
  {
   "cell_type": "code",
   "execution_count": 62,
   "metadata": {},
   "outputs": [
    {
     "data": {
      "text/html": [
       "<div>\n",
       "<style scoped>\n",
       "    .dataframe tbody tr th:only-of-type {\n",
       "        vertical-align: middle;\n",
       "    }\n",
       "\n",
       "    .dataframe tbody tr th {\n",
       "        vertical-align: top;\n",
       "    }\n",
       "\n",
       "    .dataframe thead th {\n",
       "        text-align: right;\n",
       "    }\n",
       "</style>\n",
       "<table border=\"1\" class=\"dataframe\">\n",
       "  <thead>\n",
       "    <tr style=\"text-align: right;\">\n",
       "      <th></th>\n",
       "      <th>variables</th>\n",
       "      <th>VIF</th>\n",
       "    </tr>\n",
       "  </thead>\n",
       "  <tbody>\n",
       "    <tr>\n",
       "      <th>1</th>\n",
       "      <td>COMPLETED_TENURE</td>\n",
       "      <td>2.5744</td>\n",
       "    </tr>\n",
       "    <tr>\n",
       "      <th>7</th>\n",
       "      <td>NUM_EMI_CHANGES</td>\n",
       "      <td>2.4403</td>\n",
       "    </tr>\n",
       "    <tr>\n",
       "      <th>9</th>\n",
       "      <td>PAID_INTEREST</td>\n",
       "      <td>2.2720</td>\n",
       "    </tr>\n",
       "    <tr>\n",
       "      <th>0</th>\n",
       "      <td>BALANCE_TENURE</td>\n",
       "      <td>2.1057</td>\n",
       "    </tr>\n",
       "    <tr>\n",
       "      <th>11</th>\n",
       "      <td>PRE_EMI_DUEAMT</td>\n",
       "      <td>2.0887</td>\n",
       "    </tr>\n",
       "    <tr>\n",
       "      <th>8</th>\n",
       "      <td>OUTSTANDING_PRINCIPAL</td>\n",
       "      <td>2.0731</td>\n",
       "    </tr>\n",
       "    <tr>\n",
       "      <th>10</th>\n",
       "      <td>PAID_PRINCIPAL</td>\n",
       "      <td>2.0575</td>\n",
       "    </tr>\n",
       "    <tr>\n",
       "      <th>4</th>\n",
       "      <td>EXCESS_AVAILABLE</td>\n",
       "      <td>1.8810</td>\n",
       "    </tr>\n",
       "    <tr>\n",
       "      <th>3</th>\n",
       "      <td>EMI_OS_AMOUNT</td>\n",
       "      <td>1.6284</td>\n",
       "    </tr>\n",
       "    <tr>\n",
       "      <th>2</th>\n",
       "      <td>DPD</td>\n",
       "      <td>1.5743</td>\n",
       "    </tr>\n",
       "    <tr>\n",
       "      <th>6</th>\n",
       "      <td>NET_RECEIVABLE</td>\n",
       "      <td>1.2846</td>\n",
       "    </tr>\n",
       "    <tr>\n",
       "      <th>12</th>\n",
       "      <td>FORECLOSURE</td>\n",
       "      <td>1.1291</td>\n",
       "    </tr>\n",
       "    <tr>\n",
       "      <th>5</th>\n",
       "      <td>FOIR</td>\n",
       "      <td>1.0007</td>\n",
       "    </tr>\n",
       "  </tbody>\n",
       "</table>\n",
       "</div>"
      ],
      "text/plain": [
       "                variables    VIF\n",
       "1        COMPLETED_TENURE 2.5744\n",
       "7         NUM_EMI_CHANGES 2.4403\n",
       "9           PAID_INTEREST 2.2720\n",
       "0          BALANCE_TENURE 2.1057\n",
       "11         PRE_EMI_DUEAMT 2.0887\n",
       "8   OUTSTANDING_PRINCIPAL 2.0731\n",
       "10         PAID_PRINCIPAL 2.0575\n",
       "4        EXCESS_AVAILABLE 1.8810\n",
       "3           EMI_OS_AMOUNT 1.6284\n",
       "2                     DPD 1.5743\n",
       "6          NET_RECEIVABLE 1.2846\n",
       "12            FORECLOSURE 1.1291\n",
       "5                    FOIR 1.0007"
      ]
     },
     "execution_count": 62,
     "metadata": {},
     "output_type": "execute_result"
    }
   ],
   "source": [
    "df4 = df4.drop('NUM_LOW_FREQ_TRANSACTIONS', axis = 1)\n",
    "calc_vif(df4).sort_values(by = 'VIF', ascending = False)"
   ]
  },
  {
   "cell_type": "code",
   "execution_count": 63,
   "metadata": {},
   "outputs": [
    {
     "data": {
      "text/plain": [
       "(20012, 13)"
      ]
     },
     "execution_count": 63,
     "metadata": {},
     "output_type": "execute_result"
    }
   ],
   "source": [
    "df4.shape"
   ]
  },
  {
   "cell_type": "code",
   "execution_count": 64,
   "metadata": {},
   "outputs": [
    {
     "data": {
      "text/plain": [
       "Index(['BALANCE_TENURE', 'COMPLETED_TENURE', 'DPD', 'EMI_OS_AMOUNT',\n",
       "       'EXCESS_AVAILABLE', 'FOIR', 'NET_RECEIVABLE', 'NUM_EMI_CHANGES',\n",
       "       'OUTSTANDING_PRINCIPAL', 'PAID_INTEREST', 'PAID_PRINCIPAL',\n",
       "       'PRE_EMI_DUEAMT', 'FORECLOSURE'],\n",
       "      dtype='object')"
      ]
     },
     "execution_count": 64,
     "metadata": {},
     "output_type": "execute_result"
    }
   ],
   "source": [
    "df4.columns"
   ]
  },
  {
   "cell_type": "code",
   "execution_count": 65,
   "metadata": {},
   "outputs": [
    {
     "data": {
      "text/html": [
       "<div>\n",
       "<style scoped>\n",
       "    .dataframe tbody tr th:only-of-type {\n",
       "        vertical-align: middle;\n",
       "    }\n",
       "\n",
       "    .dataframe tbody tr th {\n",
       "        vertical-align: top;\n",
       "    }\n",
       "\n",
       "    .dataframe thead th {\n",
       "        text-align: right;\n",
       "    }\n",
       "</style>\n",
       "<table border=\"1\" class=\"dataframe\">\n",
       "  <thead>\n",
       "    <tr style=\"text-align: right;\">\n",
       "      <th></th>\n",
       "      <th>count</th>\n",
       "      <th>mean</th>\n",
       "      <th>std</th>\n",
       "      <th>min</th>\n",
       "      <th>25%</th>\n",
       "      <th>50%</th>\n",
       "      <th>75%</th>\n",
       "      <th>max</th>\n",
       "    </tr>\n",
       "  </thead>\n",
       "  <tbody>\n",
       "    <tr>\n",
       "      <th>BALANCE_TENURE</th>\n",
       "      <td>20012.0000</td>\n",
       "      <td>172.8246</td>\n",
       "      <td>64.0045</td>\n",
       "      <td>0.0000</td>\n",
       "      <td>136.0000</td>\n",
       "      <td>174.0000</td>\n",
       "      <td>216.0000</td>\n",
       "      <td>674.0000</td>\n",
       "    </tr>\n",
       "    <tr>\n",
       "      <th>COMPLETED_TENURE</th>\n",
       "      <td>20012.0000</td>\n",
       "      <td>17.2691</td>\n",
       "      <td>16.4863</td>\n",
       "      <td>0.0000</td>\n",
       "      <td>6.0000</td>\n",
       "      <td>12.0000</td>\n",
       "      <td>25.0000</td>\n",
       "      <td>98.0000</td>\n",
       "    </tr>\n",
       "    <tr>\n",
       "      <th>DPD</th>\n",
       "      <td>20012.0000</td>\n",
       "      <td>7.5741</td>\n",
       "      <td>66.0989</td>\n",
       "      <td>0.0000</td>\n",
       "      <td>0.0000</td>\n",
       "      <td>0.0000</td>\n",
       "      <td>0.0000</td>\n",
       "      <td>2054.0000</td>\n",
       "    </tr>\n",
       "    <tr>\n",
       "      <th>EMI_OS_AMOUNT</th>\n",
       "      <td>20012.0000</td>\n",
       "      <td>33297.3485</td>\n",
       "      <td>656131.1347</td>\n",
       "      <td>0.0000</td>\n",
       "      <td>0.0000</td>\n",
       "      <td>0.0000</td>\n",
       "      <td>0.0000</td>\n",
       "      <td>58995308.7953</td>\n",
       "    </tr>\n",
       "    <tr>\n",
       "      <th>EXCESS_AVAILABLE</th>\n",
       "      <td>20012.0000</td>\n",
       "      <td>438896.1929</td>\n",
       "      <td>4169759.3531</td>\n",
       "      <td>0.0000</td>\n",
       "      <td>0.0000</td>\n",
       "      <td>260.6091</td>\n",
       "      <td>3105.0088</td>\n",
       "      <td>284164207.0655</td>\n",
       "    </tr>\n",
       "    <tr>\n",
       "      <th>FOIR</th>\n",
       "      <td>20012.0000</td>\n",
       "      <td>27.9600</td>\n",
       "      <td>3871.0648</td>\n",
       "      <td>-170.3300</td>\n",
       "      <td>0.4100</td>\n",
       "      <td>0.5200</td>\n",
       "      <td>0.6800</td>\n",
       "      <td>547616.0000</td>\n",
       "    </tr>\n",
       "    <tr>\n",
       "      <th>NET_RECEIVABLE</th>\n",
       "      <td>20012.0000</td>\n",
       "      <td>-45439.1533</td>\n",
       "      <td>1348502.3128</td>\n",
       "      <td>-75345537.7245</td>\n",
       "      <td>-17.6684</td>\n",
       "      <td>0.0000</td>\n",
       "      <td>0.0000</td>\n",
       "      <td>38643502.1153</td>\n",
       "    </tr>\n",
       "    <tr>\n",
       "      <th>NUM_EMI_CHANGES</th>\n",
       "      <td>20012.0000</td>\n",
       "      <td>2.9498</td>\n",
       "      <td>2.6355</td>\n",
       "      <td>-1.0000</td>\n",
       "      <td>2.0000</td>\n",
       "      <td>2.0000</td>\n",
       "      <td>4.0000</td>\n",
       "      <td>33.0000</td>\n",
       "    </tr>\n",
       "    <tr>\n",
       "      <th>OUTSTANDING_PRINCIPAL</th>\n",
       "      <td>20012.0000</td>\n",
       "      <td>5212982.4025</td>\n",
       "      <td>11521352.5645</td>\n",
       "      <td>-0.7506</td>\n",
       "      <td>1428919.4555</td>\n",
       "      <td>2394655.3775</td>\n",
       "      <td>4551203.7397</td>\n",
       "      <td>381836715.3048</td>\n",
       "    </tr>\n",
       "    <tr>\n",
       "      <th>PAID_INTEREST</th>\n",
       "      <td>20012.0000</td>\n",
       "      <td>989054.6886</td>\n",
       "      <td>3026052.5285</td>\n",
       "      <td>0.0000</td>\n",
       "      <td>125331.9266</td>\n",
       "      <td>309724.8300</td>\n",
       "      <td>795467.9601</td>\n",
       "      <td>123036220.6464</td>\n",
       "    </tr>\n",
       "    <tr>\n",
       "      <th>PAID_PRINCIPAL</th>\n",
       "      <td>20012.0000</td>\n",
       "      <td>866763.7301</td>\n",
       "      <td>34697580.7923</td>\n",
       "      <td>0.0000</td>\n",
       "      <td>23418.3379</td>\n",
       "      <td>78786.5023</td>\n",
       "      <td>291780.9673</td>\n",
       "      <td>4885216533.2000</td>\n",
       "    </tr>\n",
       "    <tr>\n",
       "      <th>PRE_EMI_DUEAMT</th>\n",
       "      <td>20012.0000</td>\n",
       "      <td>57804.4696</td>\n",
       "      <td>377664.7415</td>\n",
       "      <td>0.0000</td>\n",
       "      <td>4768.2638</td>\n",
       "      <td>10696.0173</td>\n",
       "      <td>31878.7917</td>\n",
       "      <td>31775396.1356</td>\n",
       "    </tr>\n",
       "    <tr>\n",
       "      <th>FORECLOSURE</th>\n",
       "      <td>20012.0000</td>\n",
       "      <td>0.0897</td>\n",
       "      <td>0.2858</td>\n",
       "      <td>0.0000</td>\n",
       "      <td>0.0000</td>\n",
       "      <td>0.0000</td>\n",
       "      <td>0.0000</td>\n",
       "      <td>1.0000</td>\n",
       "    </tr>\n",
       "  </tbody>\n",
       "</table>\n",
       "</div>"
      ],
      "text/plain": [
       "                           count         mean           std            min  \\\n",
       "BALANCE_TENURE        20012.0000     172.8246       64.0045         0.0000   \n",
       "COMPLETED_TENURE      20012.0000      17.2691       16.4863         0.0000   \n",
       "DPD                   20012.0000       7.5741       66.0989         0.0000   \n",
       "EMI_OS_AMOUNT         20012.0000   33297.3485   656131.1347         0.0000   \n",
       "EXCESS_AVAILABLE      20012.0000  438896.1929  4169759.3531         0.0000   \n",
       "FOIR                  20012.0000      27.9600     3871.0648      -170.3300   \n",
       "NET_RECEIVABLE        20012.0000  -45439.1533  1348502.3128 -75345537.7245   \n",
       "NUM_EMI_CHANGES       20012.0000       2.9498        2.6355        -1.0000   \n",
       "OUTSTANDING_PRINCIPAL 20012.0000 5212982.4025 11521352.5645        -0.7506   \n",
       "PAID_INTEREST         20012.0000  989054.6886  3026052.5285         0.0000   \n",
       "PAID_PRINCIPAL        20012.0000  866763.7301 34697580.7923         0.0000   \n",
       "PRE_EMI_DUEAMT        20012.0000   57804.4696   377664.7415         0.0000   \n",
       "FORECLOSURE           20012.0000       0.0897        0.2858         0.0000   \n",
       "\n",
       "                               25%          50%          75%             max  \n",
       "BALANCE_TENURE            136.0000     174.0000     216.0000        674.0000  \n",
       "COMPLETED_TENURE            6.0000      12.0000      25.0000         98.0000  \n",
       "DPD                         0.0000       0.0000       0.0000       2054.0000  \n",
       "EMI_OS_AMOUNT               0.0000       0.0000       0.0000   58995308.7953  \n",
       "EXCESS_AVAILABLE            0.0000     260.6091    3105.0088  284164207.0655  \n",
       "FOIR                        0.4100       0.5200       0.6800     547616.0000  \n",
       "NET_RECEIVABLE            -17.6684       0.0000       0.0000   38643502.1153  \n",
       "NUM_EMI_CHANGES             2.0000       2.0000       4.0000         33.0000  \n",
       "OUTSTANDING_PRINCIPAL 1428919.4555 2394655.3775 4551203.7397  381836715.3048  \n",
       "PAID_INTEREST          125331.9266  309724.8300  795467.9601  123036220.6464  \n",
       "PAID_PRINCIPAL          23418.3379   78786.5023  291780.9673 4885216533.2000  \n",
       "PRE_EMI_DUEAMT           4768.2638   10696.0173   31878.7917   31775396.1356  \n",
       "FORECLOSURE                 0.0000       0.0000       0.0000          1.0000  "
      ]
     },
     "execution_count": 65,
     "metadata": {},
     "output_type": "execute_result"
    }
   ],
   "source": [
    "df4.describe().transpose()"
   ]
  },
  {
   "cell_type": "code",
   "execution_count": 66,
   "metadata": {},
   "outputs": [],
   "source": [
    "from pylab import rcParams\n",
    "rcParams['figure.figsize'] = 15,2"
   ]
  },
  {
   "cell_type": "code",
   "execution_count": 67,
   "metadata": {
    "scrolled": false
   },
   "outputs": [
    {
     "data": {
      "image/png": "[encoded data removed]",
      "text/plain": [
       "<Figure size 1080x144 with 1 Axes>"
      ]
     },
     "metadata": {
      "needs_background": "light"
     },
     "output_type": "display_data"
    },
    {
     "data": {
      "image/png": "[encoded data removed]",
      "text/plain": [
       "<Figure size 1080x144 with 1 Axes>"
      ]
     },
     "metadata": {
      "needs_background": "light"
     },
     "output_type": "display_data"
    },
    {
     "data": {
      "image/png": "[encoded data removed]",
      "text/plain": [
       "<Figure size 1080x144 with 1 Axes>"
      ]
     },
     "metadata": {
      "needs_background": "light"
     },
     "output_type": "display_data"
    },
    {
     "data": {
      "image/png": "[encoded data removed]",
      "text/plain": [
       "<Figure size 1080x144 with 1 Axes>"
      ]
     },
     "metadata": {
      "needs_background": "light"
     },
     "output_type": "display_data"
    },
    {
     "data": {
      "image/png": "[encoded data removed]",
      "text/plain": [
       "<Figure size 1080x144 with 1 Axes>"
      ]
     },
     "metadata": {
      "needs_background": "light"
     },
     "output_type": "display_data"
    },
    {
     "data": {
      "image/png": "[encoded data removed]",
      "text/plain": [
       "<Figure size 1080x144 with 1 Axes>"
      ]
     },
     "metadata": {
      "needs_background": "light"
     },
     "output_type": "display_data"
    },
    {
     "data": {
      "image/png": "[encoded data removed]",
      "text/plain": [
       "<Figure size 1080x144 with 1 Axes>"
      ]
     },
     "metadata": {
      "needs_background": "light"
     },
     "output_type": "display_data"
    },
    {
     "data": {
      "image/png": "[encoded data removed]",
      "text/plain": [
       "<Figure size 1080x144 with 1 Axes>"
      ]
     },
     "metadata": {
      "needs_background": "light"
     },
     "output_type": "display_data"
    },
    {
     "data": {
      "image/png": "[encoded data removed]",
      "text/plain": [
       "<Figure size 1080x144 with 1 Axes>"
      ]
     },
     "metadata": {
      "needs_background": "light"
     },
     "output_type": "display_data"
    }
   ],
   "source": [
    "cols=['BALANCE_TENURE', 'COMPLETED_TENURE','EXCESS_AVAILABLE', 'FOIR', 'NET_RECEIVABLE','OUTSTANDING_PRINCIPAL', 'PAID_INTEREST', 'PAID_PRINCIPAL',\n",
    "       'PRE_EMI_DUEAMT'];\n",
    "\n",
    "for i in cols:\n",
    "    sns.boxplot(df[i])\n",
    "    plt.show()"
   ]
  },
  {
   "cell_type": "code",
   "execution_count": 68,
   "metadata": {},
   "outputs": [],
   "source": [
    "def remove_outlier(col):\n",
    "    sorted(col)\n",
    "    Q1,Q3=np.percentile(col,[25,75])\n",
    "    IQR=Q3-Q1\n",
    "    lr= Q1-(1.5 * IQR)\n",
    "    ur= Q3+(1.5 * IQR)\n",
    "    return lr, ur"
   ]
  },
  {
   "cell_type": "code",
   "execution_count": 69,
   "metadata": {},
   "outputs": [],
   "source": [
    "cols=['BALANCE_TENURE', 'COMPLETED_TENURE', \n",
    "       'EXCESS_AVAILABLE', 'FOIR', 'NET_RECEIVABLE',\n",
    "       'OUTSTANDING_PRINCIPAL', 'PAID_INTEREST', 'PAID_PRINCIPAL',\n",
    "       'PRE_EMI_DUEAMT']\n",
    "for column in cols:\n",
    "    lr,ur=remove_outlier(df4[column])\n",
    "    df4[column]=np.where(df4[column]>ur,ur,df4[column])\n",
    "    df4[column]=np.where(df4[column]<lr,lr,df4[column])   "
   ]
  },
  {
   "cell_type": "code",
   "execution_count": 70,
   "metadata": {
    "scrolled": false
   },
   "outputs": [
    {
     "data": {
      "image/png": "[encoded data removed]",
      "text/plain": [
       "<Figure size 1080x144 with 1 Axes>"
      ]
     },
     "metadata": {
      "needs_background": "light"
     },
     "output_type": "display_data"
    },
    {
     "data": {
      "image/png": "[encoded data removed]",
      "text/plain": [
       "<Figure size 1080x144 with 1 Axes>"
      ]
     },
     "metadata": {
      "needs_background": "light"
     },
     "output_type": "display_data"
    },
    {
     "data": {
      "image/png": "[encoded data removed]",
      "text/plain": [
       "<Figure size 1080x144 with 1 Axes>"
      ]
     },
     "metadata": {
      "needs_background": "light"
     },
     "output_type": "display_data"
    },
    {
     "data": {
      "image/png": "[encoded data removed]",
      "text/plain": [
       "<Figure size 1080x144 with 1 Axes>"
      ]
     },
     "metadata": {
      "needs_background": "light"
     },
     "output_type": "display_data"
    },
    {
     "data": {
      "image/png": "[encoded data removed]",
      "text/plain": [
       "<Figure size 1080x144 with 1 Axes>"
      ]
     },
     "metadata": {
      "needs_background": "light"
     },
     "output_type": "display_data"
    },
    {
     "data": {
      "image/png": "[encoded data removed]",
      "text/plain": [
       "<Figure size 1080x144 with 1 Axes>"
      ]
     },
     "metadata": {
      "needs_background": "light"
     },
     "output_type": "display_data"
    },
    {
     "data": {
      "image/png": "[encoded data removed]",
      "text/plain": [
       "<Figure size 1080x144 with 1 Axes>"
      ]
     },
     "metadata": {
      "needs_background": "light"
     },
     "output_type": "display_data"
    },
    {
     "data": {
      "image/png": "[encoded data removed]",
      "text/plain": [
       "<Figure size 1080x144 with 1 Axes>"
      ]
     },
     "metadata": {
      "needs_background": "light"
     },
     "output_type": "display_data"
    },
    {
     "data": {
      "image/png": "[encoded data removed]",
      "text/plain": [
       "<Figure size 1080x144 with 1 Axes>"
      ]
     },
     "metadata": {
      "needs_background": "light"
     },
     "output_type": "display_data"
    }
   ],
   "source": [
    "cols=['BALANCE_TENURE', 'COMPLETED_TENURE','EXCESS_AVAILABLE', 'FOIR', 'NET_RECEIVABLE','OUTSTANDING_PRINCIPAL', 'PAID_INTEREST', 'PAID_PRINCIPAL',\n",
    "       'PRE_EMI_DUEAMT'];\n",
    "\n",
    "for i in cols:\n",
    "    sns.boxplot(df4[i])\n",
    "    plt.show()"
   ]
  },
  {
   "cell_type": "code",
   "execution_count": 71,
   "metadata": {},
   "outputs": [
    {
     "name": "stdout",
     "output_type": "stream",
     "text": [
      "FORECLOSURE       0     1    All\n",
      "DPD_RANGE                       \n",
      "0-1           17113  1657  18770\n",
      "1-30            546    59    605\n",
      "30-60           217    22    239\n",
      "60-90           148    26    174\n",
      "90 and above    193    31    224\n",
      "All           18217  1795  20012\n",
      "FORECLOSURE          0     1    All\n",
      "EMI_OSAMT_RANGE                    \n",
      "0-10k            17153  1623  18776\n",
      "10k-50k            346    62    408\n",
      "50k-300K           492    79    571\n",
      "300k and above     226    31    257\n",
      "All              18217  1795  20012\n",
      "FORECLOSURE                0     1    All\n",
      "NUM_EMI_CHANGES_RANGE                    \n",
      "-5-2#                  10880   916  11796\n",
      "2-5#                    5276   583   5859\n",
      "5 and above             2061   296   2357\n",
      "All                    18217  1795  20012\n"
     ]
    }
   ],
   "source": [
    "#Derived Variables for these 3 variables\n",
    "# 'DPD', 'EMI_OS_AMOUNT', 'NUM_EMI_CHANGES'\n",
    "\n",
    "# DPD\n",
    "bins = [0, 1, 30, 60, 90, 10000000]\n",
    "slot = ['0-1','1-30','30-60','60-90','90 and above']\n",
    "df4['DPD_RANGE'] = pd.cut(df4['DPD'], bins, labels=slot, include_lowest=True)\n",
    "#print(df4['DPD_RANGE'].value_counts(dropna=False))\n",
    "print(pd.crosstab(df4.DPD_RANGE, df4.FORECLOSURE,  margins=True))\n",
    "\n",
    "#EMI_OS_AMT\n",
    "bins = [0, 10000, 50000, 300000, 100000000000000]\n",
    "slot = ['0-10k','10k-50k','50k-300K','300k and above']\n",
    "df4['EMI_OSAMT_RANGE'] = pd.cut(df4['EMI_OS_AMOUNT'], bins, labels=slot, include_lowest=True)\n",
    "#print(df4['EMI_OSAMT_RANGE'].value_counts(dropna=False))\n",
    "print(pd.crosstab(df4.EMI_OSAMT_RANGE, df4.FORECLOSURE,  margins=True))\n",
    "\n",
    "#NUM_EMI_CHANGES\n",
    "bins = [-5, 2, 5,100]\n",
    "slot = ['-5-2#','2-5#','5 and above']\n",
    "df4['NUM_EMI_CHANGES_RANGE'] = pd.cut(df4['NUM_EMI_CHANGES'], bins, labels=slot, include_lowest=True)\n",
    "#print(df4['NUM_EMI_CHANGES_RANGE'].value_counts(dropna=False))\n",
    "print(pd.crosstab(df4.NUM_EMI_CHANGES_RANGE, df4.FORECLOSURE,  margins=True))"
   ]
  },
  {
   "cell_type": "code",
   "execution_count": 72,
   "metadata": {},
   "outputs": [
    {
     "data": {
      "text/plain": [
       "(20012, 16)"
      ]
     },
     "execution_count": 72,
     "metadata": {},
     "output_type": "execute_result"
    }
   ],
   "source": [
    "df4.shape"
   ]
  },
  {
   "cell_type": "code",
   "execution_count": 73,
   "metadata": {},
   "outputs": [],
   "source": [
    "col =['DPD', 'EMI_OS_AMOUNT', 'NUM_EMI_CHANGES']\n",
    "df4 = df4.drop(col, axis = 1)"
   ]
  },
  {
   "cell_type": "code",
   "execution_count": 74,
   "metadata": {},
   "outputs": [
    {
     "data": {
      "text/plain": [
       "(20012, 13)"
      ]
     },
     "execution_count": 74,
     "metadata": {},
     "output_type": "execute_result"
    }
   ],
   "source": [
    "df4.shape"
   ]
  },
  {
   "cell_type": "code",
   "execution_count": 75,
   "metadata": {},
   "outputs": [
    {
     "data": {
      "text/html": [
       "<div>\n",
       "<style scoped>\n",
       "    .dataframe tbody tr th:only-of-type {\n",
       "        vertical-align: middle;\n",
       "    }\n",
       "\n",
       "    .dataframe tbody tr th {\n",
       "        vertical-align: top;\n",
       "    }\n",
       "\n",
       "    .dataframe thead th {\n",
       "        text-align: right;\n",
       "    }\n",
       "</style>\n",
       "<table border=\"1\" class=\"dataframe\">\n",
       "  <thead>\n",
       "    <tr style=\"text-align: right;\">\n",
       "      <th></th>\n",
       "      <th>0</th>\n",
       "      <th>1</th>\n",
       "      <th>2</th>\n",
       "      <th>3</th>\n",
       "      <th>4</th>\n",
       "      <th>5</th>\n",
       "      <th>6</th>\n",
       "      <th>7</th>\n",
       "      <th>8</th>\n",
       "      <th>9</th>\n",
       "      <th>10</th>\n",
       "      <th>11</th>\n",
       "      <th>12</th>\n",
       "      <th>13</th>\n",
       "      <th>14</th>\n",
       "      <th>15</th>\n",
       "      <th>16</th>\n",
       "      <th>17</th>\n",
       "      <th>18</th>\n",
       "      <th>19</th>\n",
       "      <th>20</th>\n",
       "      <th>21</th>\n",
       "      <th>22</th>\n",
       "      <th>23</th>\n",
       "      <th>24</th>\n",
       "      <th>25</th>\n",
       "      <th>26</th>\n",
       "      <th>27</th>\n",
       "      <th>28</th>\n",
       "      <th>29</th>\n",
       "      <th>...</th>\n",
       "      <th>19982</th>\n",
       "      <th>19983</th>\n",
       "      <th>19984</th>\n",
       "      <th>19985</th>\n",
       "      <th>19986</th>\n",
       "      <th>19987</th>\n",
       "      <th>19988</th>\n",
       "      <th>19989</th>\n",
       "      <th>19990</th>\n",
       "      <th>19991</th>\n",
       "      <th>19992</th>\n",
       "      <th>19993</th>\n",
       "      <th>19994</th>\n",
       "      <th>19995</th>\n",
       "      <th>19996</th>\n",
       "      <th>19997</th>\n",
       "      <th>19998</th>\n",
       "      <th>19999</th>\n",
       "      <th>20000</th>\n",
       "      <th>20001</th>\n",
       "      <th>20002</th>\n",
       "      <th>20003</th>\n",
       "      <th>20004</th>\n",
       "      <th>20005</th>\n",
       "      <th>20006</th>\n",
       "      <th>20007</th>\n",
       "      <th>20008</th>\n",
       "      <th>20009</th>\n",
       "      <th>20010</th>\n",
       "      <th>20011</th>\n",
       "    </tr>\n",
       "  </thead>\n",
       "  <tbody>\n",
       "    <tr>\n",
       "      <th>BALANCE_TENURE</th>\n",
       "      <td>16.0000</td>\n",
       "      <td>99.0000</td>\n",
       "      <td>231.0000</td>\n",
       "      <td>16.0000</td>\n",
       "      <td>215.0000</td>\n",
       "      <td>137.0000</td>\n",
       "      <td>294.0000</td>\n",
       "      <td>276.0000</td>\n",
       "      <td>145.0000</td>\n",
       "      <td>291.0000</td>\n",
       "      <td>16.0000</td>\n",
       "      <td>16.0000</td>\n",
       "      <td>16.0000</td>\n",
       "      <td>247.0000</td>\n",
       "      <td>128.0000</td>\n",
       "      <td>113.0000</td>\n",
       "      <td>111.0000</td>\n",
       "      <td>152.0000</td>\n",
       "      <td>118.0000</td>\n",
       "      <td>149.0000</td>\n",
       "      <td>295.0000</td>\n",
       "      <td>303.0000</td>\n",
       "      <td>274.0000</td>\n",
       "      <td>116.0000</td>\n",
       "      <td>284.0000</td>\n",
       "      <td>53.0000</td>\n",
       "      <td>132.0000</td>\n",
       "      <td>134.0000</td>\n",
       "      <td>227.0000</td>\n",
       "      <td>16.0000</td>\n",
       "      <td>...</td>\n",
       "      <td>240.0000</td>\n",
       "      <td>240.0000</td>\n",
       "      <td>240.0000</td>\n",
       "      <td>192.0000</td>\n",
       "      <td>240.0000</td>\n",
       "      <td>240.0000</td>\n",
       "      <td>240.0000</td>\n",
       "      <td>300.0000</td>\n",
       "      <td>180.0000</td>\n",
       "      <td>240.0000</td>\n",
       "      <td>180.0000</td>\n",
       "      <td>216.0000</td>\n",
       "      <td>240.0000</td>\n",
       "      <td>144.0000</td>\n",
       "      <td>180.0000</td>\n",
       "      <td>180.0000</td>\n",
       "      <td>132.0000</td>\n",
       "      <td>240.0000</td>\n",
       "      <td>240.0000</td>\n",
       "      <td>142.0000</td>\n",
       "      <td>180.0000</td>\n",
       "      <td>180.0000</td>\n",
       "      <td>180.0000</td>\n",
       "      <td>180.0000</td>\n",
       "      <td>228.0000</td>\n",
       "      <td>240.0000</td>\n",
       "      <td>240.0000</td>\n",
       "      <td>96.0000</td>\n",
       "      <td>60.0000</td>\n",
       "      <td>120.0000</td>\n",
       "    </tr>\n",
       "    <tr>\n",
       "      <th>COMPLETED_TENURE</th>\n",
       "      <td>45.0000</td>\n",
       "      <td>38.0000</td>\n",
       "      <td>53.5000</td>\n",
       "      <td>53.5000</td>\n",
       "      <td>53.5000</td>\n",
       "      <td>53.5000</td>\n",
       "      <td>53.5000</td>\n",
       "      <td>52.0000</td>\n",
       "      <td>53.5000</td>\n",
       "      <td>53.5000</td>\n",
       "      <td>49.0000</td>\n",
       "      <td>53.5000</td>\n",
       "      <td>53.5000</td>\n",
       "      <td>53.5000</td>\n",
       "      <td>53.5000</td>\n",
       "      <td>53.5000</td>\n",
       "      <td>53.5000</td>\n",
       "      <td>53.5000</td>\n",
       "      <td>53.5000</td>\n",
       "      <td>45.0000</td>\n",
       "      <td>53.5000</td>\n",
       "      <td>53.5000</td>\n",
       "      <td>41.0000</td>\n",
       "      <td>53.5000</td>\n",
       "      <td>53.5000</td>\n",
       "      <td>53.5000</td>\n",
       "      <td>35.0000</td>\n",
       "      <td>53.5000</td>\n",
       "      <td>46.0000</td>\n",
       "      <td>41.0000</td>\n",
       "      <td>...</td>\n",
       "      <td>0.0000</td>\n",
       "      <td>0.0000</td>\n",
       "      <td>0.0000</td>\n",
       "      <td>0.0000</td>\n",
       "      <td>0.0000</td>\n",
       "      <td>0.0000</td>\n",
       "      <td>0.0000</td>\n",
       "      <td>0.0000</td>\n",
       "      <td>0.0000</td>\n",
       "      <td>0.0000</td>\n",
       "      <td>0.0000</td>\n",
       "      <td>0.0000</td>\n",
       "      <td>0.0000</td>\n",
       "      <td>0.0000</td>\n",
       "      <td>0.0000</td>\n",
       "      <td>0.0000</td>\n",
       "      <td>0.0000</td>\n",
       "      <td>0.0000</td>\n",
       "      <td>0.0000</td>\n",
       "      <td>2.0000</td>\n",
       "      <td>0.0000</td>\n",
       "      <td>0.0000</td>\n",
       "      <td>0.0000</td>\n",
       "      <td>0.0000</td>\n",
       "      <td>0.0000</td>\n",
       "      <td>0.0000</td>\n",
       "      <td>0.0000</td>\n",
       "      <td>0.0000</td>\n",
       "      <td>0.0000</td>\n",
       "      <td>0.0000</td>\n",
       "    </tr>\n",
       "    <tr>\n",
       "      <th>EXCESS_AVAILABLE</th>\n",
       "      <td>7762.5219</td>\n",
       "      <td>0.0000</td>\n",
       "      <td>7762.5219</td>\n",
       "      <td>7762.5219</td>\n",
       "      <td>7762.5219</td>\n",
       "      <td>7762.5219</td>\n",
       "      <td>7762.5219</td>\n",
       "      <td>7762.5219</td>\n",
       "      <td>7762.5219</td>\n",
       "      <td>7762.5219</td>\n",
       "      <td>7762.5219</td>\n",
       "      <td>7762.5219</td>\n",
       "      <td>7762.5219</td>\n",
       "      <td>7762.5219</td>\n",
       "      <td>7762.5219</td>\n",
       "      <td>7762.5219</td>\n",
       "      <td>7762.5219</td>\n",
       "      <td>7762.5219</td>\n",
       "      <td>7762.5219</td>\n",
       "      <td>7762.5219</td>\n",
       "      <td>7762.5219</td>\n",
       "      <td>7762.5219</td>\n",
       "      <td>0.0000</td>\n",
       "      <td>0.0000</td>\n",
       "      <td>7762.5219</td>\n",
       "      <td>7762.5219</td>\n",
       "      <td>0.0000</td>\n",
       "      <td>0.0000</td>\n",
       "      <td>2.2086</td>\n",
       "      <td>7762.5219</td>\n",
       "      <td>...</td>\n",
       "      <td>0.0000</td>\n",
       "      <td>0.0000</td>\n",
       "      <td>0.0000</td>\n",
       "      <td>0.0000</td>\n",
       "      <td>0.0000</td>\n",
       "      <td>0.0000</td>\n",
       "      <td>0.0000</td>\n",
       "      <td>0.0000</td>\n",
       "      <td>0.0000</td>\n",
       "      <td>0.0000</td>\n",
       "      <td>0.0000</td>\n",
       "      <td>0.0000</td>\n",
       "      <td>0.0000</td>\n",
       "      <td>0.0000</td>\n",
       "      <td>0.4417</td>\n",
       "      <td>0.4417</td>\n",
       "      <td>0.4417</td>\n",
       "      <td>0.4417</td>\n",
       "      <td>0.8834</td>\n",
       "      <td>0.4417</td>\n",
       "      <td>0.4417</td>\n",
       "      <td>0.4417</td>\n",
       "      <td>0.4417</td>\n",
       "      <td>0.0000</td>\n",
       "      <td>35.3368</td>\n",
       "      <td>0.0000</td>\n",
       "      <td>0.0000</td>\n",
       "      <td>0.0000</td>\n",
       "      <td>0.0000</td>\n",
       "      <td>0.0000</td>\n",
       "    </tr>\n",
       "    <tr>\n",
       "      <th>FOIR</th>\n",
       "      <td>0.6000</td>\n",
       "      <td>0.6000</td>\n",
       "      <td>0.7200</td>\n",
       "      <td>0.6000</td>\n",
       "      <td>0.8300</td>\n",
       "      <td>0.6000</td>\n",
       "      <td>0.5500</td>\n",
       "      <td>0.6000</td>\n",
       "      <td>0.6000</td>\n",
       "      <td>0.6000</td>\n",
       "      <td>1.0600</td>\n",
       "      <td>0.5000</td>\n",
       "      <td>0.6000</td>\n",
       "      <td>0.6000</td>\n",
       "      <td>0.8900</td>\n",
       "      <td>0.6800</td>\n",
       "      <td>0.9000</td>\n",
       "      <td>0.9400</td>\n",
       "      <td>0.9400</td>\n",
       "      <td>0.5000</td>\n",
       "      <td>0.6000</td>\n",
       "      <td>0.8700</td>\n",
       "      <td>0.7500</td>\n",
       "      <td>0.4300</td>\n",
       "      <td>0.9088</td>\n",
       "      <td>0.5200</td>\n",
       "      <td>0.5200</td>\n",
       "      <td>0.6800</td>\n",
       "      <td>0.5600</td>\n",
       "      <td>0.2600</td>\n",
       "      <td>...</td>\n",
       "      <td>0.4100</td>\n",
       "      <td>0.4600</td>\n",
       "      <td>1.0200</td>\n",
       "      <td>0.4100</td>\n",
       "      <td>0.4800</td>\n",
       "      <td>0.5000</td>\n",
       "      <td>0.9800</td>\n",
       "      <td>0.5200</td>\n",
       "      <td>0.7100</td>\n",
       "      <td>0.5200</td>\n",
       "      <td>0.5400</td>\n",
       "      <td>0.5500</td>\n",
       "      <td>0.5400</td>\n",
       "      <td>0.7200</td>\n",
       "      <td>0.7300</td>\n",
       "      <td>0.6800</td>\n",
       "      <td>0.5000</td>\n",
       "      <td>0.8900</td>\n",
       "      <td>0.5500</td>\n",
       "      <td>0.8800</td>\n",
       "      <td>0.5800</td>\n",
       "      <td>0.4300</td>\n",
       "      <td>1.0850</td>\n",
       "      <td>0.5900</td>\n",
       "      <td>0.7400</td>\n",
       "      <td>0.8900</td>\n",
       "      <td>0.5600</td>\n",
       "      <td>0.6400</td>\n",
       "      <td>0.5400</td>\n",
       "      <td>0.2700</td>\n",
       "    </tr>\n",
       "    <tr>\n",
       "      <th>NET_RECEIVABLE</th>\n",
       "      <td>26.5026</td>\n",
       "      <td>26.5026</td>\n",
       "      <td>0.0000</td>\n",
       "      <td>26.5026</td>\n",
       "      <td>0.0000</td>\n",
       "      <td>26.5026</td>\n",
       "      <td>26.5026</td>\n",
       "      <td>26.5026</td>\n",
       "      <td>26.5026</td>\n",
       "      <td>26.5026</td>\n",
       "      <td>-1.6564</td>\n",
       "      <td>0.0000</td>\n",
       "      <td>0.0000</td>\n",
       "      <td>-0.4417</td>\n",
       "      <td>-0.7951</td>\n",
       "      <td>-44.1710</td>\n",
       "      <td>-0.0221</td>\n",
       "      <td>26.5026</td>\n",
       "      <td>0.0000</td>\n",
       "      <td>0.0000</td>\n",
       "      <td>0.0000</td>\n",
       "      <td>0.0000</td>\n",
       "      <td>0.0000</td>\n",
       "      <td>0.0000</td>\n",
       "      <td>26.5026</td>\n",
       "      <td>0.0000</td>\n",
       "      <td>0.0000</td>\n",
       "      <td>0.0000</td>\n",
       "      <td>0.0000</td>\n",
       "      <td>0.0000</td>\n",
       "      <td>...</td>\n",
       "      <td>0.0000</td>\n",
       "      <td>0.0000</td>\n",
       "      <td>0.0000</td>\n",
       "      <td>0.0000</td>\n",
       "      <td>0.0000</td>\n",
       "      <td>0.0000</td>\n",
       "      <td>0.0000</td>\n",
       "      <td>0.0000</td>\n",
       "      <td>0.0000</td>\n",
       "      <td>0.0000</td>\n",
       "      <td>0.0000</td>\n",
       "      <td>0.0000</td>\n",
       "      <td>0.0000</td>\n",
       "      <td>0.0000</td>\n",
       "      <td>-0.4417</td>\n",
       "      <td>-0.4417</td>\n",
       "      <td>-0.4417</td>\n",
       "      <td>-0.4417</td>\n",
       "      <td>-0.8834</td>\n",
       "      <td>-0.4417</td>\n",
       "      <td>26.5026</td>\n",
       "      <td>-0.4417</td>\n",
       "      <td>-0.4417</td>\n",
       "      <td>0.0000</td>\n",
       "      <td>-35.3368</td>\n",
       "      <td>0.0000</td>\n",
       "      <td>0.0000</td>\n",
       "      <td>0.0000</td>\n",
       "      <td>0.0000</td>\n",
       "      <td>0.0000</td>\n",
       "    </tr>\n",
       "    <tr>\n",
       "      <th>OUTSTANDING_PRINCIPAL</th>\n",
       "      <td>116447.2281</td>\n",
       "      <td>9234630.1661</td>\n",
       "      <td>2994183.5178</td>\n",
       "      <td>42951.2021</td>\n",
       "      <td>7200652.6148</td>\n",
       "      <td>769138.6097</td>\n",
       "      <td>5765533.2731</td>\n",
       "      <td>9234630.1661</td>\n",
       "      <td>928407.3279</td>\n",
       "      <td>890255.0629</td>\n",
       "      <td>144595.1431</td>\n",
       "      <td>135634.4640</td>\n",
       "      <td>-0.7506</td>\n",
       "      <td>2081217.7228</td>\n",
       "      <td>3043444.0506</td>\n",
       "      <td>6509594.7182</td>\n",
       "      <td>923960.5198</td>\n",
       "      <td>9234630.1661</td>\n",
       "      <td>9234630.1661</td>\n",
       "      <td>4337875.0863</td>\n",
       "      <td>7571028.4140</td>\n",
       "      <td>6646556.1024</td>\n",
       "      <td>9234630.1661</td>\n",
       "      <td>6433638.4137</td>\n",
       "      <td>9234630.1661</td>\n",
       "      <td>9234630.1661</td>\n",
       "      <td>9234630.1661</td>\n",
       "      <td>6513752.6470</td>\n",
       "      <td>5112739.4130</td>\n",
       "      <td>7510.8177</td>\n",
       "      <td>...</td>\n",
       "      <td>9234630.1661</td>\n",
       "      <td>791666.3038</td>\n",
       "      <td>6755831.1000</td>\n",
       "      <td>1992375.6614</td>\n",
       "      <td>4593965.1480</td>\n",
       "      <td>3753239.5000</td>\n",
       "      <td>9234630.1661</td>\n",
       "      <td>5224507.8827</td>\n",
       "      <td>2161865.9520</td>\n",
       "      <td>3002591.6000</td>\n",
       "      <td>442882.2610</td>\n",
       "      <td>4503887.4000</td>\n",
       "      <td>2221917.7840</td>\n",
       "      <td>4503887.4000</td>\n",
       "      <td>9234630.1661</td>\n",
       "      <td>7220159.3715</td>\n",
       "      <td>1824024.8542</td>\n",
       "      <td>7779761.3758</td>\n",
       "      <td>7506479.0000</td>\n",
       "      <td>7159160.2219</td>\n",
       "      <td>2176878.9100</td>\n",
       "      <td>2672644.3156</td>\n",
       "      <td>9234630.1661</td>\n",
       "      <td>7374800.3454</td>\n",
       "      <td>4744094.7280</td>\n",
       "      <td>9234630.1661</td>\n",
       "      <td>2299950.6358</td>\n",
       "      <td>9234630.1661</td>\n",
       "      <td>9234630.1661</td>\n",
       "      <td>9234630.1661</td>\n",
       "    </tr>\n",
       "    <tr>\n",
       "      <th>PAID_INTEREST</th>\n",
       "      <td>1800672.0104</td>\n",
       "      <td>1800672.0104</td>\n",
       "      <td>1800672.0104</td>\n",
       "      <td>1800672.0104</td>\n",
       "      <td>1800672.0104</td>\n",
       "      <td>727393.5787</td>\n",
       "      <td>1800672.0104</td>\n",
       "      <td>1800672.0104</td>\n",
       "      <td>1800672.0104</td>\n",
       "      <td>980662.1802</td>\n",
       "      <td>1800672.0104</td>\n",
       "      <td>1800672.0104</td>\n",
       "      <td>1694234.0941</td>\n",
       "      <td>1166067.3172</td>\n",
       "      <td>1800672.0104</td>\n",
       "      <td>1800672.0104</td>\n",
       "      <td>1391330.4166</td>\n",
       "      <td>1800672.0104</td>\n",
       "      <td>1800672.0104</td>\n",
       "      <td>1800672.0104</td>\n",
       "      <td>1800672.0104</td>\n",
       "      <td>1800672.0104</td>\n",
       "      <td>1800672.0104</td>\n",
       "      <td>1800672.0104</td>\n",
       "      <td>1800672.0104</td>\n",
       "      <td>1800672.0104</td>\n",
       "      <td>1800672.0104</td>\n",
       "      <td>1800672.0104</td>\n",
       "      <td>1800672.0104</td>\n",
       "      <td>1800672.0104</td>\n",
       "      <td>...</td>\n",
       "      <td>0.0000</td>\n",
       "      <td>0.0000</td>\n",
       "      <td>0.0000</td>\n",
       "      <td>0.0000</td>\n",
       "      <td>0.0000</td>\n",
       "      <td>0.0000</td>\n",
       "      <td>0.0000</td>\n",
       "      <td>0.0000</td>\n",
       "      <td>0.0000</td>\n",
       "      <td>0.0000</td>\n",
       "      <td>0.0000</td>\n",
       "      <td>0.0000</td>\n",
       "      <td>0.0000</td>\n",
       "      <td>0.0000</td>\n",
       "      <td>32635.1681</td>\n",
       "      <td>0.0000</td>\n",
       "      <td>0.0000</td>\n",
       "      <td>13939.5315</td>\n",
       "      <td>14388.4189</td>\n",
       "      <td>144424.6560</td>\n",
       "      <td>0.0000</td>\n",
       "      <td>0.0000</td>\n",
       "      <td>40395.3661</td>\n",
       "      <td>0.0000</td>\n",
       "      <td>0.0000</td>\n",
       "      <td>13813.4227</td>\n",
       "      <td>0.0000</td>\n",
       "      <td>0.0000</td>\n",
       "      <td>0.0000</td>\n",
       "      <td>0.0000</td>\n",
       "    </tr>\n",
       "    <tr>\n",
       "      <th>PAID_PRINCIPAL</th>\n",
       "      <td>694324.9114</td>\n",
       "      <td>694324.9114</td>\n",
       "      <td>694324.9114</td>\n",
       "      <td>694324.9114</td>\n",
       "      <td>555284.6979</td>\n",
       "      <td>185269.6601</td>\n",
       "      <td>694324.9114</td>\n",
       "      <td>694324.9114</td>\n",
       "      <td>694324.9114</td>\n",
       "      <td>85587.2071</td>\n",
       "      <td>694324.9114</td>\n",
       "      <td>694324.9114</td>\n",
       "      <td>694324.9114</td>\n",
       "      <td>85284.2306</td>\n",
       "      <td>694324.9114</td>\n",
       "      <td>694324.9114</td>\n",
       "      <td>694324.9114</td>\n",
       "      <td>694324.9114</td>\n",
       "      <td>694324.9114</td>\n",
       "      <td>694324.9114</td>\n",
       "      <td>258433.3593</td>\n",
       "      <td>273221.0028</td>\n",
       "      <td>694324.9114</td>\n",
       "      <td>694324.9114</td>\n",
       "      <td>694324.9114</td>\n",
       "      <td>694324.9114</td>\n",
       "      <td>694324.9114</td>\n",
       "      <td>694324.9114</td>\n",
       "      <td>269309.9471</td>\n",
       "      <td>694324.9114</td>\n",
       "      <td>...</td>\n",
       "      <td>0.0000</td>\n",
       "      <td>0.0000</td>\n",
       "      <td>0.0000</td>\n",
       "      <td>0.0000</td>\n",
       "      <td>0.0000</td>\n",
       "      <td>0.0000</td>\n",
       "      <td>0.0000</td>\n",
       "      <td>0.0000</td>\n",
       "      <td>0.0000</td>\n",
       "      <td>0.0000</td>\n",
       "      <td>0.0000</td>\n",
       "      <td>0.0000</td>\n",
       "      <td>0.0000</td>\n",
       "      <td>0.0000</td>\n",
       "      <td>0.0000</td>\n",
       "      <td>0.0000</td>\n",
       "      <td>0.0000</td>\n",
       "      <td>0.0000</td>\n",
       "      <td>0.0000</td>\n",
       "      <td>47059.6181</td>\n",
       "      <td>0.0000</td>\n",
       "      <td>0.0000</td>\n",
       "      <td>0.0000</td>\n",
       "      <td>0.0000</td>\n",
       "      <td>0.0000</td>\n",
       "      <td>0.0000</td>\n",
       "      <td>0.0000</td>\n",
       "      <td>0.0000</td>\n",
       "      <td>0.0000</td>\n",
       "      <td>0.0000</td>\n",
       "    </tr>\n",
       "    <tr>\n",
       "      <th>PRE_EMI_DUEAMT</th>\n",
       "      <td>7994.2736</td>\n",
       "      <td>72544.5836</td>\n",
       "      <td>5947.6305</td>\n",
       "      <td>60322.1808</td>\n",
       "      <td>27732.7875</td>\n",
       "      <td>1325.1312</td>\n",
       "      <td>37790.5333</td>\n",
       "      <td>72544.5836</td>\n",
       "      <td>72544.5836</td>\n",
       "      <td>1674.0824</td>\n",
       "      <td>72544.5836</td>\n",
       "      <td>0.0000</td>\n",
       "      <td>0.0000</td>\n",
       "      <td>0.0000</td>\n",
       "      <td>39747.3103</td>\n",
       "      <td>0.0000</td>\n",
       "      <td>0.0000</td>\n",
       "      <td>72544.5836</td>\n",
       "      <td>0.0000</td>\n",
       "      <td>0.0000</td>\n",
       "      <td>0.0000</td>\n",
       "      <td>0.0000</td>\n",
       "      <td>72544.5836</td>\n",
       "      <td>72544.5836</td>\n",
       "      <td>0.0000</td>\n",
       "      <td>72544.5836</td>\n",
       "      <td>72544.5836</td>\n",
       "      <td>36368.2258</td>\n",
       "      <td>0.0000</td>\n",
       "      <td>72544.5836</td>\n",
       "      <td>...</td>\n",
       "      <td>0.0000</td>\n",
       "      <td>0.0000</td>\n",
       "      <td>0.0000</td>\n",
       "      <td>0.0000</td>\n",
       "      <td>0.0000</td>\n",
       "      <td>0.0000</td>\n",
       "      <td>0.0000</td>\n",
       "      <td>0.0000</td>\n",
       "      <td>0.0000</td>\n",
       "      <td>0.0000</td>\n",
       "      <td>0.0000</td>\n",
       "      <td>0.0000</td>\n",
       "      <td>0.0000</td>\n",
       "      <td>0.0000</td>\n",
       "      <td>48009.5034</td>\n",
       "      <td>0.0000</td>\n",
       "      <td>0.0000</td>\n",
       "      <td>20506.4053</td>\n",
       "      <td>21166.7624</td>\n",
       "      <td>0.0000</td>\n",
       "      <td>7473.7400</td>\n",
       "      <td>0.0000</td>\n",
       "      <td>59425.5087</td>\n",
       "      <td>0.0000</td>\n",
       "      <td>0.0000</td>\n",
       "      <td>20320.8870</td>\n",
       "      <td>0.0000</td>\n",
       "      <td>0.0000</td>\n",
       "      <td>0.0000</td>\n",
       "      <td>0.0000</td>\n",
       "    </tr>\n",
       "    <tr>\n",
       "      <th>FORECLOSURE</th>\n",
       "      <td>1</td>\n",
       "      <td>1</td>\n",
       "      <td>1</td>\n",
       "      <td>1</td>\n",
       "      <td>1</td>\n",
       "      <td>0</td>\n",
       "      <td>0</td>\n",
       "      <td>1</td>\n",
       "      <td>1</td>\n",
       "      <td>0</td>\n",
       "      <td>1</td>\n",
       "      <td>1</td>\n",
       "      <td>1</td>\n",
       "      <td>1</td>\n",
       "      <td>0</td>\n",
       "      <td>1</td>\n",
       "      <td>1</td>\n",
       "      <td>0</td>\n",
       "      <td>0</td>\n",
       "      <td>1</td>\n",
       "      <td>1</td>\n",
       "      <td>1</td>\n",
       "      <td>0</td>\n",
       "      <td>0</td>\n",
       "      <td>0</td>\n",
       "      <td>0</td>\n",
       "      <td>0</td>\n",
       "      <td>0</td>\n",
       "      <td>1</td>\n",
       "      <td>0</td>\n",
       "      <td>...</td>\n",
       "      <td>0</td>\n",
       "      <td>0</td>\n",
       "      <td>0</td>\n",
       "      <td>0</td>\n",
       "      <td>0</td>\n",
       "      <td>0</td>\n",
       "      <td>0</td>\n",
       "      <td>0</td>\n",
       "      <td>0</td>\n",
       "      <td>0</td>\n",
       "      <td>0</td>\n",
       "      <td>0</td>\n",
       "      <td>0</td>\n",
       "      <td>0</td>\n",
       "      <td>0</td>\n",
       "      <td>0</td>\n",
       "      <td>0</td>\n",
       "      <td>0</td>\n",
       "      <td>0</td>\n",
       "      <td>0</td>\n",
       "      <td>0</td>\n",
       "      <td>0</td>\n",
       "      <td>0</td>\n",
       "      <td>0</td>\n",
       "      <td>0</td>\n",
       "      <td>0</td>\n",
       "      <td>0</td>\n",
       "      <td>0</td>\n",
       "      <td>0</td>\n",
       "      <td>0</td>\n",
       "    </tr>\n",
       "    <tr>\n",
       "      <th>DPD_RANGE</th>\n",
       "      <td>0-1</td>\n",
       "      <td>0-1</td>\n",
       "      <td>0-1</td>\n",
       "      <td>0-1</td>\n",
       "      <td>0-1</td>\n",
       "      <td>0-1</td>\n",
       "      <td>30-60</td>\n",
       "      <td>0-1</td>\n",
       "      <td>0-1</td>\n",
       "      <td>0-1</td>\n",
       "      <td>0-1</td>\n",
       "      <td>0-1</td>\n",
       "      <td>0-1</td>\n",
       "      <td>0-1</td>\n",
       "      <td>0-1</td>\n",
       "      <td>0-1</td>\n",
       "      <td>0-1</td>\n",
       "      <td>1-30</td>\n",
       "      <td>0-1</td>\n",
       "      <td>0-1</td>\n",
       "      <td>0-1</td>\n",
       "      <td>0-1</td>\n",
       "      <td>0-1</td>\n",
       "      <td>0-1</td>\n",
       "      <td>30-60</td>\n",
       "      <td>0-1</td>\n",
       "      <td>0-1</td>\n",
       "      <td>0-1</td>\n",
       "      <td>0-1</td>\n",
       "      <td>0-1</td>\n",
       "      <td>...</td>\n",
       "      <td>0-1</td>\n",
       "      <td>0-1</td>\n",
       "      <td>0-1</td>\n",
       "      <td>0-1</td>\n",
       "      <td>0-1</td>\n",
       "      <td>0-1</td>\n",
       "      <td>0-1</td>\n",
       "      <td>0-1</td>\n",
       "      <td>0-1</td>\n",
       "      <td>0-1</td>\n",
       "      <td>0-1</td>\n",
       "      <td>0-1</td>\n",
       "      <td>0-1</td>\n",
       "      <td>0-1</td>\n",
       "      <td>0-1</td>\n",
       "      <td>0-1</td>\n",
       "      <td>0-1</td>\n",
       "      <td>0-1</td>\n",
       "      <td>0-1</td>\n",
       "      <td>0-1</td>\n",
       "      <td>1-30</td>\n",
       "      <td>0-1</td>\n",
       "      <td>0-1</td>\n",
       "      <td>0-1</td>\n",
       "      <td>0-1</td>\n",
       "      <td>0-1</td>\n",
       "      <td>0-1</td>\n",
       "      <td>0-1</td>\n",
       "      <td>0-1</td>\n",
       "      <td>0-1</td>\n",
       "    </tr>\n",
       "    <tr>\n",
       "      <th>EMI_OSAMT_RANGE</th>\n",
       "      <td>50k-300K</td>\n",
       "      <td>50k-300K</td>\n",
       "      <td>0-10k</td>\n",
       "      <td>50k-300K</td>\n",
       "      <td>0-10k</td>\n",
       "      <td>10k-50k</td>\n",
       "      <td>50k-300K</td>\n",
       "      <td>300k and above</td>\n",
       "      <td>10k-50k</td>\n",
       "      <td>10k-50k</td>\n",
       "      <td>0-10k</td>\n",
       "      <td>0-10k</td>\n",
       "      <td>0-10k</td>\n",
       "      <td>0-10k</td>\n",
       "      <td>0-10k</td>\n",
       "      <td>0-10k</td>\n",
       "      <td>0-10k</td>\n",
       "      <td>300k and above</td>\n",
       "      <td>0-10k</td>\n",
       "      <td>0-10k</td>\n",
       "      <td>0-10k</td>\n",
       "      <td>0-10k</td>\n",
       "      <td>0-10k</td>\n",
       "      <td>0-10k</td>\n",
       "      <td>300k and above</td>\n",
       "      <td>0-10k</td>\n",
       "      <td>0-10k</td>\n",
       "      <td>0-10k</td>\n",
       "      <td>0-10k</td>\n",
       "      <td>0-10k</td>\n",
       "      <td>...</td>\n",
       "      <td>0-10k</td>\n",
       "      <td>0-10k</td>\n",
       "      <td>0-10k</td>\n",
       "      <td>0-10k</td>\n",
       "      <td>0-10k</td>\n",
       "      <td>0-10k</td>\n",
       "      <td>0-10k</td>\n",
       "      <td>0-10k</td>\n",
       "      <td>0-10k</td>\n",
       "      <td>0-10k</td>\n",
       "      <td>0-10k</td>\n",
       "      <td>0-10k</td>\n",
       "      <td>0-10k</td>\n",
       "      <td>0-10k</td>\n",
       "      <td>0-10k</td>\n",
       "      <td>0-10k</td>\n",
       "      <td>0-10k</td>\n",
       "      <td>0-10k</td>\n",
       "      <td>0-10k</td>\n",
       "      <td>0-10k</td>\n",
       "      <td>0-10k</td>\n",
       "      <td>0-10k</td>\n",
       "      <td>0-10k</td>\n",
       "      <td>0-10k</td>\n",
       "      <td>0-10k</td>\n",
       "      <td>0-10k</td>\n",
       "      <td>0-10k</td>\n",
       "      <td>0-10k</td>\n",
       "      <td>0-10k</td>\n",
       "      <td>0-10k</td>\n",
       "    </tr>\n",
       "    <tr>\n",
       "      <th>NUM_EMI_CHANGES_RANGE</th>\n",
       "      <td>-5-2#</td>\n",
       "      <td>-5-2#</td>\n",
       "      <td>-5-2#</td>\n",
       "      <td>2-5#</td>\n",
       "      <td>-5-2#</td>\n",
       "      <td>-5-2#</td>\n",
       "      <td>-5-2#</td>\n",
       "      <td>-5-2#</td>\n",
       "      <td>-5-2#</td>\n",
       "      <td>2-5#</td>\n",
       "      <td>-5-2#</td>\n",
       "      <td>-5-2#</td>\n",
       "      <td>-5-2#</td>\n",
       "      <td>2-5#</td>\n",
       "      <td>-5-2#</td>\n",
       "      <td>2-5#</td>\n",
       "      <td>-5-2#</td>\n",
       "      <td>5 and above</td>\n",
       "      <td>-5-2#</td>\n",
       "      <td>-5-2#</td>\n",
       "      <td>2-5#</td>\n",
       "      <td>-5-2#</td>\n",
       "      <td>-5-2#</td>\n",
       "      <td>-5-2#</td>\n",
       "      <td>5 and above</td>\n",
       "      <td>-5-2#</td>\n",
       "      <td>-5-2#</td>\n",
       "      <td>-5-2#</td>\n",
       "      <td>-5-2#</td>\n",
       "      <td>-5-2#</td>\n",
       "      <td>...</td>\n",
       "      <td>-5-2#</td>\n",
       "      <td>-5-2#</td>\n",
       "      <td>-5-2#</td>\n",
       "      <td>-5-2#</td>\n",
       "      <td>-5-2#</td>\n",
       "      <td>-5-2#</td>\n",
       "      <td>-5-2#</td>\n",
       "      <td>-5-2#</td>\n",
       "      <td>-5-2#</td>\n",
       "      <td>-5-2#</td>\n",
       "      <td>-5-2#</td>\n",
       "      <td>-5-2#</td>\n",
       "      <td>-5-2#</td>\n",
       "      <td>-5-2#</td>\n",
       "      <td>-5-2#</td>\n",
       "      <td>-5-2#</td>\n",
       "      <td>-5-2#</td>\n",
       "      <td>-5-2#</td>\n",
       "      <td>-5-2#</td>\n",
       "      <td>-5-2#</td>\n",
       "      <td>-5-2#</td>\n",
       "      <td>-5-2#</td>\n",
       "      <td>-5-2#</td>\n",
       "      <td>-5-2#</td>\n",
       "      <td>-5-2#</td>\n",
       "      <td>-5-2#</td>\n",
       "      <td>-5-2#</td>\n",
       "      <td>-5-2#</td>\n",
       "      <td>-5-2#</td>\n",
       "      <td>-5-2#</td>\n",
       "    </tr>\n",
       "  </tbody>\n",
       "</table>\n",
       "<p>13 rows × 20012 columns</p>\n",
       "</div>"
      ],
      "text/plain": [
       "                             0            1            2            3      \\\n",
       "BALANCE_TENURE             16.0000      99.0000     231.0000      16.0000   \n",
       "COMPLETED_TENURE           45.0000      38.0000      53.5000      53.5000   \n",
       "EXCESS_AVAILABLE         7762.5219       0.0000    7762.5219    7762.5219   \n",
       "FOIR                        0.6000       0.6000       0.7200       0.6000   \n",
       "NET_RECEIVABLE             26.5026      26.5026       0.0000      26.5026   \n",
       "OUTSTANDING_PRINCIPAL  116447.2281 9234630.1661 2994183.5178   42951.2021   \n",
       "PAID_INTEREST         1800672.0104 1800672.0104 1800672.0104 1800672.0104   \n",
       "PAID_PRINCIPAL         694324.9114  694324.9114  694324.9114  694324.9114   \n",
       "PRE_EMI_DUEAMT           7994.2736   72544.5836    5947.6305   60322.1808   \n",
       "FORECLOSURE                      1            1            1            1   \n",
       "DPD_RANGE                      0-1          0-1          0-1          0-1   \n",
       "EMI_OSAMT_RANGE           50k-300K     50k-300K        0-10k     50k-300K   \n",
       "NUM_EMI_CHANGES_RANGE        -5-2#        -5-2#        -5-2#         2-5#   \n",
       "\n",
       "                             4           5            6               7      \\\n",
       "BALANCE_TENURE            215.0000    137.0000     294.0000        276.0000   \n",
       "COMPLETED_TENURE           53.5000     53.5000      53.5000         52.0000   \n",
       "EXCESS_AVAILABLE         7762.5219   7762.5219    7762.5219       7762.5219   \n",
       "FOIR                        0.8300      0.6000       0.5500          0.6000   \n",
       "NET_RECEIVABLE              0.0000     26.5026      26.5026         26.5026   \n",
       "OUTSTANDING_PRINCIPAL 7200652.6148 769138.6097 5765533.2731    9234630.1661   \n",
       "PAID_INTEREST         1800672.0104 727393.5787 1800672.0104    1800672.0104   \n",
       "PAID_PRINCIPAL         555284.6979 185269.6601  694324.9114     694324.9114   \n",
       "PRE_EMI_DUEAMT          27732.7875   1325.1312   37790.5333      72544.5836   \n",
       "FORECLOSURE                      1           0            0               1   \n",
       "DPD_RANGE                      0-1         0-1        30-60             0-1   \n",
       "EMI_OSAMT_RANGE              0-10k     10k-50k     50k-300K  300k and above   \n",
       "NUM_EMI_CHANGES_RANGE        -5-2#       -5-2#        -5-2#           -5-2#   \n",
       "\n",
       "                             8           9            10           11     \\\n",
       "BALANCE_TENURE            145.0000    291.0000      16.0000      16.0000   \n",
       "COMPLETED_TENURE           53.5000     53.5000      49.0000      53.5000   \n",
       "EXCESS_AVAILABLE         7762.5219   7762.5219    7762.5219    7762.5219   \n",
       "FOIR                        0.6000      0.6000       1.0600       0.5000   \n",
       "NET_RECEIVABLE             26.5026     26.5026      -1.6564       0.0000   \n",
       "OUTSTANDING_PRINCIPAL  928407.3279 890255.0629  144595.1431  135634.4640   \n",
       "PAID_INTEREST         1800672.0104 980662.1802 1800672.0104 1800672.0104   \n",
       "PAID_PRINCIPAL         694324.9114  85587.2071  694324.9114  694324.9114   \n",
       "PRE_EMI_DUEAMT          72544.5836   1674.0824   72544.5836       0.0000   \n",
       "FORECLOSURE                      1           0            1            1   \n",
       "DPD_RANGE                      0-1         0-1          0-1          0-1   \n",
       "EMI_OSAMT_RANGE            10k-50k     10k-50k        0-10k        0-10k   \n",
       "NUM_EMI_CHANGES_RANGE        -5-2#        2-5#        -5-2#        -5-2#   \n",
       "\n",
       "                             12           13           14           15     \\\n",
       "BALANCE_TENURE             16.0000     247.0000     128.0000     113.0000   \n",
       "COMPLETED_TENURE           53.5000      53.5000      53.5000      53.5000   \n",
       "EXCESS_AVAILABLE         7762.5219    7762.5219    7762.5219    7762.5219   \n",
       "FOIR                        0.6000       0.6000       0.8900       0.6800   \n",
       "NET_RECEIVABLE              0.0000      -0.4417      -0.7951     -44.1710   \n",
       "OUTSTANDING_PRINCIPAL      -0.7506 2081217.7228 3043444.0506 6509594.7182   \n",
       "PAID_INTEREST         1694234.0941 1166067.3172 1800672.0104 1800672.0104   \n",
       "PAID_PRINCIPAL         694324.9114   85284.2306  694324.9114  694324.9114   \n",
       "PRE_EMI_DUEAMT              0.0000       0.0000   39747.3103       0.0000   \n",
       "FORECLOSURE                      1            1            0            1   \n",
       "DPD_RANGE                      0-1          0-1          0-1          0-1   \n",
       "EMI_OSAMT_RANGE              0-10k        0-10k        0-10k        0-10k   \n",
       "NUM_EMI_CHANGES_RANGE        -5-2#         2-5#        -5-2#         2-5#   \n",
       "\n",
       "                             16              17           18           19     \\\n",
       "BALANCE_TENURE            111.0000        152.0000     118.0000     149.0000   \n",
       "COMPLETED_TENURE           53.5000         53.5000      53.5000      45.0000   \n",
       "EXCESS_AVAILABLE         7762.5219       7762.5219    7762.5219    7762.5219   \n",
       "FOIR                        0.9000          0.9400       0.9400       0.5000   \n",
       "NET_RECEIVABLE             -0.0221         26.5026       0.0000       0.0000   \n",
       "OUTSTANDING_PRINCIPAL  923960.5198    9234630.1661 9234630.1661 4337875.0863   \n",
       "PAID_INTEREST         1391330.4166    1800672.0104 1800672.0104 1800672.0104   \n",
       "PAID_PRINCIPAL         694324.9114     694324.9114  694324.9114  694324.9114   \n",
       "PRE_EMI_DUEAMT              0.0000      72544.5836       0.0000       0.0000   \n",
       "FORECLOSURE                      1               0            0            1   \n",
       "DPD_RANGE                      0-1            1-30          0-1          0-1   \n",
       "EMI_OSAMT_RANGE              0-10k  300k and above        0-10k        0-10k   \n",
       "NUM_EMI_CHANGES_RANGE        -5-2#     5 and above        -5-2#        -5-2#   \n",
       "\n",
       "                             20           21           22           23     \\\n",
       "BALANCE_TENURE            295.0000     303.0000     274.0000     116.0000   \n",
       "COMPLETED_TENURE           53.5000      53.5000      41.0000      53.5000   \n",
       "EXCESS_AVAILABLE         7762.5219    7762.5219       0.0000       0.0000   \n",
       "FOIR                        0.6000       0.8700       0.7500       0.4300   \n",
       "NET_RECEIVABLE              0.0000       0.0000       0.0000       0.0000   \n",
       "OUTSTANDING_PRINCIPAL 7571028.4140 6646556.1024 9234630.1661 6433638.4137   \n",
       "PAID_INTEREST         1800672.0104 1800672.0104 1800672.0104 1800672.0104   \n",
       "PAID_PRINCIPAL         258433.3593  273221.0028  694324.9114  694324.9114   \n",
       "PRE_EMI_DUEAMT              0.0000       0.0000   72544.5836   72544.5836   \n",
       "FORECLOSURE                      1            1            0            0   \n",
       "DPD_RANGE                      0-1          0-1          0-1          0-1   \n",
       "EMI_OSAMT_RANGE              0-10k        0-10k        0-10k        0-10k   \n",
       "NUM_EMI_CHANGES_RANGE         2-5#        -5-2#        -5-2#        -5-2#   \n",
       "\n",
       "                                24           25           26           27     \\\n",
       "BALANCE_TENURE               284.0000      53.0000     132.0000     134.0000   \n",
       "COMPLETED_TENURE              53.5000      53.5000      35.0000      53.5000   \n",
       "EXCESS_AVAILABLE            7762.5219    7762.5219       0.0000       0.0000   \n",
       "FOIR                           0.9088       0.5200       0.5200       0.6800   \n",
       "NET_RECEIVABLE                26.5026       0.0000       0.0000       0.0000   \n",
       "OUTSTANDING_PRINCIPAL    9234630.1661 9234630.1661 9234630.1661 6513752.6470   \n",
       "PAID_INTEREST            1800672.0104 1800672.0104 1800672.0104 1800672.0104   \n",
       "PAID_PRINCIPAL            694324.9114  694324.9114  694324.9114  694324.9114   \n",
       "PRE_EMI_DUEAMT                 0.0000   72544.5836   72544.5836   36368.2258   \n",
       "FORECLOSURE                         0            0            0            0   \n",
       "DPD_RANGE                       30-60          0-1          0-1          0-1   \n",
       "EMI_OSAMT_RANGE        300k and above        0-10k        0-10k        0-10k   \n",
       "NUM_EMI_CHANGES_RANGE     5 and above        -5-2#        -5-2#        -5-2#   \n",
       "\n",
       "                             28           29     ...        19982       19983  \\\n",
       "BALANCE_TENURE            227.0000      16.0000  ...     240.0000    240.0000   \n",
       "COMPLETED_TENURE           46.0000      41.0000  ...       0.0000      0.0000   \n",
       "EXCESS_AVAILABLE            2.2086    7762.5219  ...       0.0000      0.0000   \n",
       "FOIR                        0.5600       0.2600  ...       0.4100      0.4600   \n",
       "NET_RECEIVABLE              0.0000       0.0000  ...       0.0000      0.0000   \n",
       "OUTSTANDING_PRINCIPAL 5112739.4130    7510.8177  ... 9234630.1661 791666.3038   \n",
       "PAID_INTEREST         1800672.0104 1800672.0104  ...       0.0000      0.0000   \n",
       "PAID_PRINCIPAL         269309.9471  694324.9114  ...       0.0000      0.0000   \n",
       "PRE_EMI_DUEAMT              0.0000   72544.5836  ...       0.0000      0.0000   \n",
       "FORECLOSURE                      1            0  ...            0           0   \n",
       "DPD_RANGE                      0-1          0-1  ...          0-1         0-1   \n",
       "EMI_OSAMT_RANGE              0-10k        0-10k  ...        0-10k       0-10k   \n",
       "NUM_EMI_CHANGES_RANGE        -5-2#        -5-2#  ...        -5-2#       -5-2#   \n",
       "\n",
       "                             19984        19985        19986        19987  \\\n",
       "BALANCE_TENURE            240.0000     192.0000     240.0000     240.0000   \n",
       "COMPLETED_TENURE            0.0000       0.0000       0.0000       0.0000   \n",
       "EXCESS_AVAILABLE            0.0000       0.0000       0.0000       0.0000   \n",
       "FOIR                        1.0200       0.4100       0.4800       0.5000   \n",
       "NET_RECEIVABLE              0.0000       0.0000       0.0000       0.0000   \n",
       "OUTSTANDING_PRINCIPAL 6755831.1000 1992375.6614 4593965.1480 3753239.5000   \n",
       "PAID_INTEREST               0.0000       0.0000       0.0000       0.0000   \n",
       "PAID_PRINCIPAL              0.0000       0.0000       0.0000       0.0000   \n",
       "PRE_EMI_DUEAMT              0.0000       0.0000       0.0000       0.0000   \n",
       "FORECLOSURE                      0            0            0            0   \n",
       "DPD_RANGE                      0-1          0-1          0-1          0-1   \n",
       "EMI_OSAMT_RANGE              0-10k        0-10k        0-10k        0-10k   \n",
       "NUM_EMI_CHANGES_RANGE        -5-2#        -5-2#        -5-2#        -5-2#   \n",
       "\n",
       "                             19988        19989        19990        19991  \\\n",
       "BALANCE_TENURE            240.0000     300.0000     180.0000     240.0000   \n",
       "COMPLETED_TENURE            0.0000       0.0000       0.0000       0.0000   \n",
       "EXCESS_AVAILABLE            0.0000       0.0000       0.0000       0.0000   \n",
       "FOIR                        0.9800       0.5200       0.7100       0.5200   \n",
       "NET_RECEIVABLE              0.0000       0.0000       0.0000       0.0000   \n",
       "OUTSTANDING_PRINCIPAL 9234630.1661 5224507.8827 2161865.9520 3002591.6000   \n",
       "PAID_INTEREST               0.0000       0.0000       0.0000       0.0000   \n",
       "PAID_PRINCIPAL              0.0000       0.0000       0.0000       0.0000   \n",
       "PRE_EMI_DUEAMT              0.0000       0.0000       0.0000       0.0000   \n",
       "FORECLOSURE                      0            0            0            0   \n",
       "DPD_RANGE                      0-1          0-1          0-1          0-1   \n",
       "EMI_OSAMT_RANGE              0-10k        0-10k        0-10k        0-10k   \n",
       "NUM_EMI_CHANGES_RANGE        -5-2#        -5-2#        -5-2#        -5-2#   \n",
       "\n",
       "                            19992        19993        19994        19995  \\\n",
       "BALANCE_TENURE           180.0000     216.0000     240.0000     144.0000   \n",
       "COMPLETED_TENURE           0.0000       0.0000       0.0000       0.0000   \n",
       "EXCESS_AVAILABLE           0.0000       0.0000       0.0000       0.0000   \n",
       "FOIR                       0.5400       0.5500       0.5400       0.7200   \n",
       "NET_RECEIVABLE             0.0000       0.0000       0.0000       0.0000   \n",
       "OUTSTANDING_PRINCIPAL 442882.2610 4503887.4000 2221917.7840 4503887.4000   \n",
       "PAID_INTEREST              0.0000       0.0000       0.0000       0.0000   \n",
       "PAID_PRINCIPAL             0.0000       0.0000       0.0000       0.0000   \n",
       "PRE_EMI_DUEAMT             0.0000       0.0000       0.0000       0.0000   \n",
       "FORECLOSURE                     0            0            0            0   \n",
       "DPD_RANGE                     0-1          0-1          0-1          0-1   \n",
       "EMI_OSAMT_RANGE             0-10k        0-10k        0-10k        0-10k   \n",
       "NUM_EMI_CHANGES_RANGE       -5-2#        -5-2#        -5-2#        -5-2#   \n",
       "\n",
       "                             19996        19997        19998        19999  \\\n",
       "BALANCE_TENURE            180.0000     180.0000     132.0000     240.0000   \n",
       "COMPLETED_TENURE            0.0000       0.0000       0.0000       0.0000   \n",
       "EXCESS_AVAILABLE            0.4417       0.4417       0.4417       0.4417   \n",
       "FOIR                        0.7300       0.6800       0.5000       0.8900   \n",
       "NET_RECEIVABLE             -0.4417      -0.4417      -0.4417      -0.4417   \n",
       "OUTSTANDING_PRINCIPAL 9234630.1661 7220159.3715 1824024.8542 7779761.3758   \n",
       "PAID_INTEREST           32635.1681       0.0000       0.0000   13939.5315   \n",
       "PAID_PRINCIPAL              0.0000       0.0000       0.0000       0.0000   \n",
       "PRE_EMI_DUEAMT          48009.5034       0.0000       0.0000   20506.4053   \n",
       "FORECLOSURE                      0            0            0            0   \n",
       "DPD_RANGE                      0-1          0-1          0-1          0-1   \n",
       "EMI_OSAMT_RANGE              0-10k        0-10k        0-10k        0-10k   \n",
       "NUM_EMI_CHANGES_RANGE        -5-2#        -5-2#        -5-2#        -5-2#   \n",
       "\n",
       "                             20000        20001        20002        20003  \\\n",
       "BALANCE_TENURE            240.0000     142.0000     180.0000     180.0000   \n",
       "COMPLETED_TENURE            0.0000       2.0000       0.0000       0.0000   \n",
       "EXCESS_AVAILABLE            0.8834       0.4417       0.4417       0.4417   \n",
       "FOIR                        0.5500       0.8800       0.5800       0.4300   \n",
       "NET_RECEIVABLE             -0.8834      -0.4417      26.5026      -0.4417   \n",
       "OUTSTANDING_PRINCIPAL 7506479.0000 7159160.2219 2176878.9100 2672644.3156   \n",
       "PAID_INTEREST           14388.4189  144424.6560       0.0000       0.0000   \n",
       "PAID_PRINCIPAL              0.0000   47059.6181       0.0000       0.0000   \n",
       "PRE_EMI_DUEAMT          21166.7624       0.0000    7473.7400       0.0000   \n",
       "FORECLOSURE                      0            0            0            0   \n",
       "DPD_RANGE                      0-1          0-1         1-30          0-1   \n",
       "EMI_OSAMT_RANGE              0-10k        0-10k        0-10k        0-10k   \n",
       "NUM_EMI_CHANGES_RANGE        -5-2#        -5-2#        -5-2#        -5-2#   \n",
       "\n",
       "                             20004        20005        20006        20007  \\\n",
       "BALANCE_TENURE            180.0000     180.0000     228.0000     240.0000   \n",
       "COMPLETED_TENURE            0.0000       0.0000       0.0000       0.0000   \n",
       "EXCESS_AVAILABLE            0.4417       0.0000      35.3368       0.0000   \n",
       "FOIR                        1.0850       0.5900       0.7400       0.8900   \n",
       "NET_RECEIVABLE             -0.4417       0.0000     -35.3368       0.0000   \n",
       "OUTSTANDING_PRINCIPAL 9234630.1661 7374800.3454 4744094.7280 9234630.1661   \n",
       "PAID_INTEREST           40395.3661       0.0000       0.0000   13813.4227   \n",
       "PAID_PRINCIPAL              0.0000       0.0000       0.0000       0.0000   \n",
       "PRE_EMI_DUEAMT          59425.5087       0.0000       0.0000   20320.8870   \n",
       "FORECLOSURE                      0            0            0            0   \n",
       "DPD_RANGE                      0-1          0-1          0-1          0-1   \n",
       "EMI_OSAMT_RANGE              0-10k        0-10k        0-10k        0-10k   \n",
       "NUM_EMI_CHANGES_RANGE        -5-2#        -5-2#        -5-2#        -5-2#   \n",
       "\n",
       "                             20008        20009        20010        20011  \n",
       "BALANCE_TENURE            240.0000      96.0000      60.0000     120.0000  \n",
       "COMPLETED_TENURE            0.0000       0.0000       0.0000       0.0000  \n",
       "EXCESS_AVAILABLE            0.0000       0.0000       0.0000       0.0000  \n",
       "FOIR                        0.5600       0.6400       0.5400       0.2700  \n",
       "NET_RECEIVABLE              0.0000       0.0000       0.0000       0.0000  \n",
       "OUTSTANDING_PRINCIPAL 2299950.6358 9234630.1661 9234630.1661 9234630.1661  \n",
       "PAID_INTEREST               0.0000       0.0000       0.0000       0.0000  \n",
       "PAID_PRINCIPAL              0.0000       0.0000       0.0000       0.0000  \n",
       "PRE_EMI_DUEAMT              0.0000       0.0000       0.0000       0.0000  \n",
       "FORECLOSURE                      0            0            0            0  \n",
       "DPD_RANGE                      0-1          0-1          0-1          0-1  \n",
       "EMI_OSAMT_RANGE              0-10k        0-10k        0-10k        0-10k  \n",
       "NUM_EMI_CHANGES_RANGE        -5-2#        -5-2#        -5-2#        -5-2#  \n",
       "\n",
       "[13 rows x 20012 columns]"
      ]
     },
     "execution_count": 75,
     "metadata": {},
     "output_type": "execute_result"
    }
   ],
   "source": [
    "df4.describe().include='all'\n",
    "df4.transpose()"
   ]
  },
  {
   "cell_type": "code",
   "execution_count": 76,
   "metadata": {},
   "outputs": [
    {
     "name": "stdout",
     "output_type": "stream",
     "text": [
      "<class 'pandas.core.frame.DataFrame'>\n",
      "Int64Index: 20012 entries, 0 to 20011\n",
      "Data columns (total 13 columns):\n",
      " #   Column                 Non-Null Count  Dtype   \n",
      "---  ------                 --------------  -----   \n",
      " 0   BALANCE_TENURE         20012 non-null  float64 \n",
      " 1   COMPLETED_TENURE       20012 non-null  float64 \n",
      " 2   EXCESS_AVAILABLE       20012 non-null  float64 \n",
      " 3   FOIR                   20012 non-null  float64 \n",
      " 4   NET_RECEIVABLE         20012 non-null  float64 \n",
      " 5   OUTSTANDING_PRINCIPAL  20012 non-null  float64 \n",
      " 6   PAID_INTEREST          20012 non-null  float64 \n",
      " 7   PAID_PRINCIPAL         20012 non-null  float64 \n",
      " 8   PRE_EMI_DUEAMT         20012 non-null  float64 \n",
      " 9   FORECLOSURE            20012 non-null  int64   \n",
      " 10  DPD_RANGE              20012 non-null  category\n",
      " 11  EMI_OSAMT_RANGE        20012 non-null  category\n",
      " 12  NUM_EMI_CHANGES_RANGE  20012 non-null  category\n",
      "dtypes: category(3), float64(9), int64(1)\n",
      "memory usage: 2.4 MB\n"
     ]
    }
   ],
   "source": [
    "df4.info()"
   ]
  },
  {
   "cell_type": "code",
   "execution_count": 77,
   "metadata": {},
   "outputs": [
    {
     "data": {
      "text/plain": [
       "<matplotlib.axes._subplots.AxesSubplot at 0x17f9307ae50>"
      ]
     },
     "execution_count": 77,
     "metadata": {},
     "output_type": "execute_result"
    },
    {
     "data": {
      "image/png": "[encoded data removed]",
      "text/plain": [
       "<Figure size 720x576 with 2 Axes>"
      ]
     },
     "metadata": {
      "needs_background": "light"
     },
     "output_type": "display_data"
    }
   ],
   "source": [
    "plt.figure(figsize=(10,8))  \n",
    "sns.heatmap(df4.corr(), annot=True,cmap='coolwarm',square=True)"
   ]
  },
  {
   "cell_type": "code",
   "execution_count": 78,
   "metadata": {},
   "outputs": [
    {
     "data": {
      "text/plain": [
       "<matplotlib.axes._subplots.AxesSubplot at 0x17f955d81c0>"
      ]
     },
     "execution_count": 78,
     "metadata": {},
     "output_type": "execute_result"
    },
    {
     "data": {
      "image/png": "[encoded data removed]",
      "text/plain": [
       "<Figure size 1080x360 with 1 Axes>"
      ]
     },
     "metadata": {
      "needs_background": "light"
     },
     "output_type": "display_data"
    }
   ],
   "source": [
    "#Bivariate Analysis of final column variables vs Foreclosure Variable\n",
    "plt.figure(figsize = (15, 5))\n",
    "plt.subplot(1,2,1)\n",
    "sns.boxplot(df4['FORECLOSURE'], df4['BALANCE_TENURE'])"
   ]
  },
  {
   "cell_type": "code",
   "execution_count": 79,
   "metadata": {},
   "outputs": [
    {
     "data": {
      "text/plain": [
       "<matplotlib.axes._subplots.AxesSubplot at 0x17f94b73340>"
      ]
     },
     "execution_count": 79,
     "metadata": {},
     "output_type": "execute_result"
    },
    {
     "data": {
      "image/png": "[encoded data removed]",
      "text/plain": [
       "<Figure size 1080x360 with 1 Axes>"
      ]
     },
     "metadata": {
      "needs_background": "light"
     },
     "output_type": "display_data"
    }
   ],
   "source": [
    "plt.figure(figsize = (15, 5))\n",
    "plt.subplot(1,2,1)\n",
    "sns.boxplot(df4['FORECLOSURE'], df4['COMPLETED_TENURE'])"
   ]
  },
  {
   "cell_type": "code",
   "execution_count": 80,
   "metadata": {},
   "outputs": [
    {
     "data": {
      "text/plain": [
       "<matplotlib.axes._subplots.AxesSubplot at 0x17f94fba9d0>"
      ]
     },
     "execution_count": 80,
     "metadata": {},
     "output_type": "execute_result"
    },
    {
     "data": {
      "image/png": "[encoded data removed]",
      "text/plain": [
       "<Figure size 1080x360 with 1 Axes>"
      ]
     },
     "metadata": {
      "needs_background": "light"
     },
     "output_type": "display_data"
    }
   ],
   "source": [
    "plt.figure(figsize = (15, 5))\n",
    "plt.subplot(1,2,1)\n",
    "sns.boxplot(df4['FORECLOSURE'], df4['EXCESS_AVAILABLE'])"
   ]
  },
  {
   "cell_type": "code",
   "execution_count": 81,
   "metadata": {},
   "outputs": [
    {
     "data": {
      "text/plain": [
       "<matplotlib.axes._subplots.AxesSubplot at 0x17f93de3af0>"
      ]
     },
     "execution_count": 81,
     "metadata": {},
     "output_type": "execute_result"
    },
    {
     "data": {
      "image/png": "[encoded data removed]",
      "text/plain": [
       "<Figure size 1080x360 with 1 Axes>"
      ]
     },
     "metadata": {
      "needs_background": "light"
     },
     "output_type": "display_data"
    }
   ],
   "source": [
    "plt.figure(figsize = (15, 5))\n",
    "plt.subplot(1,2,1)\n",
    "sns.boxplot(df4['FORECLOSURE'], df4['FOIR'])"
   ]
  },
  {
   "cell_type": "code",
   "execution_count": 82,
   "metadata": {},
   "outputs": [
    {
     "data": {
      "text/plain": [
       "<matplotlib.axes._subplots.AxesSubplot at 0x17f9364bd30>"
      ]
     },
     "execution_count": 82,
     "metadata": {},
     "output_type": "execute_result"
    },
    {
     "data": {
      "image/png": "[encoded data removed]",
      "text/plain": [
       "<Figure size 1080x360 with 1 Axes>"
      ]
     },
     "metadata": {
      "needs_background": "light"
     },
     "output_type": "display_data"
    }
   ],
   "source": [
    "plt.figure(figsize = (15, 5))\n",
    "plt.subplot(1,2,1)\n",
    "sns.boxplot(df4['FORECLOSURE'], df4['NET_RECEIVABLE'])"
   ]
  },
  {
   "cell_type": "code",
   "execution_count": 83,
   "metadata": {},
   "outputs": [
    {
     "data": {
      "text/plain": [
       "<matplotlib.axes._subplots.AxesSubplot at 0x17f939b47f0>"
      ]
     },
     "execution_count": 83,
     "metadata": {},
     "output_type": "execute_result"
    },
    {
     "data": {
      "image/png": "[encoded data removed]",
      "text/plain": [
       "<Figure size 1080x360 with 1 Axes>"
      ]
     },
     "metadata": {
      "needs_background": "light"
     },
     "output_type": "display_data"
    }
   ],
   "source": [
    "plt.figure(figsize = (15, 5))\n",
    "plt.subplot(1,2,1)\n",
    "sns.boxplot(df4['FORECLOSURE'], df4['OUTSTANDING_PRINCIPAL'])"
   ]
  },
  {
   "cell_type": "code",
   "execution_count": 84,
   "metadata": {},
   "outputs": [
    {
     "data": {
      "text/plain": [
       "<matplotlib.axes._subplots.AxesSubplot at 0x17f93ad28b0>"
      ]
     },
     "execution_count": 84,
     "metadata": {},
     "output_type": "execute_result"
    },
    {
     "data": {
      "image/png": "[encoded data removed]",
      "text/plain": [
       "<Figure size 1080x360 with 1 Axes>"
      ]
     },
     "metadata": {
      "needs_background": "light"
     },
     "output_type": "display_data"
    }
   ],
   "source": [
    "plt.figure(figsize = (15, 5))\n",
    "plt.subplot(1,2,1)\n",
    "sns.boxplot(df4['FORECLOSURE'], df4['PAID_INTEREST'])"
   ]
  },
  {
   "cell_type": "code",
   "execution_count": 85,
   "metadata": {},
   "outputs": [
    {
     "data": {
      "text/plain": [
       "<matplotlib.axes._subplots.AxesSubplot at 0x17f94fb3c70>"
      ]
     },
     "execution_count": 85,
     "metadata": {},
     "output_type": "execute_result"
    },
    {
     "data": {
      "image/png": "[encoded data removed]",
      "text/plain": [
       "<Figure size 1080x360 with 1 Axes>"
      ]
     },
     "metadata": {
      "needs_background": "light"
     },
     "output_type": "display_data"
    }
   ],
   "source": [
    "plt.figure(figsize = (15, 5))\n",
    "plt.subplot(1,2,1)\n",
    "sns.boxplot(df4['FORECLOSURE'], df4['PAID_PRINCIPAL'])"
   ]
  },
  {
   "cell_type": "code",
   "execution_count": 86,
   "metadata": {},
   "outputs": [
    {
     "data": {
      "text/plain": [
       "<matplotlib.axes._subplots.AxesSubplot at 0x17f95284a30>"
      ]
     },
     "execution_count": 86,
     "metadata": {},
     "output_type": "execute_result"
    },
    {
     "data": {
      "image/png": "[encoded data removed]",
      "text/plain": [
       "<Figure size 1080x360 with 1 Axes>"
      ]
     },
     "metadata": {
      "needs_background": "light"
     },
     "output_type": "display_data"
    }
   ],
   "source": [
    "plt.figure(figsize = (15, 5))\n",
    "plt.subplot(1,2,1)\n",
    "sns.boxplot(df4['FORECLOSURE'], df4['PRE_EMI_DUEAMT'])"
   ]
  },
  {
   "cell_type": "code",
   "execution_count": 87,
   "metadata": {},
   "outputs": [
    {
     "name": "stdout",
     "output_type": "stream",
     "text": [
      "(20012, 13)\n"
     ]
    }
   ],
   "source": [
    "#Final Variables for modelling\n",
    "df5=df4.copy()\n",
    "# final_vars=['COMPLETED_TENURE','NUM_EMI_CHANGES','PAID_INTEREST','BALANCE_TENURE','PRE_EMI_DUEAMT','OUTSTANDING_PRINCIPAL','PAID_PRINCIPAL','EXCESS_AVAILABLE','EMI_OS_AMOUNT','DPD','NET_RECEIVABLE','FOIR','FORECLOSURE']\n",
    "# df5=df5[final_vars]\n",
    "print(df5.shape)"
   ]
  },
  {
   "cell_type": "code",
   "execution_count": 88,
   "metadata": {},
   "outputs": [
    {
     "data": {
      "text/plain": [
       "BALANCE_TENURE            float64\n",
       "COMPLETED_TENURE          float64\n",
       "EXCESS_AVAILABLE          float64\n",
       "FOIR                      float64\n",
       "NET_RECEIVABLE            float64\n",
       "OUTSTANDING_PRINCIPAL     float64\n",
       "PAID_INTEREST             float64\n",
       "PAID_PRINCIPAL            float64\n",
       "PRE_EMI_DUEAMT            float64\n",
       "FORECLOSURE                 int64\n",
       "DPD_RANGE                category\n",
       "EMI_OSAMT_RANGE          category\n",
       "NUM_EMI_CHANGES_RANGE    category\n",
       "dtype: object"
      ]
     },
     "execution_count": 88,
     "metadata": {},
     "output_type": "execute_result"
    }
   ],
   "source": [
    "df5.dtypes"
   ]
  },
  {
   "cell_type": "code",
   "execution_count": 89,
   "metadata": {},
   "outputs": [
    {
     "name": "stdout",
     "output_type": "stream",
     "text": [
      "0    18770\n",
      "1      605\n",
      "2      239\n",
      "4      224\n",
      "3      174\n",
      "Name: DPD_RANGE_CAT, dtype: int64\n",
      "0    18776\n",
      "2      571\n",
      "1      408\n",
      "3      257\n",
      "Name: EMI_OSAMT_RANGE_CAT, dtype: int64\n",
      "0    11796\n",
      "1     5859\n",
      "2     2357\n",
      "Name: NUM_EMI_CHANGES_RANGE_CAT, dtype: int64\n"
     ]
    }
   ],
   "source": [
    "#Hot encoding\n",
    "'''\n",
    "Converting all Category Dtypes to integers using CAT.codes\n",
    "'''\n",
    "df5['DPD_RANGE_CAT'] = df5['DPD_RANGE'].cat.codes\n",
    "print(df5['DPD_RANGE_CAT'].value_counts())\n",
    "df5['EMI_OSAMT_RANGE_CAT'] = df5['EMI_OSAMT_RANGE'].cat.codes\n",
    "print(df5['EMI_OSAMT_RANGE_CAT'].value_counts())\n",
    "df5['NUM_EMI_CHANGES_RANGE_CAT'] = df5['NUM_EMI_CHANGES_RANGE'].cat.codes\n",
    "print(df5['NUM_EMI_CHANGES_RANGE_CAT'].value_counts())\n"
   ]
  },
  {
   "cell_type": "code",
   "execution_count": 90,
   "metadata": {},
   "outputs": [
    {
     "name": "stdout",
     "output_type": "stream",
     "text": [
      "(20012, 16)\n",
      "(20012, 13)\n"
     ]
    }
   ],
   "source": [
    "print(df5.shape)\n",
    "df5=df5.drop(columns=['DPD_RANGE','EMI_OSAMT_RANGE','NUM_EMI_CHANGES_RANGE'],axis=1)\n",
    "print(df5.shape)"
   ]
  },
  {
   "cell_type": "code",
   "execution_count": 92,
   "metadata": {},
   "outputs": [
    {
     "data": {
      "text/plain": [
       "(20012, 13)"
      ]
     },
     "execution_count": 92,
     "metadata": {},
     "output_type": "execute_result"
    }
   ],
   "source": [
    "#Clustering\n",
    "\n",
    "df5.shape"
   ]
  },
  {
   "cell_type": "code",
   "execution_count": 93,
   "metadata": {},
   "outputs": [],
   "source": [
    "df6=df5.copy()"
   ]
  },
  {
   "cell_type": "code",
   "execution_count": 103,
   "metadata": {},
   "outputs": [],
   "source": [
    "'''\n",
    "Creating Dendrogram to know the required number of clusters\n",
    "'''\n",
    "\n",
    "from scipy.cluster.hierarchy import dendrogram, linkage, fcluster"
   ]
  },
  {
   "cell_type": "code",
   "execution_count": 104,
   "metadata": {},
   "outputs": [],
   "source": [
    "'''Create a Linkage Method from Single/Complete/Average/Ward or Centroid'''\n",
    "\n",
    "link_method = linkage(df5,method='average')"
   ]
  },
  {
   "cell_type": "code",
   "execution_count": 105,
   "metadata": {},
   "outputs": [
    {
     "data": {
      "image/png": "[encoded data removed]",
      "text/plain": [
       "<Figure size 1080x144 with 1 Axes>"
      ]
     },
     "metadata": {
      "needs_background": "light"
     },
     "output_type": "display_data"
    }
   ],
   "source": [
    "'''Create a dendrogram'''\n",
    "d=dendrogram(link_method)"
   ]
  },
  {
   "cell_type": "code",
   "execution_count": 106,
   "metadata": {},
   "outputs": [
    {
     "data": {
      "image/png": "[encoded data removed]",
      "text/plain": [
       "<Figure size 1080x144 with 1 Axes>"
      ]
     },
     "metadata": {
      "needs_background": "light"
     },
     "output_type": "display_data"
    }
   ],
   "source": [
    "'''Cutting the dendogram'''\n",
    "d=dendrogram(link_method,truncate_mode='level', p=4)"
   ]
  },
  {
   "cell_type": "code",
   "execution_count": 107,
   "metadata": {},
   "outputs": [
    {
     "data": {
      "text/plain": [
       "array([1, 2, 1, ..., 2, 2, 2], dtype=int32)"
      ]
     },
     "execution_count": 107,
     "metadata": {},
     "output_type": "execute_result"
    }
   ],
   "source": [
    "'''Creating fcluster using fcluster module'''\n",
    "clusters = fcluster(link_method,4,criterion='maxclust')\n",
    "clusters"
   ]
  },
  {
   "cell_type": "code",
   "execution_count": 108,
   "metadata": {},
   "outputs": [
    {
     "data": {
      "text/html": [
       "<div>\n",
       "<style scoped>\n",
       "    .dataframe tbody tr th:only-of-type {\n",
       "        vertical-align: middle;\n",
       "    }\n",
       "\n",
       "    .dataframe tbody tr th {\n",
       "        vertical-align: top;\n",
       "    }\n",
       "\n",
       "    .dataframe thead th {\n",
       "        text-align: right;\n",
       "    }\n",
       "</style>\n",
       "<table border=\"1\" class=\"dataframe\">\n",
       "  <thead>\n",
       "    <tr style=\"text-align: right;\">\n",
       "      <th></th>\n",
       "      <th>BALANCE_TENURE</th>\n",
       "      <th>COMPLETED_TENURE</th>\n",
       "      <th>EXCESS_AVAILABLE</th>\n",
       "      <th>FOIR</th>\n",
       "      <th>NET_RECEIVABLE</th>\n",
       "      <th>OUTSTANDING_PRINCIPAL</th>\n",
       "      <th>PAID_INTEREST</th>\n",
       "      <th>PAID_PRINCIPAL</th>\n",
       "      <th>PRE_EMI_DUEAMT</th>\n",
       "      <th>FORECLOSURE</th>\n",
       "      <th>DPD_RANGE_CAT</th>\n",
       "      <th>EMI_OSAMT_RANGE_CAT</th>\n",
       "      <th>NUM_EMI_CHANGES_RANGE_CAT</th>\n",
       "      <th>Agg_Cname_NoScaling</th>\n",
       "    </tr>\n",
       "  </thead>\n",
       "  <tbody>\n",
       "    <tr>\n",
       "      <th>0</th>\n",
       "      <td>16.0000</td>\n",
       "      <td>45.0000</td>\n",
       "      <td>7762.5219</td>\n",
       "      <td>0.6000</td>\n",
       "      <td>26.5026</td>\n",
       "      <td>116447.2281</td>\n",
       "      <td>1800672.0104</td>\n",
       "      <td>694324.9114</td>\n",
       "      <td>7994.2736</td>\n",
       "      <td>1</td>\n",
       "      <td>0</td>\n",
       "      <td>2</td>\n",
       "      <td>0</td>\n",
       "      <td>1</td>\n",
       "    </tr>\n",
       "    <tr>\n",
       "      <th>1</th>\n",
       "      <td>99.0000</td>\n",
       "      <td>38.0000</td>\n",
       "      <td>0.0000</td>\n",
       "      <td>0.6000</td>\n",
       "      <td>26.5026</td>\n",
       "      <td>9234630.1661</td>\n",
       "      <td>1800672.0104</td>\n",
       "      <td>694324.9114</td>\n",
       "      <td>72544.5836</td>\n",
       "      <td>1</td>\n",
       "      <td>0</td>\n",
       "      <td>2</td>\n",
       "      <td>0</td>\n",
       "      <td>2</td>\n",
       "    </tr>\n",
       "    <tr>\n",
       "      <th>2</th>\n",
       "      <td>231.0000</td>\n",
       "      <td>53.5000</td>\n",
       "      <td>7762.5219</td>\n",
       "      <td>0.7200</td>\n",
       "      <td>0.0000</td>\n",
       "      <td>2994183.5178</td>\n",
       "      <td>1800672.0104</td>\n",
       "      <td>694324.9114</td>\n",
       "      <td>5947.6305</td>\n",
       "      <td>1</td>\n",
       "      <td>0</td>\n",
       "      <td>0</td>\n",
       "      <td>0</td>\n",
       "      <td>1</td>\n",
       "    </tr>\n",
       "    <tr>\n",
       "      <th>3</th>\n",
       "      <td>16.0000</td>\n",
       "      <td>53.5000</td>\n",
       "      <td>7762.5219</td>\n",
       "      <td>0.6000</td>\n",
       "      <td>26.5026</td>\n",
       "      <td>42951.2021</td>\n",
       "      <td>1800672.0104</td>\n",
       "      <td>694324.9114</td>\n",
       "      <td>60322.1808</td>\n",
       "      <td>1</td>\n",
       "      <td>0</td>\n",
       "      <td>2</td>\n",
       "      <td>1</td>\n",
       "      <td>1</td>\n",
       "    </tr>\n",
       "    <tr>\n",
       "      <th>4</th>\n",
       "      <td>215.0000</td>\n",
       "      <td>53.5000</td>\n",
       "      <td>7762.5219</td>\n",
       "      <td>0.8300</td>\n",
       "      <td>0.0000</td>\n",
       "      <td>7200652.6148</td>\n",
       "      <td>1800672.0104</td>\n",
       "      <td>555284.6979</td>\n",
       "      <td>27732.7875</td>\n",
       "      <td>1</td>\n",
       "      <td>0</td>\n",
       "      <td>0</td>\n",
       "      <td>0</td>\n",
       "      <td>3</td>\n",
       "    </tr>\n",
       "    <tr>\n",
       "      <th>...</th>\n",
       "      <td>...</td>\n",
       "      <td>...</td>\n",
       "      <td>...</td>\n",
       "      <td>...</td>\n",
       "      <td>...</td>\n",
       "      <td>...</td>\n",
       "      <td>...</td>\n",
       "      <td>...</td>\n",
       "      <td>...</td>\n",
       "      <td>...</td>\n",
       "      <td>...</td>\n",
       "      <td>...</td>\n",
       "      <td>...</td>\n",
       "      <td>...</td>\n",
       "    </tr>\n",
       "    <tr>\n",
       "      <th>20007</th>\n",
       "      <td>240.0000</td>\n",
       "      <td>0.0000</td>\n",
       "      <td>0.0000</td>\n",
       "      <td>0.8900</td>\n",
       "      <td>0.0000</td>\n",
       "      <td>9234630.1661</td>\n",
       "      <td>13813.4227</td>\n",
       "      <td>0.0000</td>\n",
       "      <td>20320.8870</td>\n",
       "      <td>0</td>\n",
       "      <td>0</td>\n",
       "      <td>0</td>\n",
       "      <td>0</td>\n",
       "      <td>2</td>\n",
       "    </tr>\n",
       "    <tr>\n",
       "      <th>20008</th>\n",
       "      <td>240.0000</td>\n",
       "      <td>0.0000</td>\n",
       "      <td>0.0000</td>\n",
       "      <td>0.5600</td>\n",
       "      <td>0.0000</td>\n",
       "      <td>2299950.6358</td>\n",
       "      <td>0.0000</td>\n",
       "      <td>0.0000</td>\n",
       "      <td>0.0000</td>\n",
       "      <td>0</td>\n",
       "      <td>0</td>\n",
       "      <td>0</td>\n",
       "      <td>0</td>\n",
       "      <td>1</td>\n",
       "    </tr>\n",
       "    <tr>\n",
       "      <th>20009</th>\n",
       "      <td>96.0000</td>\n",
       "      <td>0.0000</td>\n",
       "      <td>0.0000</td>\n",
       "      <td>0.6400</td>\n",
       "      <td>0.0000</td>\n",
       "      <td>9234630.1661</td>\n",
       "      <td>0.0000</td>\n",
       "      <td>0.0000</td>\n",
       "      <td>0.0000</td>\n",
       "      <td>0</td>\n",
       "      <td>0</td>\n",
       "      <td>0</td>\n",
       "      <td>0</td>\n",
       "      <td>2</td>\n",
       "    </tr>\n",
       "    <tr>\n",
       "      <th>20010</th>\n",
       "      <td>60.0000</td>\n",
       "      <td>0.0000</td>\n",
       "      <td>0.0000</td>\n",
       "      <td>0.5400</td>\n",
       "      <td>0.0000</td>\n",
       "      <td>9234630.1661</td>\n",
       "      <td>0.0000</td>\n",
       "      <td>0.0000</td>\n",
       "      <td>0.0000</td>\n",
       "      <td>0</td>\n",
       "      <td>0</td>\n",
       "      <td>0</td>\n",
       "      <td>0</td>\n",
       "      <td>2</td>\n",
       "    </tr>\n",
       "    <tr>\n",
       "      <th>20011</th>\n",
       "      <td>120.0000</td>\n",
       "      <td>0.0000</td>\n",
       "      <td>0.0000</td>\n",
       "      <td>0.2700</td>\n",
       "      <td>0.0000</td>\n",
       "      <td>9234630.1661</td>\n",
       "      <td>0.0000</td>\n",
       "      <td>0.0000</td>\n",
       "      <td>0.0000</td>\n",
       "      <td>0</td>\n",
       "      <td>0</td>\n",
       "      <td>0</td>\n",
       "      <td>0</td>\n",
       "      <td>2</td>\n",
       "    </tr>\n",
       "  </tbody>\n",
       "</table>\n",
       "<p>20012 rows × 14 columns</p>\n",
       "</div>"
      ],
      "text/plain": [
       "       BALANCE_TENURE  COMPLETED_TENURE  EXCESS_AVAILABLE   FOIR  \\\n",
       "0             16.0000           45.0000         7762.5219 0.6000   \n",
       "1             99.0000           38.0000            0.0000 0.6000   \n",
       "2            231.0000           53.5000         7762.5219 0.7200   \n",
       "3             16.0000           53.5000         7762.5219 0.6000   \n",
       "4            215.0000           53.5000         7762.5219 0.8300   \n",
       "...               ...               ...               ...    ...   \n",
       "20007        240.0000            0.0000            0.0000 0.8900   \n",
       "20008        240.0000            0.0000            0.0000 0.5600   \n",
       "20009         96.0000            0.0000            0.0000 0.6400   \n",
       "20010         60.0000            0.0000            0.0000 0.5400   \n",
       "20011        120.0000            0.0000            0.0000 0.2700   \n",
       "\n",
       "       NET_RECEIVABLE  OUTSTANDING_PRINCIPAL  PAID_INTEREST  PAID_PRINCIPAL  \\\n",
       "0             26.5026            116447.2281   1800672.0104     694324.9114   \n",
       "1             26.5026           9234630.1661   1800672.0104     694324.9114   \n",
       "2              0.0000           2994183.5178   1800672.0104     694324.9114   \n",
       "3             26.5026             42951.2021   1800672.0104     694324.9114   \n",
       "4              0.0000           7200652.6148   1800672.0104     555284.6979   \n",
       "...               ...                    ...            ...             ...   \n",
       "20007          0.0000           9234630.1661     13813.4227          0.0000   \n",
       "20008          0.0000           2299950.6358         0.0000          0.0000   \n",
       "20009          0.0000           9234630.1661         0.0000          0.0000   \n",
       "20010          0.0000           9234630.1661         0.0000          0.0000   \n",
       "20011          0.0000           9234630.1661         0.0000          0.0000   \n",
       "\n",
       "       PRE_EMI_DUEAMT  FORECLOSURE  DPD_RANGE_CAT  EMI_OSAMT_RANGE_CAT  \\\n",
       "0           7994.2736            1              0                    2   \n",
       "1          72544.5836            1              0                    2   \n",
       "2           5947.6305            1              0                    0   \n",
       "3          60322.1808            1              0                    2   \n",
       "4          27732.7875            1              0                    0   \n",
       "...               ...          ...            ...                  ...   \n",
       "20007      20320.8870            0              0                    0   \n",
       "20008          0.0000            0              0                    0   \n",
       "20009          0.0000            0              0                    0   \n",
       "20010          0.0000            0              0                    0   \n",
       "20011          0.0000            0              0                    0   \n",
       "\n",
       "       NUM_EMI_CHANGES_RANGE_CAT  Agg_Cname_NoScaling  \n",
       "0                              0                    1  \n",
       "1                              0                    2  \n",
       "2                              0                    1  \n",
       "3                              1                    1  \n",
       "4                              0                    3  \n",
       "...                          ...                  ...  \n",
       "20007                          0                    2  \n",
       "20008                          0                    1  \n",
       "20009                          0                    2  \n",
       "20010                          0                    2  \n",
       "20011                          0                    2  \n",
       "\n",
       "[20012 rows x 14 columns]"
      ]
     },
     "execution_count": 108,
     "metadata": {},
     "output_type": "execute_result"
    }
   ],
   "source": [
    "'''Merging Cluster name back to the original dataset'''\n",
    "df5['Agg_Cname_NoScaling'] = clusters\n",
    "df5"
   ]
  },
  {
   "cell_type": "code",
   "execution_count": 110,
   "metadata": {},
   "outputs": [
    {
     "data": {
      "text/plain": [
       "array([3, 0, 1, ..., 0, 0, 0])"
      ]
     },
     "execution_count": 110,
     "metadata": {},
     "output_type": "execute_result"
    }
   ],
   "source": [
    "'''K-Means Clustering'''\n",
    "from sklearn.cluster import KMeans\n",
    "\n",
    "k_means = KMeans(n_clusters = 4)\n",
    "k_means.fit(df5)\n",
    "labels = k_means.labels_\n",
    "labels"
   ]
  },
  {
   "cell_type": "code",
   "execution_count": 111,
   "metadata": {},
   "outputs": [
    {
     "data": {
      "text/plain": [
       "1.6133009239818848e+17"
      ]
     },
     "execution_count": 111,
     "metadata": {},
     "output_type": "execute_result"
    }
   ],
   "source": [
    "'''WSS(within cluster sum of squares) - Scree Plot'''\n",
    "k_means = KMeans(n_clusters = 1)\n",
    "k_means.fit(df5)\n",
    "k_means.inertia_"
   ]
  },
  {
   "cell_type": "code",
   "execution_count": 112,
   "metadata": {},
   "outputs": [
    {
     "data": {
      "text/plain": [
       "3.5756752386658e+16"
      ]
     },
     "execution_count": 112,
     "metadata": {},
     "output_type": "execute_result"
    }
   ],
   "source": [
    "k_means = KMeans(n_clusters = 2)\n",
    "k_means.fit(df5)\n",
    "k_means.inertia_"
   ]
  },
  {
   "cell_type": "code",
   "execution_count": 113,
   "metadata": {},
   "outputs": [
    {
     "data": {
      "text/plain": [
       "1.8396045531064428e+16"
      ]
     },
     "execution_count": 113,
     "metadata": {},
     "output_type": "execute_result"
    }
   ],
   "source": [
    "k_means = KMeans(n_clusters = 3)\n",
    "k_means.fit(df5)\n",
    "k_means.inertia_"
   ]
  },
  {
   "cell_type": "code",
   "execution_count": 114,
   "metadata": {},
   "outputs": [
    {
     "data": {
      "text/plain": [
       "1.2460999411739312e+16"
      ]
     },
     "execution_count": 114,
     "metadata": {},
     "output_type": "execute_result"
    }
   ],
   "source": [
    "k_means = KMeans(n_clusters = 4)\n",
    "k_means.fit(df5)\n",
    "k_means.inertia_"
   ]
  },
  {
   "cell_type": "code",
   "execution_count": 115,
   "metadata": {},
   "outputs": [
    {
     "data": {
      "text/plain": [
       "[1.6133009239818848e+17,\n",
       " 3.575677822521065e+16,\n",
       " 1.839595226087359e+16,\n",
       " 1.2461028023630506e+16,\n",
       " 9564584048095654.0,\n",
       " 8238768504910058.0,\n",
       " 7211933304243226.0,\n",
       " 6199081611020981.0,\n",
       " 5383379407987406.0,\n",
       " 4798238614142883.0]"
      ]
     },
     "execution_count": 115,
     "metadata": {},
     "output_type": "execute_result"
    }
   ],
   "source": [
    "wss=[]\n",
    "for i in range(1,11):\n",
    "    KM=KMeans(n_clusters=i)\n",
    "    KM.fit(df5)\n",
    "    wss.append(KM.inertia_)\n",
    "wss"
   ]
  },
  {
   "cell_type": "code",
   "execution_count": 116,
   "metadata": {},
   "outputs": [
    {
     "data": {
      "text/plain": [
       "[<matplotlib.lines.Line2D at 0x17a962dfd30>]"
      ]
     },
     "execution_count": 116,
     "metadata": {},
     "output_type": "execute_result"
    },
    {
     "data": {
      "image/png": "[encoded data removed]",
      "text/plain": [
       "<Figure size 1080x144 with 1 Axes>"
      ]
     },
     "metadata": {
      "needs_background": "light"
     },
     "output_type": "display_data"
    }
   ],
   "source": [
    "plt.plot(range(1,11),wss)"
   ]
  },
  {
   "cell_type": "code",
   "execution_count": null,
   "metadata": {},
   "outputs": [],
   "source": [
    "'''Creating Silhoeutte score for 4 clusters'''\n",
    "k_means = KMeans(n_clusters = 4)\n",
    "k_means.fit(df5)\n",
    "labels = k_means.labels_\n",
    "from sklearn.metrics import silhouette_samples,silhouette_score\n",
    "silhouette_score(df5,labels)"
   ]
  },
  {
   "cell_type": "code",
   "execution_count": null,
   "metadata": {},
   "outputs": [],
   "source": [
    "# 3 clusters are final clusters, the silhouette score reduced for cluster\n",
    "df5['Kmean_Clustername'] = labels\n",
    "df5.head()"
   ]
  },
  {
   "cell_type": "code",
   "execution_count": 94,
   "metadata": {},
   "outputs": [],
   "source": [
    "'''Scaling data and Checking Dendrogram'''\n",
    "from sklearn.preprocessing import MinMaxScaler, StandardScaler\n",
    "# scaler = MinMaxScaler()\n",
    "scaler = StandardScaler()"
   ]
  },
  {
   "cell_type": "code",
   "execution_count": 95,
   "metadata": {},
   "outputs": [],
   "source": [
    "df6_scaled = pd.DataFrame(scaler.fit_transform(df6), columns=df6.columns)\n"
   ]
  },
  {
   "cell_type": "code",
   "execution_count": 96,
   "metadata": {},
   "outputs": [
    {
     "data": {
      "image/png": "[encoded data removed]",
      "text/plain": [
       "<Figure size 1080x144 with 1 Axes>"
      ]
     },
     "metadata": {
      "needs_background": "light"
     },
     "output_type": "display_data"
    }
   ],
   "source": [
    "from scipy.cluster.hierarchy import dendrogram, linkage, fcluster\n",
    "link_method = linkage(df6_scaled,method='average')\n",
    "d=dendrogram(link_method,truncate_mode='level', p=4)\n",
    "clusters = fcluster(link_method,4,criterion='maxclust')\n",
    "df6_scaled['Agg_Cname_afterScaling'] = clusters"
   ]
  },
  {
   "cell_type": "code",
   "execution_count": 98,
   "metadata": {},
   "outputs": [],
   "source": [
    "'''K-Means Clustering'''\n",
    "from sklearn.cluster import KMeans"
   ]
  },
  {
   "cell_type": "code",
   "execution_count": 99,
   "metadata": {},
   "outputs": [
    {
     "data": {
      "text/plain": [
       "262743.1398660813"
      ]
     },
     "execution_count": 99,
     "metadata": {},
     "output_type": "execute_result"
    }
   ],
   "source": [
    "'''WSS(within cluster sum of squares) - Scree Plot'''\n",
    "k_means = KMeans(n_clusters = 1)\n",
    "k_means.fit(df6_scaled)\n",
    "k_means.inertia_"
   ]
  },
  {
   "cell_type": "code",
   "execution_count": 100,
   "metadata": {},
   "outputs": [
    {
     "data": {
      "text/plain": [
       "210553.88996639443"
      ]
     },
     "execution_count": 100,
     "metadata": {},
     "output_type": "execute_result"
    }
   ],
   "source": [
    "k_means = KMeans(n_clusters = 2)\n",
    "k_means.fit(df6_scaled)\n",
    "k_means.inertia_"
   ]
  },
  {
   "cell_type": "code",
   "execution_count": 101,
   "metadata": {},
   "outputs": [
    {
     "data": {
      "text/plain": [
       "176960.2084355325"
      ]
     },
     "execution_count": 101,
     "metadata": {},
     "output_type": "execute_result"
    }
   ],
   "source": [
    "k_means = KMeans(n_clusters = 3)\n",
    "k_means.fit(df6_scaled)\n",
    "k_means.inertia_"
   ]
  },
  {
   "cell_type": "code",
   "execution_count": 102,
   "metadata": {},
   "outputs": [
    {
     "data": {
      "text/plain": [
       "158397.97556645842"
      ]
     },
     "execution_count": 102,
     "metadata": {},
     "output_type": "execute_result"
    }
   ],
   "source": [
    "k_means = KMeans(n_clusters = 4)\n",
    "k_means.fit(df6_scaled)\n",
    "k_means.inertia_"
   ]
  },
  {
   "cell_type": "code",
   "execution_count": 103,
   "metadata": {},
   "outputs": [
    {
     "data": {
      "text/plain": [
       "145069.8197643964"
      ]
     },
     "execution_count": 103,
     "metadata": {},
     "output_type": "execute_result"
    }
   ],
   "source": [
    "k_means = KMeans(n_clusters = 5)\n",
    "k_means.fit(df6_scaled)\n",
    "k_means.inertia_"
   ]
  },
  {
   "cell_type": "code",
   "execution_count": 104,
   "metadata": {},
   "outputs": [
    {
     "data": {
      "text/plain": [
       "[262743.13986608124,\n",
       " 210553.98193253833,\n",
       " 176960.15930203316,\n",
       " 158398.04537058593,\n",
       " 145070.32398546138,\n",
       " 135364.5947668224,\n",
       " 127229.82915943465,\n",
       " 120242.25530448368,\n",
       " 114610.22023738034,\n",
       " 109884.5854514852]"
      ]
     },
     "execution_count": 104,
     "metadata": {},
     "output_type": "execute_result"
    }
   ],
   "source": [
    "wss=[]\n",
    "for i in range(1,11):\n",
    "    KM=KMeans(n_clusters=i)\n",
    "    KM.fit(df6_scaled)\n",
    "    wss.append(KM.inertia_)\n",
    "wss"
   ]
  },
  {
   "cell_type": "code",
   "execution_count": 105,
   "metadata": {},
   "outputs": [
    {
     "data": {
      "text/plain": [
       "[<matplotlib.lines.Line2D at 0x17f93c38c10>]"
      ]
     },
     "execution_count": 105,
     "metadata": {},
     "output_type": "execute_result"
    },
    {
     "data": {
      "image/png": "[encoded data removed]",
      "text/plain": [
       "<Figure size 1080x144 with 1 Axes>"
      ]
     },
     "metadata": {
      "needs_background": "light"
     },
     "output_type": "display_data"
    }
   ],
   "source": [
    "plt.plot(range(1,11),wss)"
   ]
  }
 ],
 "metadata": {
  "kernelspec": {
   "display_name": "Python 3",
   "language": "python",
   "name": "python3"
  },
  "language_info": {
   "codemirror_mode": {
    "name": "ipython",
    "version": 3
   },
   "file_extension": ".py",
   "mimetype": "text/x-python",
   "name": "python",
   "nbconvert_exporter": "python",
   "pygments_lexer": "ipython3",
   "version": "3.7.6"
  }
 },
 "nbformat": 4,
 "nbformat_minor": 4
}
